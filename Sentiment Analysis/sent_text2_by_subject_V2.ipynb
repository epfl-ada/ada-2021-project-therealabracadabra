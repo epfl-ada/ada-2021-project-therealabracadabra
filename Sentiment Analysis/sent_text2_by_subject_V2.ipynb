{
 "cells": [
  {
   "cell_type": "markdown",
   "metadata": {},
   "source": [
    "# Text2emotion by subject"
   ]
  },
  {
   "cell_type": "markdown",
   "metadata": {},
   "source": [
    "This notebook compare the sentiments of all the quotes from Foxnews and the Ny times with the text2emotion library. Then a graphic is added to reoresent some of the results. Some of the notable discorevies on this notebook are:\n",
    "    - The emotion surprise wich seems to be the best to differenciate the two journals\n",
    "    - The subject immigration, racism and terrorism wich seem to be the bests to differenciate the two journals\n",
    "    - The impact of the subject on the values of the emotions"
   ]
  },
  {
   "cell_type": "markdown",
   "metadata": {},
   "source": [
    "# Table of contents\n",
    "1. [Text2emotion by subject](#t)\n",
    "    * 1.1 [Immigration](#imt)\n",
    "    * 1.2 [Terrorism](#tet)\n",
    "    * 1.3 [Climate Change](#cct)\n",
    "    * 1.4 [Abortion](#abt)\n",
    "    * 1.5 [Religion](#ret)\n",
    "    * 1.6 [Racism](#rat)\n",
    "    \n",
    "    \n",
    "    \n",
    "2. [Graphic](#g)"
   ]
  },
  {
   "cell_type": "code",
   "execution_count": 1,
   "metadata": {},
   "outputs": [],
   "source": [
    "import seaborn as sns\n",
    "from IPython.display import display, HTML\n",
    "import matplotlib.pyplot as plt\n",
    "import scipy.stats as stats\n",
    "import pandas as pd\n",
    "import numpy as np\n",
    "import bz2\n",
    "import json\n",
    "from urllib.parse import urlparse\n",
    "import nltk\n",
    "from nltk.sentiment import SentimentIntensityAnalyzer\n",
    "import os\n",
    "import glob\n",
    "import pickle"
   ]
  },
  {
   "cell_type": "code",
   "execution_count": 2,
   "metadata": {},
   "outputs": [],
   "source": [
    "from scipy import stats"
   ]
  },
  {
   "cell_type": "code",
   "execution_count": 3,
   "metadata": {},
   "outputs": [],
   "source": [
    "years = [2015, 2016, 2017, 2018, 2019, 2020]\n",
    "PATH = 'data/'\n",
    "df_fox = pd.DataFrame(columns=['quotation'])\n",
    "df_ny = pd.DataFrame(columns=['quotation'])\n",
    "\n",
    "for y in years:\n",
    "    df_yfox = pd.read_pickle(PATH+str(y)+'_'+'Fox_quotations.pkl')\n",
    "    df_yfox = df_yfox.to_frame()\n",
    "    df_fox = df_fox.append(df_yfox)\n",
    "    df_yNy = pd.read_pickle(PATH+str(y)+'_'+'NY_quotations.pkl')\n",
    "    df_yNy = df_yNy.to_frame()\n",
    "    df_ny = df_ny.append(df_yNy)"
   ]
  },
  {
   "cell_type": "code",
   "execution_count": 4,
   "metadata": {},
   "outputs": [],
   "source": [
    "#The chosen key words are selected here\n",
    "words_immigration = 'immigration|mexic|migrant|border|refugees'\n",
    "words_terrorism = 'shoot|gun|kill|attack|massacre|victim|terroris|arm|violen|death'\n",
    "words_ClimateChange = 'flood|greenhouse effect|CO2|global warming|pollution|glacier|ice pake melting|high temperatures|heat'\n",
    "words_abortion = 'abort|fetus'\n",
    "words_religion = 'God|Christian|Christianism|Belief|faith|prayer|commitment|islam|buddhism|hinduism|baptism|church|vatican|reincarnation|jesus'\n",
    "words_racism = 'White|Black|Black lives matter|All lives matter|discrimination|Segregation|George Floyd|Slaver|White supremacy|Klu Klux Klan|KKK|Gunshot|Trials|Police|Death sentence'"
   ]
  },
  {
   "cell_type": "markdown",
   "metadata": {},
   "source": [
    "## Text2emotion by subject<a name=\"t\"></a>"
   ]
  },
  {
   "cell_type": "code",
   "execution_count": 5,
   "metadata": {},
   "outputs": [
    {
     "name": "stderr",
     "output_type": "stream",
     "text": [
      "[nltk_data] Downloading package stopwords to C:\\Users\\François\n",
      "[nltk_data]     CHARROIN\\AppData\\Roaming\\nltk_data...\n",
      "[nltk_data]   Package stopwords is already up-to-date!\n",
      "[nltk_data] Downloading package punkt to C:\\Users\\François\n",
      "[nltk_data]     CHARROIN\\AppData\\Roaming\\nltk_data...\n",
      "[nltk_data]   Package punkt is already up-to-date!\n",
      "[nltk_data] Downloading package wordnet to C:\\Users\\François\n",
      "[nltk_data]     CHARROIN\\AppData\\Roaming\\nltk_data...\n",
      "[nltk_data]   Package wordnet is already up-to-date!\n"
     ]
    }
   ],
   "source": [
    "from collections import namedtuple\n",
    "import text2emotion as te"
   ]
  },
  {
   "cell_type": "markdown",
   "metadata": {},
   "source": [
    "## Immigration<a name=\"imt\"></a>"
   ]
  },
  {
   "cell_type": "code",
   "execution_count": 6,
   "metadata": {},
   "outputs": [],
   "source": [
    "#Creating the dataframe with all the sentiment values from the text2emotion analysis\n",
    "df_immi_t = pd.DataFrame(columns=['emotion','value','journal'])\n",
    "\n",
    "lista = [words_immigration]\n",
    "lista2 = ['immigration']\n",
    "\n",
    "\n",
    "df_fox_word = df_fox[df_fox['quotation'].str.contains([l for l in lista][0])]\n",
    "count_fox = len(df_fox_word)\n",
    "n = len(df_fox)\n",
    "\n",
    "for quotation in df_fox_word['quotation']:\n",
    "    \n",
    "    di = te.get_emotion(quotation)\n",
    "    fear = di.get('Fear')\n",
    "    happy = di.get('Happy')\n",
    "    angry = di.get('Angry')\n",
    "    surprise = di.get('Surprise')\n",
    "    sad = di.get('Sad')\n",
    "    \n",
    "    newr = pd.Series(data = {'emotion': \"fear\", 'value': fear, 'journal': \"foxnews\"}, name = 'x')\n",
    "    df_immi_t = df_immi_t.append(newr, ignore_index=True)\n",
    "    \n",
    "    newr = pd.Series(data = {'emotion': \"happy\", 'value': happy, 'journal': \"foxnews\"}, name = 'x')\n",
    "    df_immi_t = df_immi_t.append(newr, ignore_index=True)\n",
    "    \n",
    "    newr = pd.Series(data = {'emotion': \"angry\", 'value': angry, 'journal': \"foxnews\"}, name = 'x')\n",
    "    df_immi_t = df_immi_t.append(newr, ignore_index=True)\n",
    "    \n",
    "\n",
    "    newr = pd.Series(data = {'emotion': \"surprise\", 'value': surprise, 'journal': \"foxnews\"}, name = 'x')\n",
    "    df_immi_t = df_immi_t.append(newr, ignore_index=True)\n",
    "    \n",
    "    newr = pd.Series(data = {'emotion': \"sad\", 'value': sad, 'journal': \"foxnews\"}, name = 'x')\n",
    "    df_immi_t = df_immi_t.append(newr, ignore_index=True)\n",
    "    \n",
    "\n",
    "df_ny_word = df_ny[df_ny['quotation'].str.contains([l for l in lista][0])]\n",
    "count_ny = len(df_ny_word)\n",
    "m = len(df_ny)\n",
    "\n",
    "\n",
    "for quotation in df_ny_word['quotation']:\n",
    "    \n",
    "    di = te.get_emotion(quotation)\n",
    "    fear = di.get('Fear')\n",
    "    happy = di.get('Happy')\n",
    "    angry = di.get('Angry')\n",
    "    surprise = di.get('Surprise')\n",
    "    sad = di.get('Sad')\n",
    "    \n",
    "    newr = pd.Series(data = {'emotion': \"fear\", 'value': fear, 'journal': \"nytimes\"}, name = 'x')\n",
    "    df_immi_t = df_immi_t.append(newr, ignore_index=True)\n",
    "    \n",
    "    newr = pd.Series(data = {'emotion': \"happy\", 'value': happy, 'journal': \"nytimes\"}, name = 'x')\n",
    "    df_immi_t = df_immi_t.append(newr, ignore_index=True)\n",
    "    \n",
    "    newr = pd.Series(data = {'emotion': \"angry\", 'value': angry, 'journal': \"nytimes\"}, name = 'x')\n",
    "    df_immi_t = df_immi_t.append(newr, ignore_index=True)\n",
    "    \n",
    "\n",
    "    newr = pd.Series(data = {'emotion': \"surprise\", 'value': surprise, 'journal': \"nytimes\"}, name = 'x')\n",
    "    df_immi_t = df_immi_t.append(newr, ignore_index=True)\n",
    "    \n",
    "    newr = pd.Series(data = {'emotion': \"sad\", 'value': sad, 'journal': \"nytimes\"}, name = 'x')\n",
    "    df_immi_t = df_immi_t.append(newr, ignore_index=True)"
   ]
  },
  {
   "cell_type": "code",
   "execution_count": 7,
   "metadata": {},
   "outputs": [
    {
     "name": "stdout",
     "output_type": "stream",
     "text": [
      "Ttest_indResult(statistic=3.0411147616623926, pvalue=0.002361571122516187)\n",
      "Ttest_indResult(statistic=-0.11994150518408088, pvalue=0.9045312744465707)\n",
      "Ttest_indResult(statistic=-3.208466763423614, pvalue=0.001337570930271073)\n",
      "Ttest_indResult(statistic=4.321322939465131, pvalue=1.5620891043857228e-05)\n",
      "Ttest_indResult(statistic=0.36455783623529836, pvalue=0.7154472171716295)\n"
     ]
    },
    {
     "name": "stderr",
     "output_type": "stream",
     "text": [
      "C:\\Users\\François CHARROIN\\Anaconda3\\lib\\site-packages\\ipykernel_launcher.py:1: UserWarning: Boolean Series key will be reindexed to match DataFrame index.\n",
      "  \"\"\"Entry point for launching an IPython kernel.\n",
      "C:\\Users\\François CHARROIN\\Anaconda3\\lib\\site-packages\\ipykernel_launcher.py:2: UserWarning: Boolean Series key will be reindexed to match DataFrame index.\n",
      "  \n",
      "C:\\Users\\François CHARROIN\\Anaconda3\\lib\\site-packages\\ipykernel_launcher.py:3: UserWarning: Boolean Series key will be reindexed to match DataFrame index.\n",
      "  This is separate from the ipykernel package so we can avoid doing imports until\n",
      "C:\\Users\\François CHARROIN\\Anaconda3\\lib\\site-packages\\ipykernel_launcher.py:4: UserWarning: Boolean Series key will be reindexed to match DataFrame index.\n",
      "  after removing the cwd from sys.path.\n",
      "C:\\Users\\François CHARROIN\\Anaconda3\\lib\\site-packages\\ipykernel_launcher.py:5: UserWarning: Boolean Series key will be reindexed to match DataFrame index.\n",
      "  \"\"\"\n",
      "C:\\Users\\François CHARROIN\\Anaconda3\\lib\\site-packages\\ipykernel_launcher.py:6: UserWarning: Boolean Series key will be reindexed to match DataFrame index.\n",
      "  \n",
      "C:\\Users\\François CHARROIN\\Anaconda3\\lib\\site-packages\\ipykernel_launcher.py:7: UserWarning: Boolean Series key will be reindexed to match DataFrame index.\n",
      "  import sys\n",
      "C:\\Users\\François CHARROIN\\Anaconda3\\lib\\site-packages\\ipykernel_launcher.py:8: UserWarning: Boolean Series key will be reindexed to match DataFrame index.\n",
      "  \n",
      "C:\\Users\\François CHARROIN\\Anaconda3\\lib\\site-packages\\ipykernel_launcher.py:9: UserWarning: Boolean Series key will be reindexed to match DataFrame index.\n",
      "  if __name__ == '__main__':\n",
      "C:\\Users\\François CHARROIN\\Anaconda3\\lib\\site-packages\\ipykernel_launcher.py:10: UserWarning: Boolean Series key will be reindexed to match DataFrame index.\n",
      "  # Remove the CWD from sys.path while we load stuff.\n"
     ]
    }
   ],
   "source": [
    "#Doing T-tests to see if there statiscaly significant difference for the distribution of the five emotions between NYt and Foxn\n",
    "\n",
    "#First T-test is for fear\n",
    "res = stats.ttest_ind(df_immi_t[df_immi_t['journal'] == \"foxnews\"][df_immi_t['emotion'] == \"fear\"]['value'],\n",
    "                      df_immi_t[df_immi_t['journal'] == \"nytimes\"][df_immi_t['emotion'] == \"fear\"]['value'],\n",
    "                      equal_var=True)\n",
    "\n",
    "#T-test for happiness\n",
    "res2 = stats.ttest_ind(df_immi_t[df_immi_t['journal'] == \"foxnews\"][df_immi_t['emotion'] == \"happy\"]['value'],\n",
    "                       df_immi_t[df_immi_t['journal'] == \"nytimes\"][df_immi_t['emotion'] == \"happy\"]['value'],\n",
    "                       equal_var=True) \n",
    "\n",
    "#T-test for angriness\n",
    "res3 = stats.ttest_ind(df_immi_t[df_immi_t['journal'] == \"foxnews\"][df_immi_t['emotion'] == \"angry\"]['value'],\n",
    "                       df_immi_t[df_immi_t['journal'] == \"nytimes\"][df_immi_t['emotion'] == \"angry\"]['value'],\n",
    "                       equal_var=True) \n",
    "\n",
    "#T-test for surprise\n",
    "res4 = stats.ttest_ind(df_immi_t[df_immi_t['journal'] == \"foxnews\"][df_immi_t['emotion'] == \"surprise\"]['value'],\n",
    "                       df_immi_t[df_immi_t['journal'] == \"nytimes\"][df_immi_t['emotion'] == \"surprise\"]['value'],\n",
    "                       equal_var=True) \n",
    "\n",
    "#T-test for sadness\n",
    "res5 = stats.ttest_ind(df_immi_t[df_immi_t['journal'] == \"foxnews\"][df_immi_t['emotion'] == \"sad\"]['value'],\n",
    "                       df_immi_t[df_immi_t['journal'] == \"nytimes\"][df_immi_t['emotion'] == \"sad\"]['value'],\n",
    "                       equal_var=True) \n",
    "\n",
    "print(res)\n",
    "print(res2)\n",
    "print(res3)\n",
    "print(res4)\n",
    "print(res5)"
   ]
  },
  {
   "cell_type": "code",
   "execution_count": 8,
   "metadata": {},
   "outputs": [
    {
     "data": {
      "text/plain": [
       "<matplotlib.axes._subplots.AxesSubplot at 0x18756f98788>"
      ]
     },
     "execution_count": 8,
     "metadata": {},
     "output_type": "execute_result"
    },
    {
     "data": {
      "image/png": "[encoded data removed]",
      "text/plain": [
       "<Figure size 432x288 with 1 Axes>"
      ]
     },
     "metadata": {
      "needs_background": "light"
     },
     "output_type": "display_data"
    }
   ],
   "source": [
    "sns.violinplot(x = 'emotion', y = \"value\", hue = \"journal\",\n",
    "                    data = df_immi_t, palette = \"muted\", split = True)"
   ]
  },
  {
   "cell_type": "code",
   "execution_count": 9,
   "metadata": {},
   "outputs": [
    {
     "name": "stdout",
     "output_type": "stream",
     "text": [
      "fox fear 0.468956647747856\n",
      "fox happy 0.08202391015577852\n",
      "fox angry 0.05074387151310217\n",
      "fox surprise 0.17517087308296242\n",
      "fox sad 0.17610916555971542\n",
      "ny fear 0.45160917325110733\n",
      "ny happy 0.08239159761032931\n",
      "ny angry 0.05885141645789155\n",
      "ny surprise 0.15778762767392618\n",
      "ny sad 0.1745808440932748\n"
     ]
    },
    {
     "name": "stderr",
     "output_type": "stream",
     "text": [
      "C:\\Users\\François CHARROIN\\Anaconda3\\lib\\site-packages\\ipykernel_launcher.py:2: UserWarning: Boolean Series key will be reindexed to match DataFrame index.\n",
      "  \n",
      "C:\\Users\\François CHARROIN\\Anaconda3\\lib\\site-packages\\ipykernel_launcher.py:3: UserWarning: Boolean Series key will be reindexed to match DataFrame index.\n",
      "  This is separate from the ipykernel package so we can avoid doing imports until\n",
      "C:\\Users\\François CHARROIN\\Anaconda3\\lib\\site-packages\\ipykernel_launcher.py:4: UserWarning: Boolean Series key will be reindexed to match DataFrame index.\n",
      "  after removing the cwd from sys.path.\n",
      "C:\\Users\\François CHARROIN\\Anaconda3\\lib\\site-packages\\ipykernel_launcher.py:5: UserWarning: Boolean Series key will be reindexed to match DataFrame index.\n",
      "  \"\"\"\n",
      "C:\\Users\\François CHARROIN\\Anaconda3\\lib\\site-packages\\ipykernel_launcher.py:6: UserWarning: Boolean Series key will be reindexed to match DataFrame index.\n",
      "  \n",
      "C:\\Users\\François CHARROIN\\Anaconda3\\lib\\site-packages\\ipykernel_launcher.py:10: UserWarning: Boolean Series key will be reindexed to match DataFrame index.\n",
      "  # Remove the CWD from sys.path while we load stuff.\n",
      "C:\\Users\\François CHARROIN\\Anaconda3\\lib\\site-packages\\ipykernel_launcher.py:11: UserWarning: Boolean Series key will be reindexed to match DataFrame index.\n",
      "  # This is added back by InteractiveShellApp.init_path()\n",
      "C:\\Users\\François CHARROIN\\Anaconda3\\lib\\site-packages\\ipykernel_launcher.py:12: UserWarning: Boolean Series key will be reindexed to match DataFrame index.\n",
      "  if sys.path[0] == '':\n",
      "C:\\Users\\François CHARROIN\\Anaconda3\\lib\\site-packages\\ipykernel_launcher.py:13: UserWarning: Boolean Series key will be reindexed to match DataFrame index.\n",
      "  del sys.path[0]\n",
      "C:\\Users\\François CHARROIN\\Anaconda3\\lib\\site-packages\\ipykernel_launcher.py:14: UserWarning: Boolean Series key will be reindexed to match DataFrame index.\n",
      "  \n"
     ]
    }
   ],
   "source": [
    "#fox means\n",
    "a = df_immi_t[df_immi_t['journal'] == \"foxnews\"][df_immi_t['emotion'] == \"fear\"]['value'].mean()\n",
    "b = df_immi_t[df_immi_t['journal'] == \"foxnews\"][df_immi_t['emotion'] == \"happy\"]['value'].mean()\n",
    "c = df_immi_t[df_immi_t['journal'] == \"foxnews\"][df_immi_t['emotion'] == \"angry\"]['value'].mean()\n",
    "d = df_immi_t[df_immi_t['journal'] == \"foxnews\"][df_immi_t['emotion'] == \"surprise\"]['value'].mean()\n",
    "e = df_immi_t[df_immi_t['journal'] == \"foxnews\"][df_immi_t['emotion'] == \"sad\"]['value'].mean()\n",
    "\n",
    "\n",
    "#ny means\n",
    "g = df_immi_t[df_immi_t['journal'] == \"nytimes\"][df_immi_t['emotion'] == \"fear\"]['value'].mean()\n",
    "h = df_immi_t[df_immi_t['journal'] == \"nytimes\"][df_immi_t['emotion'] == \"happy\"]['value'].mean()\n",
    "i = df_immi_t[df_immi_t['journal'] == \"nytimes\"][df_immi_t['emotion'] == \"angry\"]['value'].mean()\n",
    "j = df_immi_t[df_immi_t['journal'] == \"nytimes\"][df_immi_t['emotion'] == \"surprise\"]['value'].mean()\n",
    "k = df_immi_t[df_immi_t['journal'] == \"nytimes\"][df_immi_t['emotion'] == \"sad\"]['value'].mean()\n",
    "\n",
    "print(\"fox fear {0}\".format(a))\n",
    "print(\"fox happy {0}\".format(b))\n",
    "print(\"fox angry {0}\".format(c))\n",
    "print(\"fox surprise {0}\".format(d))\n",
    "print(\"fox sad {0}\".format(e))\n",
    "\n",
    "print(\"ny fear {0}\".format(g))\n",
    "print(\"ny happy {0}\".format(h))\n",
    "print(\"ny angry {0}\".format(i))\n",
    "print(\"ny surprise {0}\".format(j))\n",
    "print(\"ny sad {0}\".format(k))"
   ]
  },
  {
   "cell_type": "code",
   "execution_count": 10,
   "metadata": {},
   "outputs": [],
   "source": [
    "lst = [df_immi_t]\n",
    "del lst     "
   ]
  },
  {
   "cell_type": "markdown",
   "metadata": {},
   "source": [
    "## Terrorism<a name=\"tet\"></a>"
   ]
  },
  {
   "cell_type": "code",
   "execution_count": 11,
   "metadata": {},
   "outputs": [],
   "source": [
    "#Creating the dataframe with all the sentiment values from the text2emotion analysis\n",
    "df_te_t = pd.DataFrame(columns = ['emotion','value','journal'])\n",
    "\n",
    "lista = [words_terrorism]\n",
    "lista2 = ['terrorism']\n",
    "\n",
    "\n",
    "df_fox_word = df_fox[df_fox['quotation'].str.contains([l for l in lista][0])]\n",
    "count_fox = len(df_fox_word)\n",
    "n = len(df_fox)\n",
    "\n",
    "for quotation in df_fox_word['quotation']:\n",
    "    \n",
    "    di = te.get_emotion(quotation)\n",
    "    fear = di.get('Fear')\n",
    "    happy = di.get('Happy')\n",
    "    angry = di.get('Angry')\n",
    "    surprise = di.get('Surprise')\n",
    "    sad = di.get('Sad')\n",
    "    \n",
    "    newr = pd.Series(data = {'emotion': \"fear\", 'value': fear, 'journal': \"foxnews\"}, name = 'x')\n",
    "    df_te_t = df_te_t.append(newr, ignore_index=True)\n",
    "    \n",
    "    newr = pd.Series(data = {'emotion': \"happy\", 'value': happy, 'journal': \"foxnews\"}, name = 'x')\n",
    "    df_te_t = df_te_t.append(newr, ignore_index=True)\n",
    "    \n",
    "    newr = pd.Series(data = {'emotion': \"angry\", 'value': angry, 'journal': \"foxnews\"}, name = 'x')\n",
    "    df_te_t = df_te_t.append(newr, ignore_index=True)\n",
    "    \n",
    "\n",
    "    newr = pd.Series(data = {'emotion': \"surprise\", 'value': surprise, 'journal': \"foxnews\"}, name = 'x')\n",
    "    df_te_t = df_te_t.append(newr, ignore_index=True)\n",
    "    \n",
    "    newr = pd.Series(data = {'emotion': \"sad\", 'value': sad, 'journal': \"foxnews\"}, name = 'x')\n",
    "    df_te_t = df_te_t.append(newr, ignore_index=True)\n",
    "    \n",
    "\n",
    "df_ny_word = df_ny[df_ny['quotation'].str.contains([l for l in lista][0])]\n",
    "count_ny = len(df_ny_word)\n",
    "m = len(df_ny)\n",
    "\n",
    "\n",
    "for quotation in df_ny_word['quotation']:\n",
    "    \n",
    "    di = te.get_emotion(quotation)\n",
    "    fear = di.get('Fear')\n",
    "    happy = di.get('Happy')\n",
    "    angry = di.get('Angry')\n",
    "    surprise = di.get('Surprise')\n",
    "    sad = di.get('Sad')\n",
    "    \n",
    "    newr = pd.Series(data = {'emotion': \"fear\", 'value': fear, 'journal': \"nytimes\"}, name = 'x')\n",
    "    df_te_t = df_te_t.append(newr, ignore_index=True)\n",
    "    \n",
    "    newr = pd.Series(data = {'emotion': \"happy\", 'value': happy, 'journal': \"nytimes\"}, name = 'x')\n",
    "    df_te_t = df_te_t.append(newr, ignore_index=True)\n",
    "    \n",
    "    newr = pd.Series(data = {'emotion': \"angry\", 'value': angry, 'journal': \"nytimes\"}, name = 'x')\n",
    "    df_te_t = df_te_t.append(newr, ignore_index=True)\n",
    "    \n",
    "\n",
    "    newr = pd.Series(data = {'emotion': \"surprise\", 'value': surprise, 'journal': \"nytimes\"}, name = 'x')\n",
    "    df_te_t = df_te_t.append(newr, ignore_index=True)\n",
    "    \n",
    "    newr = pd.Series(data = {'emotion': \"sad\", 'value': sad, 'journal': \"nytimes\"}, name = 'x')\n",
    "    df_te_t = df_te_t.append(newr, ignore_index=True)"
   ]
  },
  {
   "cell_type": "code",
   "execution_count": 12,
   "metadata": {},
   "outputs": [
    {
     "name": "stderr",
     "output_type": "stream",
     "text": [
      "C:\\Users\\François CHARROIN\\Anaconda3\\lib\\site-packages\\ipykernel_launcher.py:1: UserWarning: Boolean Series key will be reindexed to match DataFrame index.\n",
      "  \"\"\"Entry point for launching an IPython kernel.\n",
      "C:\\Users\\François CHARROIN\\Anaconda3\\lib\\site-packages\\ipykernel_launcher.py:2: UserWarning: Boolean Series key will be reindexed to match DataFrame index.\n",
      "  \n",
      "C:\\Users\\François CHARROIN\\Anaconda3\\lib\\site-packages\\ipykernel_launcher.py:3: UserWarning: Boolean Series key will be reindexed to match DataFrame index.\n",
      "  This is separate from the ipykernel package so we can avoid doing imports until\n",
      "C:\\Users\\François CHARROIN\\Anaconda3\\lib\\site-packages\\ipykernel_launcher.py:4: UserWarning: Boolean Series key will be reindexed to match DataFrame index.\n",
      "  after removing the cwd from sys.path.\n",
      "C:\\Users\\François CHARROIN\\Anaconda3\\lib\\site-packages\\ipykernel_launcher.py:5: UserWarning: Boolean Series key will be reindexed to match DataFrame index.\n",
      "  \"\"\"\n",
      "C:\\Users\\François CHARROIN\\Anaconda3\\lib\\site-packages\\ipykernel_launcher.py:6: UserWarning: Boolean Series key will be reindexed to match DataFrame index.\n",
      "  \n",
      "C:\\Users\\François CHARROIN\\Anaconda3\\lib\\site-packages\\ipykernel_launcher.py:7: UserWarning: Boolean Series key will be reindexed to match DataFrame index.\n",
      "  import sys\n"
     ]
    },
    {
     "name": "stdout",
     "output_type": "stream",
     "text": [
      "Ttest_indResult(statistic=1.8361044575972378, pvalue=0.06634631097017142)\n",
      "Ttest_indResult(statistic=-2.291489925787538, pvalue=0.021937953951475856)\n",
      "Ttest_indResult(statistic=-2.1503084459813726, pvalue=0.03153412860387407)\n",
      "Ttest_indResult(statistic=5.021651254022099, pvalue=5.135063859089865e-07)\n",
      "Ttest_indResult(statistic=4.766880890176559, pvalue=1.8746292159299386e-06)\n"
     ]
    },
    {
     "name": "stderr",
     "output_type": "stream",
     "text": [
      "C:\\Users\\François CHARROIN\\Anaconda3\\lib\\site-packages\\ipykernel_launcher.py:8: UserWarning: Boolean Series key will be reindexed to match DataFrame index.\n",
      "  \n",
      "C:\\Users\\François CHARROIN\\Anaconda3\\lib\\site-packages\\ipykernel_launcher.py:9: UserWarning: Boolean Series key will be reindexed to match DataFrame index.\n",
      "  if __name__ == '__main__':\n",
      "C:\\Users\\François CHARROIN\\Anaconda3\\lib\\site-packages\\ipykernel_launcher.py:10: UserWarning: Boolean Series key will be reindexed to match DataFrame index.\n",
      "  # Remove the CWD from sys.path while we load stuff.\n"
     ]
    }
   ],
   "source": [
    "#Doing T-tests to see if there statiscaly significant difference for the distribution of the five emotions between NYt and Foxn\n",
    "\n",
    "#First T-test is for fear\n",
    "res = stats.ttest_ind(df_te_t[df_te_t['journal'] == \"foxnews\"][df_te_t['emotion'] == \"fear\"]['value'],\n",
    "                      df_te_t[df_te_t['journal'] == \"nytimes\"][df_te_t['emotion'] == \"fear\"]['value'],\n",
    "                      equal_var = True)\n",
    "\n",
    "#T-test for happiness\n",
    "res2 = stats.ttest_ind(df_te_t[df_te_t['journal'] == \"foxnews\"][df_te_t['emotion'] == \"happy\"]['value'],\n",
    "                       df_te_t[df_te_t['journal'] == \"nytimes\"][df_te_t['emotion'] == \"happy\"]['value'],\n",
    "                       equal_var = True) \n",
    "\n",
    "#T-test for angriness\n",
    "res3 = stats.ttest_ind(df_te_t[df_te_t['journal'] == \"foxnews\"][df_te_t['emotion'] == \"angry\"]['value'],\n",
    "                       df_te_t[df_te_t['journal'] == \"nytimes\"][df_te_t['emotion'] == \"angry\"]['value'],\n",
    "                       equal_var = True) \n",
    "\n",
    "#T-test for surprise\n",
    "res4 = stats.ttest_ind(df_te_t[df_te_t['journal'] == \"foxnews\"][df_te_t['emotion'] == \"surprise\"]['value'],\n",
    "                       df_te_t[df_te_t['journal'] == \"nytimes\"][df_te_t['emotion'] == \"surprise\"]['value'],\n",
    "                       equal_var = True) \n",
    "\n",
    "#T-test for sadness\n",
    "res5 = stats.ttest_ind(df_te_t[df_te_t['journal'] == \"foxnews\"][df_te_t['emotion'] == \"sad\"]['value'],\n",
    "                       df_te_t[df_te_t['journal'] == \"nytimes\"][df_te_t['emotion'] == \"sad\"]['value'],\n",
    "                       equal_var = True) \n",
    "\n",
    "print(res)\n",
    "print(res2)\n",
    "print(res3)\n",
    "print(res4)\n",
    "print(res5)"
   ]
  },
  {
   "cell_type": "code",
   "execution_count": 13,
   "metadata": {},
   "outputs": [
    {
     "data": {
      "text/plain": [
       "<matplotlib.axes._subplots.AxesSubplot at 0x18764592348>"
      ]
     },
     "execution_count": 13,
     "metadata": {},
     "output_type": "execute_result"
    },
    {
     "data": {
      "image/png": "[encoded data removed]",
      "text/plain": [
       "<Figure size 432x288 with 1 Axes>"
      ]
     },
     "metadata": {
      "needs_background": "light"
     },
     "output_type": "display_data"
    }
   ],
   "source": [
    "sns.violinplot(x = 'emotion', y = \"value\", hue = \"journal\",\n",
    "                    data = df_te_t, palette = \"muted\", split = True)"
   ]
  },
  {
   "cell_type": "code",
   "execution_count": 14,
   "metadata": {},
   "outputs": [
    {
     "name": "stderr",
     "output_type": "stream",
     "text": [
      "C:\\Users\\François CHARROIN\\Anaconda3\\lib\\site-packages\\ipykernel_launcher.py:2: UserWarning: Boolean Series key will be reindexed to match DataFrame index.\n",
      "  \n",
      "C:\\Users\\François CHARROIN\\Anaconda3\\lib\\site-packages\\ipykernel_launcher.py:3: UserWarning: Boolean Series key will be reindexed to match DataFrame index.\n",
      "  This is separate from the ipykernel package so we can avoid doing imports until\n",
      "C:\\Users\\François CHARROIN\\Anaconda3\\lib\\site-packages\\ipykernel_launcher.py:4: UserWarning: Boolean Series key will be reindexed to match DataFrame index.\n",
      "  after removing the cwd from sys.path.\n",
      "C:\\Users\\François CHARROIN\\Anaconda3\\lib\\site-packages\\ipykernel_launcher.py:5: UserWarning: Boolean Series key will be reindexed to match DataFrame index.\n",
      "  \"\"\"\n",
      "C:\\Users\\François CHARROIN\\Anaconda3\\lib\\site-packages\\ipykernel_launcher.py:6: UserWarning: Boolean Series key will be reindexed to match DataFrame index.\n",
      "  \n",
      "C:\\Users\\François CHARROIN\\Anaconda3\\lib\\site-packages\\ipykernel_launcher.py:10: UserWarning: Boolean Series key will be reindexed to match DataFrame index.\n",
      "  # Remove the CWD from sys.path while we load stuff.\n",
      "C:\\Users\\François CHARROIN\\Anaconda3\\lib\\site-packages\\ipykernel_launcher.py:11: UserWarning: Boolean Series key will be reindexed to match DataFrame index.\n",
      "  # This is added back by InteractiveShellApp.init_path()\n"
     ]
    },
    {
     "name": "stdout",
     "output_type": "stream",
     "text": [
      "fox fear 0.3959787942300614\n",
      "fox happy 0.07777980520280797\n",
      "fox angry 0.04408802860313111\n",
      "fox surprise 0.21587498458882556\n",
      "fox sad 0.20927851066452394\n",
      "ny fear 0.39146655339500364\n",
      "ny happy 0.08074507582908452\n",
      "ny angry 0.04625574224403765\n",
      "ny surprise 0.20558429299602934\n",
      "ny sad 0.1999603549178712\n"
     ]
    },
    {
     "name": "stderr",
     "output_type": "stream",
     "text": [
      "C:\\Users\\François CHARROIN\\Anaconda3\\lib\\site-packages\\ipykernel_launcher.py:12: UserWarning: Boolean Series key will be reindexed to match DataFrame index.\n",
      "  if sys.path[0] == '':\n",
      "C:\\Users\\François CHARROIN\\Anaconda3\\lib\\site-packages\\ipykernel_launcher.py:13: UserWarning: Boolean Series key will be reindexed to match DataFrame index.\n",
      "  del sys.path[0]\n",
      "C:\\Users\\François CHARROIN\\Anaconda3\\lib\\site-packages\\ipykernel_launcher.py:14: UserWarning: Boolean Series key will be reindexed to match DataFrame index.\n",
      "  \n"
     ]
    }
   ],
   "source": [
    "#fox means\n",
    "a = df_te_t[df_te_t['journal'] == \"foxnews\"][df_te_t['emotion']==\"fear\"]['value'].mean()\n",
    "b = df_te_t[df_te_t['journal'] == \"foxnews\"][df_te_t['emotion']==\"happy\"]['value'].mean()\n",
    "c = df_te_t[df_te_t['journal'] == \"foxnews\"][df_te_t['emotion']==\"angry\"]['value'].mean()\n",
    "d = df_te_t[df_te_t['journal'] == \"foxnews\"][df_te_t['emotion']==\"surprise\"]['value'].mean()\n",
    "e = df_te_t[df_te_t['journal'] == \"foxnews\"][df_te_t['emotion']==\"sad\"]['value'].mean()\n",
    "\n",
    "\n",
    "#ny means\n",
    "g = df_te_t[df_te_t['journal'] == \"nytimes\"][df_te_t['emotion'] == \"fear\"]['value'].mean()\n",
    "h = df_te_t[df_te_t['journal'] == \"nytimes\"][df_te_t['emotion'] == \"happy\"]['value'].mean()\n",
    "i = df_te_t[df_te_t['journal'] == \"nytimes\"][df_te_t['emotion'] == \"angry\"]['value'].mean()\n",
    "j = df_te_t[df_te_t['journal'] == \"nytimes\"][df_te_t['emotion'] == \"surprise\"]['value'].mean()\n",
    "k = df_te_t[df_te_t['journal'] == \"nytimes\"][df_te_t['emotion'] == \"sad\"]['value'].mean()\n",
    "\n",
    "print(\"fox fear {0}\".format(a))\n",
    "print(\"fox happy {0}\".format(b))\n",
    "print(\"fox angry {0}\".format(c))\n",
    "print(\"fox surprise {0}\".format(d))\n",
    "print(\"fox sad {0}\".format(e))\n",
    "\n",
    "print(\"ny fear {0}\".format(g))\n",
    "print(\"ny happy {0}\".format(h))\n",
    "print(\"ny angry {0}\".format(i))\n",
    "print(\"ny surprise {0}\".format(j))\n",
    "print(\"ny sad {0}\".format(k))"
   ]
  },
  {
   "cell_type": "code",
   "execution_count": 15,
   "metadata": {},
   "outputs": [],
   "source": [
    "lst = [df_te_t]\n",
    "del lst     "
   ]
  },
  {
   "cell_type": "markdown",
   "metadata": {},
   "source": [
    "## Climate change<a name=\"cct\"></a>"
   ]
  },
  {
   "cell_type": "code",
   "execution_count": 16,
   "metadata": {},
   "outputs": [],
   "source": [
    "#Creating the dataframe with all the sentiment values from the text2emotion analysis\n",
    "df_cc_t = pd.DataFrame(columns = ['emotion','value','journal'])\n",
    "\n",
    "lista = [words_ClimateChange]\n",
    "lista2 = ['climate change']\n",
    "\n",
    "\n",
    "df_fox_word = df_fox[df_fox['quotation'].str.contains([l for l in lista][0])]\n",
    "count_fox = len(df_fox_word)\n",
    "n = len(df_fox)\n",
    "\n",
    "for quotation in df_fox_word['quotation']:\n",
    "    \n",
    "    di = te.get_emotion(quotation)\n",
    "    fear = di.get('Fear')\n",
    "    happy = di.get('Happy')\n",
    "    angry = di.get('Angry')\n",
    "    surprise = di.get('Surprise')\n",
    "    sad = di.get('Sad')\n",
    "    \n",
    "    newr = pd.Series(data = {'emotion': \"fear\", 'value': fear, 'journal': \"foxnews\"}, name = 'x')\n",
    "    df_cc_t = df_cc_t.append(newr, ignore_index=True)\n",
    "    \n",
    "    newr = pd.Series(data = {'emotion': \"happy\", 'value': happy, 'journal': \"foxnews\"}, name = 'x')\n",
    "    df_cc_t = df_cc_t.append(newr, ignore_index=True)\n",
    "    \n",
    "    newr = pd.Series(data = {'emotion': \"angry\", 'value': angry, 'journal': \"foxnews\"}, name = 'x')\n",
    "    df_cc_t = df_cc_t.append(newr, ignore_index=True)\n",
    "    \n",
    "\n",
    "    newr = pd.Series(data = {'emotion': \"surprise\", 'value': surprise, 'journal': \"foxnews\"}, name = 'x')\n",
    "    df_cc_t = df_cc_t.append(newr, ignore_index=True)\n",
    "    \n",
    "    newr = pd.Series(data = {'emotion': \"sad\", 'value': sad, 'journal': \"foxnews\"}, name = 'x')\n",
    "    df_cc_t = df_cc_t.append(newr, ignore_index=True)\n",
    "    \n",
    "\n",
    "df_ny_word = df_ny[df_ny['quotation'].str.contains([l for l in lista][0])]\n",
    "count_ny = len(df_ny_word)\n",
    "m = len(df_ny)\n",
    "\n",
    "\n",
    "for quotation in df_ny_word['quotation']:\n",
    "    \n",
    "    di = te.get_emotion(quotation)\n",
    "    fear = di.get('Fear')\n",
    "    happy = di.get('Happy')\n",
    "    angry = di.get('Angry')\n",
    "    surprise = di.get('Surprise')\n",
    "    sad = di.get('Sad')\n",
    "    \n",
    "    newr = pd.Series(data = {'emotion': \"fear\", 'value': fear, 'journal': \"nytimes\"}, name = 'x')\n",
    "    df_cc_t = df_cc_t.append(newr, ignore_index=True)\n",
    "    \n",
    "    newr = pd.Series(data = {'emotion': \"happy\", 'value': happy, 'journal': \"nytimes\"}, name = 'x')\n",
    "    df_cc_t = df_cc_t.append(newr, ignore_index=True)\n",
    "    \n",
    "    newr = pd.Series(data = {'emotion': \"angry\", 'value': angry, 'journal': \"nytimes\"}, name = 'x')\n",
    "    df_cc_t = df_cc_t.append(newr, ignore_index=True)\n",
    "    \n",
    "\n",
    "    newr = pd.Series(data = {'emotion': \"surprise\", 'value': surprise, 'journal': \"nytimes\"}, name = 'x')\n",
    "    df_cc_t = df_cc_t.append(newr, ignore_index=True)\n",
    "    \n",
    "    newr = pd.Series(data = {'emotion': \"sad\", 'value': sad, 'journal': \"nytimes\"}, name = 'x')\n",
    "    df_cc_t = df_cc_t.append(newr, ignore_index=True)"
   ]
  },
  {
   "cell_type": "code",
   "execution_count": 17,
   "metadata": {},
   "outputs": [
    {
     "name": "stdout",
     "output_type": "stream",
     "text": [
      "Ttest_indResult(statistic=0.9803629371555516, pvalue=0.3269453181328119)\n",
      "Ttest_indResult(statistic=-0.9186141155819271, pvalue=0.3583332443961742)\n",
      "Ttest_indResult(statistic=-0.07948524604717502, pvalue=0.9366492362378087)\n",
      "Ttest_indResult(statistic=2.682966332458749, pvalue=0.0073166318353193325)\n",
      "Ttest_indResult(statistic=1.9376572321692143, pvalue=0.052710489265420886)\n"
     ]
    },
    {
     "name": "stderr",
     "output_type": "stream",
     "text": [
      "C:\\Users\\François CHARROIN\\Anaconda3\\lib\\site-packages\\ipykernel_launcher.py:1: UserWarning: Boolean Series key will be reindexed to match DataFrame index.\n",
      "  \"\"\"Entry point for launching an IPython kernel.\n",
      "C:\\Users\\François CHARROIN\\Anaconda3\\lib\\site-packages\\ipykernel_launcher.py:2: UserWarning: Boolean Series key will be reindexed to match DataFrame index.\n",
      "  \n",
      "C:\\Users\\François CHARROIN\\Anaconda3\\lib\\site-packages\\ipykernel_launcher.py:3: UserWarning: Boolean Series key will be reindexed to match DataFrame index.\n",
      "  This is separate from the ipykernel package so we can avoid doing imports until\n",
      "C:\\Users\\François CHARROIN\\Anaconda3\\lib\\site-packages\\ipykernel_launcher.py:4: UserWarning: Boolean Series key will be reindexed to match DataFrame index.\n",
      "  after removing the cwd from sys.path.\n",
      "C:\\Users\\François CHARROIN\\Anaconda3\\lib\\site-packages\\ipykernel_launcher.py:5: UserWarning: Boolean Series key will be reindexed to match DataFrame index.\n",
      "  \"\"\"\n",
      "C:\\Users\\François CHARROIN\\Anaconda3\\lib\\site-packages\\ipykernel_launcher.py:6: UserWarning: Boolean Series key will be reindexed to match DataFrame index.\n",
      "  \n",
      "C:\\Users\\François CHARROIN\\Anaconda3\\lib\\site-packages\\ipykernel_launcher.py:7: UserWarning: Boolean Series key will be reindexed to match DataFrame index.\n",
      "  import sys\n",
      "C:\\Users\\François CHARROIN\\Anaconda3\\lib\\site-packages\\ipykernel_launcher.py:8: UserWarning: Boolean Series key will be reindexed to match DataFrame index.\n",
      "  \n",
      "C:\\Users\\François CHARROIN\\Anaconda3\\lib\\site-packages\\ipykernel_launcher.py:9: UserWarning: Boolean Series key will be reindexed to match DataFrame index.\n",
      "  if __name__ == '__main__':\n",
      "C:\\Users\\François CHARROIN\\Anaconda3\\lib\\site-packages\\ipykernel_launcher.py:10: UserWarning: Boolean Series key will be reindexed to match DataFrame index.\n",
      "  # Remove the CWD from sys.path while we load stuff.\n"
     ]
    }
   ],
   "source": [
    "#Doing T-tests to see if there statiscaly significant difference for the distribution of the five emotions between NYt and Foxn\n",
    "\n",
    "#First T-test is for fear\n",
    "res = stats.ttest_ind(df_cc_t[df_cc_t['journal'] == \"foxnews\"][df_cc_t['emotion'] == \"fear\"]['value'],\n",
    "                      df_cc_t[df_cc_t['journal'] == \"nytimes\"][df_cc_t['emotion'] == \"fear\"]['value'], \n",
    "                      equal_var = True)\n",
    "\n",
    "#T-test for happiness\n",
    "res2 = stats.ttest_ind(df_cc_t[df_cc_t['journal'] == \"foxnews\"][df_cc_t['emotion'] == \"happy\"]['value'],\n",
    "                       df_cc_t[df_cc_t['journal'] == \"nytimes\"][df_cc_t['emotion'] == \"happy\"]['value'],\n",
    "                       equal_var = True) \n",
    "\n",
    "#T-test for angriness\n",
    "res3 = stats.ttest_ind(df_cc_t[df_cc_t['journal'] == \"foxnews\"][df_cc_t['emotion'] == \"angry\"]['value'],\n",
    "                       df_cc_t[df_cc_t['journal'] == \"nytimes\"][df_cc_t['emotion'] == \"angry\"]['value'],\n",
    "                       equal_var = True) \n",
    "\n",
    "#T-test for surprise\n",
    "res4 = stats.ttest_ind(df_cc_t[df_cc_t['journal'] == \"foxnews\"][df_cc_t['emotion'] == \"surprise\"]['value'],\n",
    "                       df_cc_t[df_cc_t['journal'] == \"nytimes\"][df_cc_t['emotion'] == \"surprise\"]['value'],\n",
    "                       equal_var = True) \n",
    "\n",
    "#T-test for sadness\n",
    "res5 = stats.ttest_ind(df_cc_t[df_cc_t['journal'] == \"foxnews\"][df_cc_t['emotion'] == \"sad\"]['value'],\n",
    "                       df_cc_t[df_cc_t['journal'] == \"nytimes\"][df_cc_t['emotion'] == \"sad\"]['value'],\n",
    "                       equal_var = True) \n",
    "\n",
    "print(res)\n",
    "print(res2)\n",
    "print(res3)\n",
    "print(res4)\n",
    "print(res5)"
   ]
  },
  {
   "cell_type": "code",
   "execution_count": 18,
   "metadata": {},
   "outputs": [
    {
     "data": {
      "text/plain": [
       "<matplotlib.axes._subplots.AxesSubplot at 0x1876466e708>"
      ]
     },
     "execution_count": 18,
     "metadata": {},
     "output_type": "execute_result"
    },
    {
     "data": {
      "image/png": "[encoded data removed]",
      "text/plain": [
       "<Figure size 432x288 with 1 Axes>"
      ]
     },
     "metadata": {
      "needs_background": "light"
     },
     "output_type": "display_data"
    }
   ],
   "source": [
    "sns.violinplot(x = 'emotion', y = \"value\", hue = \"journal\",\n",
    "                    data = df_cc_t, palette = \"muted\", split = True)"
   ]
  },
  {
   "cell_type": "code",
   "execution_count": 19,
   "metadata": {},
   "outputs": [
    {
     "name": "stdout",
     "output_type": "stream",
     "text": [
      "fox fear 0.3717319277108437\n",
      "fox happy 0.085410391566265\n",
      "fox angry 0.04771460843373498\n",
      "fox surprise 0.23715737951807267\n",
      "fox sad 0.19858057228915657\n",
      "ny fear 0.36341442715700184\n",
      "ny happy 0.08982743988684568\n",
      "ny angry 0.04800282885431402\n",
      "ny surprise 0.2173465346534656\n",
      "ny sad 0.18577086280056607\n"
     ]
    },
    {
     "name": "stderr",
     "output_type": "stream",
     "text": [
      "C:\\Users\\François CHARROIN\\Anaconda3\\lib\\site-packages\\ipykernel_launcher.py:2: UserWarning: Boolean Series key will be reindexed to match DataFrame index.\n",
      "  \n",
      "C:\\Users\\François CHARROIN\\Anaconda3\\lib\\site-packages\\ipykernel_launcher.py:3: UserWarning: Boolean Series key will be reindexed to match DataFrame index.\n",
      "  This is separate from the ipykernel package so we can avoid doing imports until\n",
      "C:\\Users\\François CHARROIN\\Anaconda3\\lib\\site-packages\\ipykernel_launcher.py:4: UserWarning: Boolean Series key will be reindexed to match DataFrame index.\n",
      "  after removing the cwd from sys.path.\n",
      "C:\\Users\\François CHARROIN\\Anaconda3\\lib\\site-packages\\ipykernel_launcher.py:5: UserWarning: Boolean Series key will be reindexed to match DataFrame index.\n",
      "  \"\"\"\n",
      "C:\\Users\\François CHARROIN\\Anaconda3\\lib\\site-packages\\ipykernel_launcher.py:6: UserWarning: Boolean Series key will be reindexed to match DataFrame index.\n",
      "  \n",
      "C:\\Users\\François CHARROIN\\Anaconda3\\lib\\site-packages\\ipykernel_launcher.py:10: UserWarning: Boolean Series key will be reindexed to match DataFrame index.\n",
      "  # Remove the CWD from sys.path while we load stuff.\n",
      "C:\\Users\\François CHARROIN\\Anaconda3\\lib\\site-packages\\ipykernel_launcher.py:11: UserWarning: Boolean Series key will be reindexed to match DataFrame index.\n",
      "  # This is added back by InteractiveShellApp.init_path()\n",
      "C:\\Users\\François CHARROIN\\Anaconda3\\lib\\site-packages\\ipykernel_launcher.py:12: UserWarning: Boolean Series key will be reindexed to match DataFrame index.\n",
      "  if sys.path[0] == '':\n",
      "C:\\Users\\François CHARROIN\\Anaconda3\\lib\\site-packages\\ipykernel_launcher.py:13: UserWarning: Boolean Series key will be reindexed to match DataFrame index.\n",
      "  del sys.path[0]\n",
      "C:\\Users\\François CHARROIN\\Anaconda3\\lib\\site-packages\\ipykernel_launcher.py:14: UserWarning: Boolean Series key will be reindexed to match DataFrame index.\n",
      "  \n"
     ]
    }
   ],
   "source": [
    "#fox means\n",
    "a = df_cc_t[df_cc_t['journal'] == \"foxnews\"][df_cc_t['emotion'] == \"fear\"]['value'].mean()\n",
    "b = df_cc_t[df_cc_t['journal'] == \"foxnews\"][df_cc_t['emotion'] == \"happy\"]['value'].mean()\n",
    "c = df_cc_t[df_cc_t['journal'] == \"foxnews\"][df_cc_t['emotion'] == \"angry\"]['value'].mean()\n",
    "d = df_cc_t[df_cc_t['journal'] == \"foxnews\"][df_cc_t['emotion'] == \"surprise\"]['value'].mean()\n",
    "e = df_cc_t[df_cc_t['journal'] == \"foxnews\"][df_cc_t['emotion'] == \"sad\"]['value'].mean()\n",
    "\n",
    "\n",
    "#ny means\n",
    "g = df_cc_t[df_cc_t['journal'] == \"nytimes\"][df_cc_t['emotion'] == \"fear\"]['value'].mean()\n",
    "h = df_cc_t[df_cc_t['journal'] == \"nytimes\"][df_cc_t['emotion'] == \"happy\"]['value'].mean()\n",
    "i = df_cc_t[df_cc_t['journal'] == \"nytimes\"][df_cc_t['emotion'] == \"angry\"]['value'].mean()\n",
    "j = df_cc_t[df_cc_t['journal'] == \"nytimes\"][df_cc_t['emotion'] == \"surprise\"]['value'].mean()\n",
    "k = df_cc_t[df_cc_t['journal'] == \"nytimes\"][df_cc_t['emotion'] == \"sad\"]['value'].mean()\n",
    "\n",
    "print(\"fox fear {0}\".format(a))\n",
    "print(\"fox happy {0}\".format(b))\n",
    "print(\"fox angry {0}\".format(c))\n",
    "print(\"fox surprise {0}\".format(d))\n",
    "print(\"fox sad {0}\".format(e))\n",
    "\n",
    "print(\"ny fear {0}\".format(g))\n",
    "print(\"ny happy {0}\".format(h))\n",
    "print(\"ny angry {0}\".format(i))\n",
    "print(\"ny surprise {0}\".format(j))\n",
    "print(\"ny sad {0}\".format(k))"
   ]
  },
  {
   "cell_type": "code",
   "execution_count": 20,
   "metadata": {},
   "outputs": [],
   "source": [
    "lst = [df_cc_t]\n",
    "del lst     "
   ]
  },
  {
   "cell_type": "markdown",
   "metadata": {},
   "source": [
    "## Abortion<a name=\"abt\"></a>"
   ]
  },
  {
   "cell_type": "code",
   "execution_count": 21,
   "metadata": {},
   "outputs": [],
   "source": [
    "#Creating the dataframe with all the sentiment values from the text2emotion analysis\n",
    "df_ab_t = pd.DataFrame(columns = ['emotion','value','journal'])\n",
    "\n",
    "lista = [words_abortion]\n",
    "lista2 = ['abortion']\n",
    "\n",
    "\n",
    "df_fox_word = df_fox[df_fox['quotation'].str.contains([l for l in lista][0])]\n",
    "count_fox = len(df_fox_word)\n",
    "n = len(df_fox)\n",
    "\n",
    "for quotation in df_fox_word['quotation']:\n",
    "    \n",
    "    di = te.get_emotion(quotation)\n",
    "    fear = di.get('Fear')\n",
    "    happy = di.get('Happy')\n",
    "    angry = di.get('Angry')\n",
    "    surprise = di.get('Surprise')\n",
    "    sad = di.get('Sad')\n",
    "    \n",
    "    newr = pd.Series(data = {'emotion': \"fear\", 'value': fear, 'journal': \"foxnews\"}, name = 'x')\n",
    "    df_ab_t = df_ab_t.append(newr, ignore_index = True)\n",
    "    \n",
    "    newr = pd.Series(data = {'emotion': \"happy\", 'value': happy, 'journal': \"foxnews\"}, name = 'x')\n",
    "    df_ab_t = df_ab_t.append(newr, ignore_index = True)\n",
    "    \n",
    "    newr = pd.Series(data = {'emotion': \"angry\", 'value': angry, 'journal': \"foxnews\"}, name = 'x')\n",
    "    df_ab_t = df_ab_t.append(newr, ignore_index = True)\n",
    "    \n",
    "\n",
    "    newr = pd.Series(data = {'emotion': \"surprise\", 'value': surprise, 'journal': \"foxnews\"}, name = 'x')\n",
    "    df_ab_t = df_ab_t.append(newr, ignore_index = True)\n",
    "    \n",
    "    newr = pd.Series(data = {'emotion': \"sad\", 'value': sad, 'journal': \"foxnews\"}, name = 'x')\n",
    "    df_ab_t = df_ab_t.append(newr, ignore_index = True)\n",
    "    \n",
    "\n",
    "df_ny_word = df_ny[df_ny['quotation'].str.contains([l for l in lista][0])]\n",
    "count_ny = len(df_ny_word)\n",
    "m = len(df_ny)\n",
    "\n",
    "\n",
    "for quotation in df_ny_word['quotation']:\n",
    "    \n",
    "    di = te.get_emotion(quotation)\n",
    "    fear = di.get('Fear')\n",
    "    happy = di.get('Happy')\n",
    "    angry = di.get('Angry')\n",
    "    surprise = di.get('Surprise')\n",
    "    sad = di.get('Sad')\n",
    "    \n",
    "    newr = pd.Series(data = {'emotion': \"fear\", 'value': fear, 'journal': \"nytimes\"}, name = 'x')\n",
    "    df_ab_t = df_ab_t.append(newr, ignore_index = True)\n",
    "    \n",
    "    newr = pd.Series(data = {'emotion': \"happy\", 'value': happy, 'journal': \"nytimes\"}, name = 'x')\n",
    "    df_ab_t = df_ab_t.append(newr, ignore_index = True)\n",
    "    \n",
    "    newr = pd.Series(data = {'emotion': \"angry\", 'value': angry, 'journal': \"nytimes\"}, name = 'x')\n",
    "    df_ab_t = df_ab_t.append(newr, ignore_index = True)\n",
    "    \n",
    "\n",
    "    newr = pd.Series(data = {'emotion': \"surprise\", 'value': surprise, 'journal': \"nytimes\"}, name = 'x')\n",
    "    df_ab_t = df_ab_t.append(newr, ignore_index = True)\n",
    "    \n",
    "    newr = pd.Series(data = {'emotion': \"sad\", 'value': sad, 'journal': \"nytimes\"}, name = 'x')\n",
    "    df_ab_t = df_ab_t.append(newr, ignore_index = True)"
   ]
  },
  {
   "cell_type": "code",
   "execution_count": 22,
   "metadata": {},
   "outputs": [
    {
     "name": "stdout",
     "output_type": "stream",
     "text": [
      "Ttest_indResult(statistic=0.16640859063054592, pvalue=0.8678533847784137)\n",
      "Ttest_indResult(statistic=-0.7091606869544608, pvalue=0.47831307487594477)\n",
      "Ttest_indResult(statistic=1.3315942814163593, pvalue=0.18315566095472416)\n",
      "Ttest_indResult(statistic=0.14043778268819476, pvalue=0.8883292161090531)\n",
      "Ttest_indResult(statistic=0.6464386749507396, pvalue=0.5180745429970222)\n"
     ]
    },
    {
     "name": "stderr",
     "output_type": "stream",
     "text": [
      "C:\\Users\\François CHARROIN\\Anaconda3\\lib\\site-packages\\ipykernel_launcher.py:1: UserWarning: Boolean Series key will be reindexed to match DataFrame index.\n",
      "  \"\"\"Entry point for launching an IPython kernel.\n",
      "C:\\Users\\François CHARROIN\\Anaconda3\\lib\\site-packages\\ipykernel_launcher.py:2: UserWarning: Boolean Series key will be reindexed to match DataFrame index.\n",
      "  \n",
      "C:\\Users\\François CHARROIN\\Anaconda3\\lib\\site-packages\\ipykernel_launcher.py:3: UserWarning: Boolean Series key will be reindexed to match DataFrame index.\n",
      "  This is separate from the ipykernel package so we can avoid doing imports until\n",
      "C:\\Users\\François CHARROIN\\Anaconda3\\lib\\site-packages\\ipykernel_launcher.py:4: UserWarning: Boolean Series key will be reindexed to match DataFrame index.\n",
      "  after removing the cwd from sys.path.\n",
      "C:\\Users\\François CHARROIN\\Anaconda3\\lib\\site-packages\\ipykernel_launcher.py:5: UserWarning: Boolean Series key will be reindexed to match DataFrame index.\n",
      "  \"\"\"\n",
      "C:\\Users\\François CHARROIN\\Anaconda3\\lib\\site-packages\\ipykernel_launcher.py:6: UserWarning: Boolean Series key will be reindexed to match DataFrame index.\n",
      "  \n",
      "C:\\Users\\François CHARROIN\\Anaconda3\\lib\\site-packages\\ipykernel_launcher.py:7: UserWarning: Boolean Series key will be reindexed to match DataFrame index.\n",
      "  import sys\n",
      "C:\\Users\\François CHARROIN\\Anaconda3\\lib\\site-packages\\ipykernel_launcher.py:8: UserWarning: Boolean Series key will be reindexed to match DataFrame index.\n",
      "  \n",
      "C:\\Users\\François CHARROIN\\Anaconda3\\lib\\site-packages\\ipykernel_launcher.py:9: UserWarning: Boolean Series key will be reindexed to match DataFrame index.\n",
      "  if __name__ == '__main__':\n",
      "C:\\Users\\François CHARROIN\\Anaconda3\\lib\\site-packages\\ipykernel_launcher.py:10: UserWarning: Boolean Series key will be reindexed to match DataFrame index.\n",
      "  # Remove the CWD from sys.path while we load stuff.\n"
     ]
    }
   ],
   "source": [
    "#Doing T-tests to see if there statiscaly significant difference for the distribution of the five emotions between NYt and Foxn\n",
    "\n",
    "#T-test for fear\n",
    "res = stats.ttest_ind(df_ab_t[df_ab_t['journal'] == \"foxnews\"][df_ab_t['emotion'] == \"fear\"]['value'],\n",
    "                      df_ab_t[df_ab_t['journal'] == \"nytimes\"][df_ab_t['emotion'] == \"fear\"]['value'],\n",
    "                      equal_var = True)\n",
    "\n",
    "#T-test for happiness\n",
    "res2 = stats.ttest_ind(df_ab_t[df_ab_t['journal'] == \"foxnews\"][df_ab_t['emotion'] == \"happy\"]['value'],\n",
    "                       df_ab_t[df_ab_t['journal'] == \"nytimes\"][df_ab_t['emotion'] == \"happy\"]['value'],\n",
    "                       equal_var = True) \n",
    "\n",
    "#T-test for angriness\n",
    "res3 = stats.ttest_ind(df_ab_t[df_ab_t['journal'] == \"foxnews\"][df_ab_t['emotion'] == \"angry\"]['value'],\n",
    "                       df_ab_t[df_ab_t['journal'] == \"nytimes\"][df_ab_t['emotion'] == \"angry\"]['value'],\n",
    "                       equal_var = True)\n",
    "\n",
    "#T-test for surprise\n",
    "res4 = stats.ttest_ind(df_ab_t[df_ab_t['journal'] == \"foxnews\"][df_ab_t['emotion'] == \"surprise\"]['value'],\n",
    "                       df_ab_t[df_ab_t['journal'] == \"nytimes\"][df_ab_t['emotion'] == \"surprise\"]['value'],\n",
    "                       equal_var = True) \n",
    "\n",
    "#T-test for sadness\n",
    "res5 = stats.ttest_ind(df_ab_t[df_ab_t['journal'] == \"foxnews\"][df_ab_t['emotion'] == \"sad\"]['value'],\n",
    "                       df_ab_t[df_ab_t['journal'] == \"nytimes\"][df_ab_t['emotion'] == \"sad\"]['value'],\n",
    "                       equal_var = True) \n",
    "\n",
    "print(res)\n",
    "print(res2)\n",
    "print(res3)\n",
    "print(res4)\n",
    "print(res5)"
   ]
  },
  {
   "cell_type": "code",
   "execution_count": 23,
   "metadata": {},
   "outputs": [
    {
     "data": {
      "text/plain": [
       "<matplotlib.axes._subplots.AxesSubplot at 0x18764733b88>"
      ]
     },
     "execution_count": 23,
     "metadata": {},
     "output_type": "execute_result"
    },
    {
     "data": {
      "image/png": "[encoded data removed]",
      "text/plain": [
       "<Figure size 432x288 with 1 Axes>"
      ]
     },
     "metadata": {
      "needs_background": "light"
     },
     "output_type": "display_data"
    }
   ],
   "source": [
    "sns.violinplot(x = 'emotion', y = \"value\", hue = \"journal\",\n",
    "                    data = df_ab_t, palette = \"muted\", split = True)"
   ]
  },
  {
   "cell_type": "code",
   "execution_count": 24,
   "metadata": {},
   "outputs": [
    {
     "name": "stdout",
     "output_type": "stream",
     "text": [
      "fox fear 0.40668049792531136\n",
      "fox happy 0.06648962655601669\n",
      "fox angry 0.04234024896265562\n",
      "fox surprise 0.19239004149377587\n",
      "fox sad 0.20857261410788416\n",
      "ny fear 0.4039461883408074\n",
      "ny happy 0.07206278026905828\n",
      "ny angry 0.03402092675635275\n",
      "ny surprise 0.1906128550074739\n",
      "ny sad 0.20005979073243657\n"
     ]
    },
    {
     "name": "stderr",
     "output_type": "stream",
     "text": [
      "C:\\Users\\François CHARROIN\\Anaconda3\\lib\\site-packages\\ipykernel_launcher.py:2: UserWarning: Boolean Series key will be reindexed to match DataFrame index.\n",
      "  \n",
      "C:\\Users\\François CHARROIN\\Anaconda3\\lib\\site-packages\\ipykernel_launcher.py:3: UserWarning: Boolean Series key will be reindexed to match DataFrame index.\n",
      "  This is separate from the ipykernel package so we can avoid doing imports until\n",
      "C:\\Users\\François CHARROIN\\Anaconda3\\lib\\site-packages\\ipykernel_launcher.py:4: UserWarning: Boolean Series key will be reindexed to match DataFrame index.\n",
      "  after removing the cwd from sys.path.\n",
      "C:\\Users\\François CHARROIN\\Anaconda3\\lib\\site-packages\\ipykernel_launcher.py:5: UserWarning: Boolean Series key will be reindexed to match DataFrame index.\n",
      "  \"\"\"\n",
      "C:\\Users\\François CHARROIN\\Anaconda3\\lib\\site-packages\\ipykernel_launcher.py:6: UserWarning: Boolean Series key will be reindexed to match DataFrame index.\n",
      "  \n",
      "C:\\Users\\François CHARROIN\\Anaconda3\\lib\\site-packages\\ipykernel_launcher.py:10: UserWarning: Boolean Series key will be reindexed to match DataFrame index.\n",
      "  # Remove the CWD from sys.path while we load stuff.\n",
      "C:\\Users\\François CHARROIN\\Anaconda3\\lib\\site-packages\\ipykernel_launcher.py:11: UserWarning: Boolean Series key will be reindexed to match DataFrame index.\n",
      "  # This is added back by InteractiveShellApp.init_path()\n",
      "C:\\Users\\François CHARROIN\\Anaconda3\\lib\\site-packages\\ipykernel_launcher.py:12: UserWarning: Boolean Series key will be reindexed to match DataFrame index.\n",
      "  if sys.path[0] == '':\n",
      "C:\\Users\\François CHARROIN\\Anaconda3\\lib\\site-packages\\ipykernel_launcher.py:13: UserWarning: Boolean Series key will be reindexed to match DataFrame index.\n",
      "  del sys.path[0]\n",
      "C:\\Users\\François CHARROIN\\Anaconda3\\lib\\site-packages\\ipykernel_launcher.py:14: UserWarning: Boolean Series key will be reindexed to match DataFrame index.\n",
      "  \n"
     ]
    }
   ],
   "source": [
    "#fox means\n",
    "a = df_ab_t[df_ab_t['journal'] == \"foxnews\"][df_ab_t['emotion'] == \"fear\"]['value'].mean()\n",
    "b = df_ab_t[df_ab_t['journal'] == \"foxnews\"][df_ab_t['emotion'] == \"happy\"]['value'].mean()\n",
    "c = df_ab_t[df_ab_t['journal'] == \"foxnews\"][df_ab_t['emotion'] == \"angry\"]['value'].mean()\n",
    "d = df_ab_t[df_ab_t['journal'] == \"foxnews\"][df_ab_t['emotion'] == \"surprise\"]['value'].mean()\n",
    "e = df_ab_t[df_ab_t['journal'] == \"foxnews\"][df_ab_t['emotion'] == \"sad\"]['value'].mean()\n",
    "\n",
    "\n",
    "#ny means\n",
    "g = df_ab_t[df_ab_t['journal'] == \"nytimes\"][df_ab_t['emotion'] == \"fear\"]['value'].mean()\n",
    "h = df_ab_t[df_ab_t['journal'] == \"nytimes\"][df_ab_t['emotion'] == \"happy\"]['value'].mean()\n",
    "i = df_ab_t[df_ab_t['journal'] == \"nytimes\"][df_ab_t['emotion'] == \"angry\"]['value'].mean()\n",
    "j = df_ab_t[df_ab_t['journal'] == \"nytimes\"][df_ab_t['emotion'] == \"surprise\"]['value'].mean()\n",
    "k = df_ab_t[df_ab_t['journal'] == \"nytimes\"][df_ab_t['emotion'] == \"sad\"]['value'].mean()\n",
    "\n",
    "print(\"fox fear {0}\".format(a))\n",
    "print(\"fox happy {0}\".format(b))\n",
    "print(\"fox angry {0}\".format(c))\n",
    "print(\"fox surprise {0}\".format(d))\n",
    "print(\"fox sad {0}\".format(e))\n",
    "\n",
    "print(\"ny fear {0}\".format(g))\n",
    "print(\"ny happy {0}\".format(h))\n",
    "print(\"ny angry {0}\".format(i))\n",
    "print(\"ny surprise {0}\".format(j))\n",
    "print(\"ny sad {0}\".format(k))"
   ]
  },
  {
   "cell_type": "code",
   "execution_count": 25,
   "metadata": {},
   "outputs": [],
   "source": [
    "lst = [df_ab_t]\n",
    "del lst  "
   ]
  },
  {
   "cell_type": "markdown",
   "metadata": {},
   "source": [
    "## Religion<a name=\"ret\"></a>"
   ]
  },
  {
   "cell_type": "code",
   "execution_count": 26,
   "metadata": {},
   "outputs": [],
   "source": [
    "#Creating the dataframe with all the sentiment values from the text2emotion analysis\n",
    "df_re_t = pd.DataFrame(columns = ['emotion','value','journal'])\n",
    "\n",
    "lista = [words_religion]\n",
    "lista2 = ['religion']\n",
    "\n",
    "\n",
    "df_fox_word = df_fox[df_fox['quotation'].str.contains([l for l in lista][0])]\n",
    "count_fox = len(df_fox_word)\n",
    "n = len(df_fox)\n",
    "\n",
    "for quotation in df_fox_word['quotation']:\n",
    "    \n",
    "    di = te.get_emotion(quotation)\n",
    "    fear = di.get('Fear')\n",
    "    happy = di.get('Happy')\n",
    "    angry = di.get('Angry')\n",
    "    surprise = di.get('Surprise')\n",
    "    sad = di.get('Sad')\n",
    "    \n",
    "    newr = pd.Series(data = {'emotion': \"fear\", 'value': fear, 'journal': \"foxnews\"}, name = 'x')\n",
    "    df_re_t = df_re_t.append(newr, ignore_index = True)\n",
    "    \n",
    "    newr = pd.Series(data = {'emotion': \"happy\", 'value': happy, 'journal': \"foxnews\"}, name = 'x')\n",
    "    df_re_t = df_re_t.append(newr, ignore_index = True)\n",
    "    \n",
    "    newr = pd.Series(data = {'emotion': \"angry\", 'value': angry, 'journal': \"foxnews\"}, name = 'x')\n",
    "    df_re_t = df_re_t.append(newr, ignore_index = True)\n",
    "\n",
    "\n",
    "    newr = pd.Series(data = {'emotion': \"surprise\", 'value': surprise, 'journal': \"foxnews\"}, name = 'x')\n",
    "    df_re_t = df_re_t.append(newr, ignore_index = True)\n",
    "    \n",
    "    newr = pd.Series(data = {'emotion': \"sad\", 'value': sad, 'journal': \"foxnews\"}, name = 'x')\n",
    "    df_re_t = df_re_t.append(newr, ignore_index = True)\n",
    "    \n",
    "\n",
    "df_ny_word = df_ny[df_ny['quotation'].str.contains([l for l in lista][0])]\n",
    "count_ny = len(df_ny_word)\n",
    "m = len(df_ny)\n",
    "\n",
    "\n",
    "for quotation in df_ny_word['quotation']:\n",
    "    \n",
    "    di = te.get_emotion(quotation)\n",
    "    fear = di.get('Fear')\n",
    "    happy = di.get('Happy')\n",
    "    angry = di.get('Angry')\n",
    "    surprise = di.get('Surprise')\n",
    "    sad = di.get('Sad')\n",
    "    \n",
    "    newr = pd.Series(data = {'emotion': \"fear\", 'value': fear, 'journal': \"nytimes\"}, name = 'x')\n",
    "    df_re_t = df_re_t.append(newr, ignore_index = True)\n",
    "    \n",
    "    newr = pd.Series(data = {'emotion': \"happy\", 'value': happy, 'journal': \"nytimes\"}, name = 'x')\n",
    "    df_re_t = df_re_t.append(newr, ignore_index = True)\n",
    "    \n",
    "    newr = pd.Series(data = {'emotion': \"angry\", 'value': angry, 'journal': \"nytimes\"}, name = 'x')\n",
    "    df_re_t = df_re_t.append(newr, ignore_index = True)\n",
    "    \n",
    "\n",
    "    newr = pd.Series(data = {'emotion': \"surprise\", 'value': surprise, 'journal': \"nytimes\"}, name = 'x')\n",
    "    df_re_t = df_re_t.append(newr, ignore_index = True)\n",
    "    \n",
    "    newr = pd.Series(data = {'emotion': \"sad\", 'value': sad, 'journal': \"nytimes\"}, name = 'x')\n",
    "    df_re_t = df_re_t.append(newr, ignore_index = True)"
   ]
  },
  {
   "cell_type": "code",
   "execution_count": 27,
   "metadata": {},
   "outputs": [
    {
     "name": "stderr",
     "output_type": "stream",
     "text": [
      "C:\\Users\\François CHARROIN\\Anaconda3\\lib\\site-packages\\ipykernel_launcher.py:1: UserWarning: Boolean Series key will be reindexed to match DataFrame index.\n",
      "  \"\"\"Entry point for launching an IPython kernel.\n",
      "C:\\Users\\François CHARROIN\\Anaconda3\\lib\\site-packages\\ipykernel_launcher.py:2: UserWarning: Boolean Series key will be reindexed to match DataFrame index.\n",
      "  \n",
      "C:\\Users\\François CHARROIN\\Anaconda3\\lib\\site-packages\\ipykernel_launcher.py:3: UserWarning: Boolean Series key will be reindexed to match DataFrame index.\n",
      "  This is separate from the ipykernel package so we can avoid doing imports until\n",
      "C:\\Users\\François CHARROIN\\Anaconda3\\lib\\site-packages\\ipykernel_launcher.py:4: UserWarning: Boolean Series key will be reindexed to match DataFrame index.\n",
      "  after removing the cwd from sys.path.\n",
      "C:\\Users\\François CHARROIN\\Anaconda3\\lib\\site-packages\\ipykernel_launcher.py:5: UserWarning: Boolean Series key will be reindexed to match DataFrame index.\n",
      "  \"\"\"\n",
      "C:\\Users\\François CHARROIN\\Anaconda3\\lib\\site-packages\\ipykernel_launcher.py:6: UserWarning: Boolean Series key will be reindexed to match DataFrame index.\n",
      "  \n",
      "C:\\Users\\François CHARROIN\\Anaconda3\\lib\\site-packages\\ipykernel_launcher.py:7: UserWarning: Boolean Series key will be reindexed to match DataFrame index.\n",
      "  import sys\n",
      "C:\\Users\\François CHARROIN\\Anaconda3\\lib\\site-packages\\ipykernel_launcher.py:8: UserWarning: Boolean Series key will be reindexed to match DataFrame index.\n",
      "  \n"
     ]
    },
    {
     "name": "stdout",
     "output_type": "stream",
     "text": [
      "Ttest_indResult(statistic=1.9980719682395505, pvalue=0.04572155315536299)\n",
      "Ttest_indResult(statistic=7.2218792830105265, pvalue=5.299939996069938e-13)\n",
      "Ttest_indResult(statistic=1.6072834688582578, pvalue=0.10800702530263884)\n",
      "Ttest_indResult(statistic=-5.88709607089693, pvalue=3.989366394038828e-09)\n",
      "Ttest_indResult(statistic=4.280705658267136, pvalue=1.8711604901913784e-05)\n"
     ]
    },
    {
     "name": "stderr",
     "output_type": "stream",
     "text": [
      "C:\\Users\\François CHARROIN\\Anaconda3\\lib\\site-packages\\ipykernel_launcher.py:9: UserWarning: Boolean Series key will be reindexed to match DataFrame index.\n",
      "  if __name__ == '__main__':\n",
      "C:\\Users\\François CHARROIN\\Anaconda3\\lib\\site-packages\\ipykernel_launcher.py:10: UserWarning: Boolean Series key will be reindexed to match DataFrame index.\n",
      "  # Remove the CWD from sys.path while we load stuff.\n"
     ]
    }
   ],
   "source": [
    "#Doing T-tests to see if there statiscaly significant difference for the distribution of the five emotions between NYt and Foxn\n",
    "\n",
    "#T-test for fear\n",
    "res = stats.ttest_ind(df_re_t[df_re_t['journal'] == \"foxnews\"][df_re_t['emotion'] == \"fear\"]['value'],\n",
    "                      df_re_t[df_re_t['journal'] == \"nytimes\"][df_re_t['emotion'] == \"fear\"]['value'],\n",
    "                      equal_var = True)\n",
    "\n",
    "#T-test for happiness\n",
    "res2 = stats.ttest_ind(df_re_t[df_re_t['journal'] == \"foxnews\"][df_re_t['emotion'] == \"happy\"]['value'],\n",
    "                       df_re_t[df_re_t['journal'] == \"nytimes\"][df_re_t['emotion'] == \"happy\"]['value'],\n",
    "                       equal_var = True) \n",
    "\n",
    "#T-test for angriness\n",
    "res3 = stats.ttest_ind(df_re_t[df_re_t['journal'] == \"foxnews\"][df_re_t['emotion'] == \"angry\"]['value'],\n",
    "                       df_re_t[df_re_t['journal'] == \"nytimes\"][df_re_t['emotion'] == \"angry\"]['value'],\n",
    "                       equal_var = True) \n",
    "\n",
    "#T-test for surprise\n",
    "res4 = stats.ttest_ind(df_re_t[df_re_t['journal'] == \"foxnews\"][df_re_t['emotion'] == \"surprise\"]['value'],\n",
    "                       df_re_t[df_re_t['journal'] == \"nytimes\"][df_re_t['emotion'] == \"surprise\"]['value'],\n",
    "                       equal_var = True) \n",
    "\n",
    "#T-test for sadness\n",
    "res5 = stats.ttest_ind(df_re_t[df_re_t['journal'] == \"foxnews\"][df_re_t['emotion'] == \"sad\"]['value'],\n",
    "                       df_re_t[df_re_t['journal'] == \"nytimes\"][df_re_t['emotion'] == \"sad\"]['value'],\n",
    "                       equal_var = True) \n",
    "\n",
    "print(res)\n",
    "print(res2)\n",
    "print(res3)\n",
    "print(res4)\n",
    "print(res5)"
   ]
  },
  {
   "cell_type": "code",
   "execution_count": 28,
   "metadata": {},
   "outputs": [
    {
     "data": {
      "text/plain": [
       "<matplotlib.axes._subplots.AxesSubplot at 0x187647f7408>"
      ]
     },
     "execution_count": 28,
     "metadata": {},
     "output_type": "execute_result"
    },
    {
     "data": {
      "image/png": "[encoded data removed]",
      "text/plain": [
       "<Figure size 432x288 with 1 Axes>"
      ]
     },
     "metadata": {
      "needs_background": "light"
     },
     "output_type": "display_data"
    }
   ],
   "source": [
    "sns.violinplot(x = 'emotion', y = \"value\", hue = \"journal\",\n",
    "                    data = df_re_t, palette = \"muted\", split = True)"
   ]
  },
  {
   "cell_type": "code",
   "execution_count": 29,
   "metadata": {},
   "outputs": [
    {
     "name": "stderr",
     "output_type": "stream",
     "text": [
      "C:\\Users\\François CHARROIN\\Anaconda3\\lib\\site-packages\\ipykernel_launcher.py:2: UserWarning: Boolean Series key will be reindexed to match DataFrame index.\n",
      "  \n",
      "C:\\Users\\François CHARROIN\\Anaconda3\\lib\\site-packages\\ipykernel_launcher.py:3: UserWarning: Boolean Series key will be reindexed to match DataFrame index.\n",
      "  This is separate from the ipykernel package so we can avoid doing imports until\n",
      "C:\\Users\\François CHARROIN\\Anaconda3\\lib\\site-packages\\ipykernel_launcher.py:4: UserWarning: Boolean Series key will be reindexed to match DataFrame index.\n",
      "  after removing the cwd from sys.path.\n",
      "C:\\Users\\François CHARROIN\\Anaconda3\\lib\\site-packages\\ipykernel_launcher.py:5: UserWarning: Boolean Series key will be reindexed to match DataFrame index.\n",
      "  \"\"\"\n",
      "C:\\Users\\François CHARROIN\\Anaconda3\\lib\\site-packages\\ipykernel_launcher.py:6: UserWarning: Boolean Series key will be reindexed to match DataFrame index.\n",
      "  \n",
      "C:\\Users\\François CHARROIN\\Anaconda3\\lib\\site-packages\\ipykernel_launcher.py:10: UserWarning: Boolean Series key will be reindexed to match DataFrame index.\n",
      "  # Remove the CWD from sys.path while we load stuff.\n",
      "C:\\Users\\François CHARROIN\\Anaconda3\\lib\\site-packages\\ipykernel_launcher.py:11: UserWarning: Boolean Series key will be reindexed to match DataFrame index.\n",
      "  # This is added back by InteractiveShellApp.init_path()\n",
      "C:\\Users\\François CHARROIN\\Anaconda3\\lib\\site-packages\\ipykernel_launcher.py:12: UserWarning: Boolean Series key will be reindexed to match DataFrame index.\n",
      "  if sys.path[0] == '':\n",
      "C:\\Users\\François CHARROIN\\Anaconda3\\lib\\site-packages\\ipykernel_launcher.py:13: UserWarning: Boolean Series key will be reindexed to match DataFrame index.\n",
      "  del sys.path[0]\n"
     ]
    },
    {
     "name": "stdout",
     "output_type": "stream",
     "text": [
      "fox fear 0.2911677183142423\n",
      "fox happy 0.11466074628028376\n",
      "fox angry 0.03748383578717756\n",
      "fox surprise 0.3598325153852094\n",
      "fox sad 0.1676482044091304\n",
      "ny fear 0.2833715569216213\n",
      "ny happy 0.09597115498285894\n",
      "ny angry 0.03503487409859311\n",
      "ny surprise 0.38464121054497746\n",
      "ny sad 0.15464593923631703\n"
     ]
    },
    {
     "name": "stderr",
     "output_type": "stream",
     "text": [
      "C:\\Users\\François CHARROIN\\Anaconda3\\lib\\site-packages\\ipykernel_launcher.py:14: UserWarning: Boolean Series key will be reindexed to match DataFrame index.\n",
      "  \n"
     ]
    }
   ],
   "source": [
    "#fox means\n",
    "a = df_re_t[df_re_t['journal'] == \"foxnews\"][df_re_t['emotion'] == \"fear\"]['value'].mean()\n",
    "b = df_re_t[df_re_t['journal'] == \"foxnews\"][df_re_t['emotion'] == \"happy\"]['value'].mean()\n",
    "c = df_re_t[df_re_t['journal'] == \"foxnews\"][df_re_t['emotion'] == \"angry\"]['value'].mean()\n",
    "d = df_re_t[df_re_t['journal'] == \"foxnews\"][df_re_t['emotion'] == \"surprise\"]['value'].mean()\n",
    "e = df_re_t[df_re_t['journal'] == \"foxnews\"][df_re_t['emotion'] == \"sad\"]['value'].mean()\n",
    "\n",
    "\n",
    "#ny means\n",
    "g = df_re_t[df_re_t['journal'] == \"nytimes\"][df_re_t['emotion'] == \"fear\"]['value'].mean()\n",
    "h = df_re_t[df_re_t['journal'] == \"nytimes\"][df_re_t['emotion'] == \"happy\"]['value'].mean()\n",
    "i = df_re_t[df_re_t['journal'] == \"nytimes\"][df_re_t['emotion'] == \"angry\"]['value'].mean()\n",
    "j = df_re_t[df_re_t['journal'] == \"nytimes\"][df_re_t['emotion'] == \"surprise\"]['value'].mean()\n",
    "k = df_re_t[df_re_t['journal'] == \"nytimes\"][df_re_t['emotion'] == \"sad\"]['value'].mean()\n",
    "\n",
    "print(\"fox fear {0}\".format(a))\n",
    "print(\"fox happy {0}\".format(b))\n",
    "print(\"fox angry {0}\".format(c))\n",
    "print(\"fox surprise {0}\".format(d))\n",
    "print(\"fox sad {0}\".format(e))\n",
    "\n",
    "print(\"ny fear {0}\".format(g))\n",
    "print(\"ny happy {0}\".format(h))\n",
    "print(\"ny angry {0}\".format(i))\n",
    "print(\"ny surprise {0}\".format(j))\n",
    "print(\"ny sad {0}\".format(k))"
   ]
  },
  {
   "cell_type": "code",
   "execution_count": 30,
   "metadata": {},
   "outputs": [],
   "source": [
    "lst = [df_re_t]\n",
    "del lst  "
   ]
  },
  {
   "cell_type": "markdown",
   "metadata": {},
   "source": [
    "## Racism<a name=\"rat\"></a>"
   ]
  },
  {
   "cell_type": "code",
   "execution_count": 32,
   "metadata": {},
   "outputs": [],
   "source": [
    "#Creating the dataframe with all the sentiment values from the text2emotion analysis\n",
    "df_ra_t = pd.DataFrame(columns = ['emotion','value','journal'])\n",
    "\n",
    "lista = [words_racism]\n",
    "lista2 = ['racism']\n",
    "\n",
    "\n",
    "df_fox_word = df_fox[df_fox['quotation'].str.contains([l for l in lista][0])]\n",
    "count_fox = len(df_fox_word)\n",
    "n = len(df_fox)\n",
    "\n",
    "for quotation in df_fox_word['quotation']:\n",
    "    \n",
    "    di = te.get_emotion(quotation)\n",
    "    fear = di.get('Fear')\n",
    "    happy = di.get('Happy')\n",
    "    angry = di.get('Angry')\n",
    "    surprise = di.get('Surprise')\n",
    "    sad = di.get('Sad')\n",
    "    \n",
    "    newr = pd.Series(data = {'emotion': \"fear\", 'value': fear, 'journal': \"foxnews\"}, name = 'x')\n",
    "    df_ra_t = df_ra_t.append(newr, ignore_index = True)\n",
    "    \n",
    "    newr = pd.Series(data = {'emotion': \"happy\", 'value': happy, 'journal': \"foxnews\"}, name = 'x')\n",
    "    df_ra_t = df_ra_t.append(newr, ignore_index = True)\n",
    "    \n",
    "    newr = pd.Series(data = {'emotion': \"angry\", 'value': angry, 'journal': \"foxnews\"}, name = 'x')\n",
    "    df_ra_t = df_ra_t.append(newr, ignore_index = True)\n",
    "\n",
    "\n",
    "    newr = pd.Series(data = {'emotion': \"surprise\", 'value': surprise, 'journal': \"foxnews\"}, name = 'x')\n",
    "    df_ra_t = df_ra_t.append(newr, ignore_index = True)\n",
    "    \n",
    "    newr = pd.Series(data = {'emotion': \"sad\", 'value': sad, 'journal': \"foxnews\"}, name = 'x')\n",
    "    df_ra_t = df_ra_t.append(newr, ignore_index = True)\n",
    "    \n",
    "\n",
    "df_ny_word = df_ny[df_ny['quotation'].str.contains([l for l in lista][0])]\n",
    "count_ny = len(df_ny_word)\n",
    "m = len(df_ny)\n",
    "\n",
    "\n",
    "for quotation in df_ny_word['quotation']:\n",
    "    \n",
    "    di = te.get_emotion(quotation)\n",
    "    fear = di.get('Fear')\n",
    "    happy = di.get('Happy')\n",
    "    angry = di.get('Angry')\n",
    "    surprise = di.get('Surprise')\n",
    "    sad = di.get('Sad')\n",
    "    \n",
    "    newr = pd.Series(data = {'emotion': \"fear\", 'value': fear, 'journal': \"nytimes\"}, name = 'x')\n",
    "    df_ra_t = df_ra_t.append(newr, ignore_index = True)\n",
    "    \n",
    "    newr = pd.Series(data = {'emotion': \"happy\", 'value': happy, 'journal': \"nytimes\"}, name = 'x')\n",
    "    df_ra_t = df_ra_t.append(newr, ignore_index = True)\n",
    "    \n",
    "    newr = pd.Series(data = {'emotion': \"angry\", 'value': angry, 'journal': \"nytimes\"}, name = 'x')\n",
    "    df_ra_t = df_ra_t.append(newr, ignore_index = True)\n",
    "    \n",
    "\n",
    "    newr = pd.Series(data = {'emotion': \"surprise\", 'value': surprise, 'journal': \"nytimes\"}, name = 'x')\n",
    "    df_ra_t = df_ra_t.append(newr, ignore_index = True)\n",
    "    \n",
    "    newr = pd.Series(data = {'emotion': \"sad\", 'value': sad, 'journal': \"nytimes\"}, name = 'x')\n",
    "    df_ra_t = df_ra_t.append(newr, ignore_index = True)"
   ]
  },
  {
   "cell_type": "code",
   "execution_count": 33,
   "metadata": {},
   "outputs": [
    {
     "name": "stderr",
     "output_type": "stream",
     "text": [
      "C:\\Users\\François CHARROIN\\Anaconda3\\lib\\site-packages\\ipykernel_launcher.py:1: UserWarning: Boolean Series key will be reindexed to match DataFrame index.\n",
      "  \"\"\"Entry point for launching an IPython kernel.\n",
      "C:\\Users\\François CHARROIN\\Anaconda3\\lib\\site-packages\\ipykernel_launcher.py:2: UserWarning: Boolean Series key will be reindexed to match DataFrame index.\n",
      "  \n",
      "C:\\Users\\François CHARROIN\\Anaconda3\\lib\\site-packages\\ipykernel_launcher.py:3: UserWarning: Boolean Series key will be reindexed to match DataFrame index.\n",
      "  This is separate from the ipykernel package so we can avoid doing imports until\n",
      "C:\\Users\\François CHARROIN\\Anaconda3\\lib\\site-packages\\ipykernel_launcher.py:4: UserWarning: Boolean Series key will be reindexed to match DataFrame index.\n",
      "  after removing the cwd from sys.path.\n",
      "C:\\Users\\François CHARROIN\\Anaconda3\\lib\\site-packages\\ipykernel_launcher.py:5: UserWarning: Boolean Series key will be reindexed to match DataFrame index.\n",
      "  \"\"\"\n",
      "C:\\Users\\François CHARROIN\\Anaconda3\\lib\\site-packages\\ipykernel_launcher.py:6: UserWarning: Boolean Series key will be reindexed to match DataFrame index.\n",
      "  \n",
      "C:\\Users\\François CHARROIN\\Anaconda3\\lib\\site-packages\\ipykernel_launcher.py:7: UserWarning: Boolean Series key will be reindexed to match DataFrame index.\n",
      "  import sys\n"
     ]
    },
    {
     "name": "stdout",
     "output_type": "stream",
     "text": [
      "Ttest_indResult(statistic=0.45446894483384914, pvalue=0.6494996648200828)\n",
      "Ttest_indResult(statistic=1.161389027408335, pvalue=0.2455071261657969)\n",
      "Ttest_indResult(statistic=0.2763198608990519, pvalue=0.7823072224039005)\n",
      "Ttest_indResult(statistic=7.6802927640146885, pvalue=1.7119721652701033e-14)\n",
      "Ttest_indResult(statistic=2.668829576758542, pvalue=0.0076219746625431715)\n"
     ]
    },
    {
     "name": "stderr",
     "output_type": "stream",
     "text": [
      "C:\\Users\\François CHARROIN\\Anaconda3\\lib\\site-packages\\ipykernel_launcher.py:8: UserWarning: Boolean Series key will be reindexed to match DataFrame index.\n",
      "  \n",
      "C:\\Users\\François CHARROIN\\Anaconda3\\lib\\site-packages\\ipykernel_launcher.py:9: UserWarning: Boolean Series key will be reindexed to match DataFrame index.\n",
      "  if __name__ == '__main__':\n",
      "C:\\Users\\François CHARROIN\\Anaconda3\\lib\\site-packages\\ipykernel_launcher.py:10: UserWarning: Boolean Series key will be reindexed to match DataFrame index.\n",
      "  # Remove the CWD from sys.path while we load stuff.\n"
     ]
    }
   ],
   "source": [
    "#Doing T-tests to see if there statiscaly significant difference for the distribution of the five emotions between NYt and Foxn\n",
    "\n",
    "\n",
    "#T-test for fear\n",
    "res = stats.ttest_ind(df_ra_t[df_ra_t['journal'] == \"foxnews\"][df_ra_t['emotion'] == \"fear\"]['value'],\n",
    "                      df_ra_t[df_ra_t['journal'] == \"nytimes\"][df_ra_t['emotion'] == \"fear\"]['value'],\n",
    "                      equal_var = True)\n",
    "\n",
    "#T-test for happiness\n",
    "res2 = stats.ttest_ind(df_ra_t[df_ra_t['journal'] == \"foxnews\"][df_ra_t['emotion'] == \"happy\"]['value'],\n",
    "                       df_ra_t[df_ra_t['journal'] == \"nytimes\"][df_ra_t['emotion'] == \"happy\"]['value'],\n",
    "                       equal_var = True) \n",
    "\n",
    "#T-test for angriness\n",
    "res3 = stats.ttest_ind(df_ra_t[df_ra_t['journal'] == \"foxnews\"][df_ra_t['emotion'] == \"angry\"]['value'],\n",
    "                       df_ra_t[df_ra_t['journal'] == \"nytimes\"][df_ra_t['emotion'] == \"angry\"]['value'],\n",
    "                       equal_var = True) \n",
    "#T-test for surprise\n",
    "res4 = stats.ttest_ind(df_ra_t[df_ra_t['journal'] == \"foxnews\"][df_ra_t['emotion'] == \"surprise\"]['value'],\n",
    "                       df_ra_t[df_ra_t['journal'] == \"nytimes\"][df_ra_t['emotion'] == \"surprise\"]['value'],\n",
    "                       equal_var = True) \n",
    "\n",
    "#T-test for sadness\n",
    "res5 = stats.ttest_ind(df_ra_t[df_ra_t['journal'] == \"foxnews\"][df_ra_t['emotion'] == \"sad\"]['value'],\n",
    "                       df_ra_t[df_ra_t['journal'] == \"nytimes\"][df_ra_t['emotion'] == \"sad\"]['value'],\n",
    "                       equal_var = True) \n",
    "\n",
    "print(res)\n",
    "print(res2)\n",
    "print(res3)\n",
    "print(res4)\n",
    "print(res5)"
   ]
  },
  {
   "cell_type": "code",
   "execution_count": 34,
   "metadata": {},
   "outputs": [
    {
     "data": {
      "text/plain": [
       "<matplotlib.axes._subplots.AxesSubplot at 0x187648adf48>"
      ]
     },
     "execution_count": 34,
     "metadata": {},
     "output_type": "execute_result"
    },
    {
     "data": {
      "image/png": "[encoded data removed]",
      "text/plain": [
       "<Figure size 432x288 with 1 Axes>"
      ]
     },
     "metadata": {
      "needs_background": "light"
     },
     "output_type": "display_data"
    }
   ],
   "source": [
    "sns.violinplot(x = 'emotion', y = \"value\", hue = \"journal\",\n",
    "                    data = df_ra_t, palette = \"muted\", split = True)"
   ]
  },
  {
   "cell_type": "code",
   "execution_count": 35,
   "metadata": {},
   "outputs": [
    {
     "name": "stdout",
     "output_type": "stream",
     "text": [
      "fox fear 0.5078556295399518\n",
      "fox happy 0.07891041162227577\n",
      "fox angry 0.039441585956416586\n",
      "fox surprise 0.18358656174334273\n",
      "fox sad 0.15917524213075168\n",
      "ny fear 0.5052613506295305\n",
      "ny happy 0.07557230064860714\n",
      "ny angry 0.03883822968332697\n",
      "ny surprise 0.15313429988554034\n",
      "ny sad 0.14873903090423551\n"
     ]
    },
    {
     "name": "stderr",
     "output_type": "stream",
     "text": [
      "C:\\Users\\François CHARROIN\\Anaconda3\\lib\\site-packages\\ipykernel_launcher.py:2: UserWarning: Boolean Series key will be reindexed to match DataFrame index.\n",
      "  \n",
      "C:\\Users\\François CHARROIN\\Anaconda3\\lib\\site-packages\\ipykernel_launcher.py:3: UserWarning: Boolean Series key will be reindexed to match DataFrame index.\n",
      "  This is separate from the ipykernel package so we can avoid doing imports until\n",
      "C:\\Users\\François CHARROIN\\Anaconda3\\lib\\site-packages\\ipykernel_launcher.py:4: UserWarning: Boolean Series key will be reindexed to match DataFrame index.\n",
      "  after removing the cwd from sys.path.\n",
      "C:\\Users\\François CHARROIN\\Anaconda3\\lib\\site-packages\\ipykernel_launcher.py:5: UserWarning: Boolean Series key will be reindexed to match DataFrame index.\n",
      "  \"\"\"\n",
      "C:\\Users\\François CHARROIN\\Anaconda3\\lib\\site-packages\\ipykernel_launcher.py:6: UserWarning: Boolean Series key will be reindexed to match DataFrame index.\n",
      "  \n",
      "C:\\Users\\François CHARROIN\\Anaconda3\\lib\\site-packages\\ipykernel_launcher.py:10: UserWarning: Boolean Series key will be reindexed to match DataFrame index.\n",
      "  # Remove the CWD from sys.path while we load stuff.\n",
      "C:\\Users\\François CHARROIN\\Anaconda3\\lib\\site-packages\\ipykernel_launcher.py:11: UserWarning: Boolean Series key will be reindexed to match DataFrame index.\n",
      "  # This is added back by InteractiveShellApp.init_path()\n",
      "C:\\Users\\François CHARROIN\\Anaconda3\\lib\\site-packages\\ipykernel_launcher.py:12: UserWarning: Boolean Series key will be reindexed to match DataFrame index.\n",
      "  if sys.path[0] == '':\n",
      "C:\\Users\\François CHARROIN\\Anaconda3\\lib\\site-packages\\ipykernel_launcher.py:13: UserWarning: Boolean Series key will be reindexed to match DataFrame index.\n",
      "  del sys.path[0]\n",
      "C:\\Users\\François CHARROIN\\Anaconda3\\lib\\site-packages\\ipykernel_launcher.py:14: UserWarning: Boolean Series key will be reindexed to match DataFrame index.\n",
      "  \n"
     ]
    }
   ],
   "source": [
    "#fox means\n",
    "a = df_ra_t[df_ra_t['journal'] == \"foxnews\"][df_ra_t['emotion'] == \"fear\"]['value'].mean()\n",
    "b = df_ra_t[df_ra_t['journal'] == \"foxnews\"][df_ra_t['emotion'] == \"happy\"]['value'].mean()\n",
    "c = df_ra_t[df_ra_t['journal'] ==\"foxnews\"][df_ra_t['emotion'] == \"angry\"]['value'].mean()\n",
    "d = df_ra_t[df_ra_t['journal'] == \"foxnews\"][df_ra_t['emotion'] == \"surprise\"]['value'].mean()\n",
    "e = df_ra_t[df_ra_t['journal'] == \"foxnews\"][df_ra_t['emotion'] == \"sad\"]['value'].mean()\n",
    "\n",
    "\n",
    "#ny means\n",
    "g = df_ra_t[df_ra_t['journal'] == \"nytimes\"][df_ra_t['emotion'] == \"fear\"]['value'].mean()\n",
    "h = df_ra_t[df_ra_t['journal'] == \"nytimes\"][df_ra_t['emotion'] == \"happy\"]['value'].mean()\n",
    "i = df_ra_t[df_ra_t['journal'] == \"nytimes\"][df_ra_t['emotion'] == \"angry\"]['value'].mean()\n",
    "j = df_ra_t[df_ra_t['journal'] == \"nytimes\"][df_ra_t['emotion'] == \"surprise\"]['value'].mean()\n",
    "k = df_ra_t[df_ra_t['journal'] == \"nytimes\"][df_ra_t['emotion'] == \"sad\"]['value'].mean()\n",
    "\n",
    "print(\"fox fear {0}\".format(a))\n",
    "print(\"fox happy {0}\".format(b))\n",
    "print(\"fox angry {0}\".format(c))\n",
    "print(\"fox surprise {0}\".format(d))\n",
    "print(\"fox sad {0}\".format(e))\n",
    "\n",
    "print(\"ny fear {0}\".format(g))\n",
    "print(\"ny happy {0}\".format(h))\n",
    "print(\"ny angry {0}\".format(i))\n",
    "print(\"ny surprise {0}\".format(j))\n",
    "print(\"ny sad {0}\".format(k))"
   ]
  },
  {
   "cell_type": "markdown",
   "metadata": {},
   "source": [
    "## Graphic<a name=\"g\"></a>"
   ]
  },
  {
   "cell_type": "code",
   "execution_count": 47,
   "metadata": {},
   "outputs": [
    {
     "data": {
      "image/png": "[encoded data removed]",
      "text/plain": [
       "<Figure size 432x288 with 1 Axes>"
      ]
     },
     "metadata": {
      "needs_background": "light"
     },
     "output_type": "display_data"
    }
   ],
   "source": [
    "#surprise text2emotion accross the years graphics\n",
    "Foxnews = [0.17517087308296242, 0.21587498458882556, 0.23715737951807267, 0.19239004149377587,\n",
    "        0.3598325153852094, 0.18358656174334273]\n",
    "Nytimes = [0.15778762767392618, 0.20558429299602934, 0.2173465346534656, 0.1906128550074739, \n",
    "        0.38464121054497746, 0.15313429988554034]\n",
    "index = ['Immigration', 'Terrorism', 'Climate change',\n",
    "         'Abortion', 'Religion', 'Racism']\n",
    "df = pd.DataFrame({'Foxnews': Foxnews,\n",
    "                   'Nytimes': Nytimes}, index = index)\n",
    "ax = df.plot.barh()"
   ]
  },
  {
   "cell_type": "code",
   "execution_count": null,
   "metadata": {},
   "outputs": [],
   "source": []
  }
 ],
 "metadata": {
  "kernelspec": {
   "display_name": "Python 3",
   "language": "python",
   "name": "python3"
  },
  "language_info": {
   "codemirror_mode": {
    "name": "ipython",
    "version": 3
   },
   "file_extension": ".py",
   "mimetype": "text/x-python",
   "name": "python",
   "nbconvert_exporter": "python",
   "pygments_lexer": "ipython3",
   "version": "3.7.4"
  }
 },
 "nbformat": 4,
 "nbformat_minor": 2
}
