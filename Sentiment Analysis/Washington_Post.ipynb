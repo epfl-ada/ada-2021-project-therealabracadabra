{
 "cells": [
  {
   "cell_type": "markdown",
   "metadata": {},
   "source": [
    "# Washington Post"
   ]
  },
  {
   "cell_type": "markdown",
   "metadata": {},
   "source": [
    "This notebook is composed of two parts. The first one is the calculation of some metrics that were also calculated for the NYtimes and Foxnews. The second is the comparison of the three journals with some graphics."
   ]
  },
  {
   "cell_type": "markdown",
   "metadata": {},
   "source": [
    "# Table of contents\n",
    "1. [Text2emotion by subject](#t)\n",
    "    * 1.1 [Immigration](#imt)\n",
    "    * 1.2 [Terrorism](#tet)\n",
    "    * 1.3 [Climate Change](#cct)\n",
    "    * 1.4 [Abortion](#abt)\n",
    "    * 1.5 [Religion](#ret)\n",
    "    * 1.6 [Racism](#rat)\n",
    "    \n",
    "    \n",
    "    \n",
    "2. [NLTK by subject](#n)\n",
    "    * 2.1 [Immigration](#imn)\n",
    "    * 2.2 [Terrorism](#ten)\n",
    "    * 2.3 [Climate Change](#ccn)\n",
    "    * 2.4 [Abortion](#abn)\n",
    "    * 2.5 [Religion](#ren)\n",
    "    * 2.6 [Racism](#ran)\n",
    "       \n",
    "       \n",
    "       \n",
    "3. [NLTK year by year](#ny)\n",
    "    * 2.1 [2015](#5)\n",
    "    * 2.2 [2016](#6)\n",
    "    * 2.3 [2017](#7)\n",
    "    * 2.4 [2018](#8)\n",
    "    * 2.5 [2019](#9)\n",
    "    * 2.6 [2020](#0)\n",
    "    \n",
    "    \n",
    "       \n",
    "4. [Comparison](#g)"
   ]
  },
  {
   "cell_type": "code",
   "execution_count": 4,
   "metadata": {},
   "outputs": [],
   "source": [
    "import seaborn as sns\n",
    "from IPython.display import display, HTML\n",
    "import matplotlib.pyplot as plt\n",
    "import scipy.stats as stats\n",
    "import pandas as pd\n",
    "import numpy as np\n",
    "import bz2\n",
    "import json\n",
    "from urllib.parse import urlparse\n",
    "import nltk\n",
    "from nltk.sentiment import SentimentIntensityAnalyzer\n",
    "import os\n",
    "import glob\n",
    "import pickle"
   ]
  },
  {
   "cell_type": "code",
   "execution_count": 69,
   "metadata": {},
   "outputs": [],
   "source": [
    "years = [2015, 2016, 2017, 2018, 2019, 2020]\n",
    "PATH = 'data/'\n",
    "\n",
    "df3 = pd.DataFrame(columns = ['quotation'])\n",
    "\n",
    "for y in years:\n",
    "    df3_y = pd.read_pickle(PATH+str(y)+'_'+'Washington_quotations.pkl')\n",
    "    df3_y = df3_y.to_frame()\n",
    "    df3 = df3.append(df3_y)"
   ]
  },
  {
   "cell_type": "code",
   "execution_count": 70,
   "metadata": {},
   "outputs": [],
   "source": [
    "#The chosen key words are selected here\n",
    "words_immigration = 'immigration|mexic|migrant|border|refugees'\n",
    "words_terrorism = 'shoot|gun|kill|attack|massacre|victim|terroris|arm|violen|death'\n",
    "words_ClimateChange = 'flood|greenhouse effect|CO2|global warming|pollution|glacier|ice pake melting|high temperatures|heat'\n",
    "words_abortion = 'abort|fetus'\n",
    "words_religion = 'God|Christian|Christianism|Belief|faith|prayer|commitment|islam|buddhism|hinduism|baptism|church|vatican|reincarnation|jesus'\n",
    "words_racism = 'White|Black|Black lives matter|All lives matter|discrimination|Segregation|George Floyd|Slaver|White supremacy|Klu Klux Klan|KKK|Gunshot|Trials|Police|Death sentence'"
   ]
  },
  {
   "cell_type": "code",
   "execution_count": 71,
   "metadata": {},
   "outputs": [],
   "source": [
    "import text2emotion as te\n",
    "sia = SentimentIntensityAnalyzer()"
   ]
  },
  {
   "cell_type": "markdown",
   "metadata": {},
   "source": [
    "## Text2emotion<a name=\"t\"></a>"
   ]
  },
  {
   "cell_type": "markdown",
   "metadata": {},
   "source": [
    "### Immigration<a name=\"imt\"></a>"
   ]
  },
  {
   "cell_type": "code",
   "execution_count": 72,
   "metadata": {},
   "outputs": [],
   "source": [
    "#Creating the dataframe with all the sentiment values from the text2emotion analysis\n",
    "df3_immi_t = pd.DataFrame(columns=['emotion','value'])\n",
    "\n",
    "lista = [words_immigration]\n",
    "lista2 = ['immigration']\n",
    "\n",
    "\n",
    "df3_word = df3[df3['quotation'].str.contains([l for l in lista][0])]\n",
    "count3 = len(df3_word)\n",
    "n = len(df_fox)\n",
    "\n",
    "for quotation in df3_word['quotation']:\n",
    "    \n",
    "    di = te.get_emotion(quotation)\n",
    "    fear = di.get('Fear')\n",
    "    happy = di.get('Happy')\n",
    "    angry = di.get('Angry')\n",
    "    surprise = di.get('Surprise')\n",
    "    sad = di.get('Sad')\n",
    "    \n",
    "    newr = pd.Series(data = {'emotion': \"fear\", 'value': fear}, name = 'x')\n",
    "    df3_immi_t = df3_immi_t.append(newr, ignore_index = True)\n",
    "    \n",
    "    newr = pd.Series(data = {'emotion': \"happy\", 'value': happy}, name = 'x')\n",
    "    df3_immi_t = df3_immi_t.append(newr, ignore_index = True)\n",
    "    \n",
    "    newr = pd.Series(data = {'emotion': \"angry\", 'value': angry}, name = 'x')\n",
    "    df3_immi_t = df3_immi_t.append(newr, ignore_index = True)\n",
    "    \n",
    "\n",
    "    newr = pd.Series(data = {'emotion': \"surprise\", 'value': surprise}, name = 'x')\n",
    "    df3_immi_t = df3_immi_t.append(newr, ignore_index = True)\n",
    "    \n",
    "    newr = pd.Series(data = {'emotion': \"sad\", 'value': sad}, name = 'x')\n",
    "    df3_immi_t = df3_immi_t.append(newr, ignore_index = True)"
   ]
  },
  {
   "cell_type": "code",
   "execution_count": 73,
   "metadata": {},
   "outputs": [
    {
     "data": {
      "text/plain": [
       "<matplotlib.axes._subplots.AxesSubplot at 0x2208ee942c8>"
      ]
     },
     "execution_count": 73,
     "metadata": {},
     "output_type": "execute_result"
    },
    {
     "data": {
      "image/png": "[encoded data removed]",
      "text/plain": [
       "<Figure size 432x288 with 1 Axes>"
      ]
     },
     "metadata": {
      "needs_background": "light"
     },
     "output_type": "display_data"
    }
   ],
   "source": [
    "sns.violinplot(x = 'emotion', y = \"value\",\n",
    "                    data=df3_immi_t, palette = \"muted\")"
   ]
  },
  {
   "cell_type": "code",
   "execution_count": 74,
   "metadata": {},
   "outputs": [
    {
     "name": "stdout",
     "output_type": "stream",
     "text": [
      "fear 0.4612888377445342\n",
      "happy 0.08848676639815883\n",
      "angry 0.05004027617951671\n",
      "surprise 0.15226121979286547\n",
      "sad 0.18511507479861886\n"
     ]
    }
   ],
   "source": [
    "#means\n",
    "a = df3_immi_t[df3_immi_t['emotion'] == \"fear\"]['value'].mean()\n",
    "b = df3_immi_t[df3_immi_t['emotion'] == \"happy\"]['value'].mean()\n",
    "c = df3_immi_t[df3_immi_t['emotion'] == \"angry\"]['value'].mean()\n",
    "d = df3_immi_t[df3_immi_t['emotion'] == \"surprise\"]['value'].mean()\n",
    "e = df3_immi_t[df3_immi_t['emotion'] == \"sad\"]['value'].mean()\n",
    "\n",
    "\n",
    "print(\"fear {0}\".format(a))\n",
    "print(\"happy {0}\".format(b))\n",
    "print(\"angry {0}\".format(c))\n",
    "print(\"surprise {0}\".format(d))\n",
    "print(\"sad {0}\".format(e))"
   ]
  },
  {
   "cell_type": "code",
   "execution_count": 75,
   "metadata": {},
   "outputs": [],
   "source": [
    "lst = [df3_immi_t]\n",
    "del lst "
   ]
  },
  {
   "cell_type": "markdown",
   "metadata": {},
   "source": [
    "### Terrorism<a name=\"tet\"></a>"
   ]
  },
  {
   "cell_type": "code",
   "execution_count": 76,
   "metadata": {},
   "outputs": [],
   "source": [
    "#Creating the dataframe with all the sentiment values from the text2emotion analysis\n",
    "df3_te_t = pd.DataFrame(columns=['emotion','value'])\n",
    "\n",
    "lista = [words_terrorism]\n",
    "lista2 = ['terrorism']\n",
    "\n",
    "\n",
    "df3_word = df3[df3['quotation'].str.contains([l for l in lista][0])]\n",
    "count3 = len(df3_word)\n",
    "n = len(df_fox)\n",
    "\n",
    "for quotation in df3_word['quotation']:\n",
    "    \n",
    "    di = te.get_emotion(quotation)\n",
    "    fear = di.get('Fear')\n",
    "    happy = di.get('Happy')\n",
    "    angry = di.get('Angry')\n",
    "    surprise = di.get('Surprise')\n",
    "    sad = di.get('Sad')\n",
    "    \n",
    "    newr = pd.Series(data = {'emotion': \"fear\", 'value': fear}, name = 'x')\n",
    "    df3_te_t = df3_te_t.append(newr, ignore_index = True)\n",
    "    \n",
    "    newr = pd.Series(data = {'emotion': \"happy\", 'value': happy}, name = 'x')\n",
    "    df3_te_t = df3_te_t.append(newr, ignore_index = True)\n",
    "    \n",
    "    newr = pd.Series(data = {'emotion': \"angry\", 'value': angry}, name = 'x')\n",
    "    df3_te_t = df3_te_t.append(newr, ignore_index = True)\n",
    "    \n",
    "\n",
    "    newr = pd.Series(data = {'emotion': \"surprise\", 'value': surprise}, name = 'x')\n",
    "    df3_te_t = df3_te_t.append(newr, ignore_index = True)\n",
    "    \n",
    "    newr = pd.Series(data = {'emotion': \"sad\", 'value': sad}, name = 'x')\n",
    "    df3_te_t = df3_te_t.append(newr, ignore_index = True)"
   ]
  },
  {
   "cell_type": "code",
   "execution_count": 77,
   "metadata": {},
   "outputs": [
    {
     "data": {
      "text/plain": [
       "<matplotlib.axes._subplots.AxesSubplot at 0x22094fcb7c8>"
      ]
     },
     "execution_count": 77,
     "metadata": {},
     "output_type": "execute_result"
    },
    {
     "data": {
      "image/png": "[encoded data removed]",
      "text/plain": [
       "<Figure size 432x288 with 1 Axes>"
      ]
     },
     "metadata": {
      "needs_background": "light"
     },
     "output_type": "display_data"
    }
   ],
   "source": [
    "sns.violinplot(x = 'emotion', y = \"value\",\n",
    "                    data=df3_te_t, palette = \"muted\")"
   ]
  },
  {
   "cell_type": "code",
   "execution_count": 78,
   "metadata": {},
   "outputs": [
    {
     "name": "stdout",
     "output_type": "stream",
     "text": [
      "fear 0.40691987079295505\n",
      "happy 0.07414296134208637\n",
      "angry 0.04269876002917566\n",
      "surprise 0.19926018547462784\n",
      "sad 0.205472543503179\n"
     ]
    }
   ],
   "source": [
    "#means\n",
    "a = df3_te_t[df3_te_t['emotion'] == \"fear\"]['value'].mean()\n",
    "b = df3_te_t[df3_te_t['emotion'] == \"happy\"]['value'].mean()\n",
    "c = df3_te_t[df3_te_t['emotion'] == \"angry\"]['value'].mean()\n",
    "d = df3_te_t[df3_te_t['emotion'] == \"surprise\"]['value'].mean()\n",
    "e = df3_te_t[df3_te_t['emotion'] == \"sad\"]['value'].mean()\n",
    "\n",
    "\n",
    "print(\"fear {0}\".format(a))\n",
    "print(\"happy {0}\".format(b))\n",
    "print(\"angry {0}\".format(c))\n",
    "print(\"surprise {0}\".format(d))\n",
    "print(\"sad {0}\".format(e))"
   ]
  },
  {
   "cell_type": "code",
   "execution_count": 79,
   "metadata": {},
   "outputs": [],
   "source": [
    "lst = [df3_te_t]\n",
    "del lst "
   ]
  },
  {
   "cell_type": "markdown",
   "metadata": {},
   "source": [
    "### Climate change<a name=\"cct\"></a>"
   ]
  },
  {
   "cell_type": "code",
   "execution_count": 80,
   "metadata": {},
   "outputs": [],
   "source": [
    "#Creating the dataframe with all the sentiment values from the text2emotion analysis\n",
    "df3_cc_t = pd.DataFrame(columns=['emotion','value'])\n",
    "\n",
    "lista = [words_ClimateChange]\n",
    "lista2 = ['climate change']\n",
    "\n",
    "\n",
    "df3_word = df3[df3['quotation'].str.contains([l for l in lista][0])]\n",
    "count3 = len(df3_word)\n",
    "n = len(df_fox)\n",
    "\n",
    "for quotation in df3_word['quotation']:\n",
    "    \n",
    "    di = te.get_emotion(quotation)\n",
    "    fear = di.get('Fear')\n",
    "    happy = di.get('Happy')\n",
    "    angry = di.get('Angry')\n",
    "    surprise = di.get('Surprise')\n",
    "    sad = di.get('Sad')\n",
    "    \n",
    "    newr = pd.Series(data = {'emotion': \"fear\", 'value': fear}, name = 'x')\n",
    "    df3_cc_t = df3_cc_t.append(newr, ignore_index=True)\n",
    "    \n",
    "    newr = pd.Series(data = {'emotion': \"happy\", 'value': happy}, name = 'x')\n",
    "    df3_cc_t = df3_cc_t.append(newr, ignore_index=True)\n",
    "    \n",
    "    newr = pd.Series(data = {'emotion': \"angry\", 'value': angry}, name = 'x')\n",
    "    df3_cc_t = df3_cc_t.append(newr, ignore_index=True)\n",
    "    \n",
    "\n",
    "    newr = pd.Series(data = {'emotion': \"surprise\", 'value': surprise}, name = 'x')\n",
    "    df3_cc_t = df3_cc_t.append(newr, ignore_index=True)\n",
    "    \n",
    "    newr = pd.Series(data = {'emotion': \"sad\", 'value': sad}, name = 'x')\n",
    "    df3_cc_t = df3_cc_t.append(newr, ignore_index=True)"
   ]
  },
  {
   "cell_type": "code",
   "execution_count": 81,
   "metadata": {},
   "outputs": [
    {
     "data": {
      "text/plain": [
       "<matplotlib.axes._subplots.AxesSubplot at 0x2209507ebc8>"
      ]
     },
     "execution_count": 81,
     "metadata": {},
     "output_type": "execute_result"
    },
    {
     "data": {
      "image/png": "[encoded data removed]",
      "text/plain": [
       "<Figure size 432x288 with 1 Axes>"
      ]
     },
     "metadata": {
      "needs_background": "light"
     },
     "output_type": "display_data"
    }
   ],
   "source": [
    "sns.violinplot(x = 'emotion', y = \"value\",\n",
    "                    data=df3_cc_t, palette = \"muted\")"
   ]
  },
  {
   "cell_type": "code",
   "execution_count": 82,
   "metadata": {},
   "outputs": [
    {
     "name": "stdout",
     "output_type": "stream",
     "text": [
      "fear 0.3731568998109643\n",
      "happy 0.08943289224952741\n",
      "angry 0.0395085066162571\n",
      "surprise 0.23595463137996228\n",
      "sad 0.19867674858223072\n"
     ]
    }
   ],
   "source": [
    "#means\n",
    "a = df3_cc_t[df3_cc_t['emotion'] == \"fear\"]['value'].mean()\n",
    "b = df3_cc_t[df3_cc_t['emotion'] == \"happy\"]['value'].mean()\n",
    "c = df3_cc_t[df3_cc_t['emotion'] == \"angry\"]['value'].mean()\n",
    "d = df3_cc_t[df3_cc_t['emotion'] == \"surprise\"]['value'].mean()\n",
    "e = df3_cc_t[df3_cc_t['emotion'] == \"sad\"]['value'].mean()\n",
    "\n",
    "\n",
    "print(\"fear {0}\".format(a))\n",
    "print(\"happy {0}\".format(b))\n",
    "print(\"angry {0}\".format(c))\n",
    "print(\"surprise {0}\".format(d))\n",
    "print(\"sad {0}\".format(e))"
   ]
  },
  {
   "cell_type": "code",
   "execution_count": 83,
   "metadata": {},
   "outputs": [],
   "source": [
    "lst = [df3_cc_t]\n",
    "del lst "
   ]
  },
  {
   "cell_type": "markdown",
   "metadata": {},
   "source": [
    "### Abortion<a name=\"abt\"></a>"
   ]
  },
  {
   "cell_type": "code",
   "execution_count": 84,
   "metadata": {},
   "outputs": [],
   "source": [
    "#Creating the dataframe with all the sentiment values from the text2emotion analysis\n",
    "df3_ab_t = pd.DataFrame(columns=['emotion','value'])\n",
    "\n",
    "lista = [words_abortion]\n",
    "lista2 = ['abortion']\n",
    "\n",
    "\n",
    "df3_word = df3[df3['quotation'].str.contains([l for l in lista][0])]\n",
    "count3 = len(df3_word)\n",
    "n = len(df_fox)\n",
    "\n",
    "for quotation in df3_word['quotation']:\n",
    "    \n",
    "    di = te.get_emotion(quotation)\n",
    "    fear = di.get('Fear')\n",
    "    happy = di.get('Happy')\n",
    "    angry = di.get('Angry')\n",
    "    surprise = di.get('Surprise')\n",
    "    sad = di.get('Sad')\n",
    "    \n",
    "    newr = pd.Series(data = {'emotion': \"fear\", 'value': fear}, name = 'x')\n",
    "    df3_ab_t = df3_ab_t.append(newr, ignore_index = True)\n",
    "    \n",
    "    newr = pd.Series(data = {'emotion': \"happy\", 'value': happy}, name = 'x')\n",
    "    df3_ab_t = df3_ab_t.append(newr, ignore_index = True)\n",
    "    \n",
    "    newr = pd.Series(data = {'emotion': \"angry\", 'value': angry}, name = 'x')\n",
    "    df3_ab_t = df3_ab_t.append(newr, ignore_index = True)\n",
    "    \n",
    "\n",
    "    newr = pd.Series(data = {'emotion': \"surprise\", 'value': surprise}, name = 'x')\n",
    "    df3_ab_t = df3_ab_t.append(newr, ignore_index = True)\n",
    "    \n",
    "    newr = pd.Series(data = {'emotion': \"sad\", 'value': sad}, name = 'x')\n",
    "    df3_ab_t = df3_ab_t.append(newr, ignore_index = True)"
   ]
  },
  {
   "cell_type": "code",
   "execution_count": 85,
   "metadata": {},
   "outputs": [
    {
     "data": {
      "text/plain": [
       "<matplotlib.axes._subplots.AxesSubplot at 0x2209511e648>"
      ]
     },
     "execution_count": 85,
     "metadata": {},
     "output_type": "execute_result"
    },
    {
     "data": {
      "image/png": "[encoded data removed]",
      "text/plain": [
       "<Figure size 432x288 with 1 Axes>"
      ]
     },
     "metadata": {
      "needs_background": "light"
     },
     "output_type": "display_data"
    }
   ],
   "source": [
    "sns.violinplot(x = 'emotion', y = \"value\",\n",
    "                    data=df3_ab_t, palette = \"muted\")"
   ]
  },
  {
   "cell_type": "code",
   "execution_count": 86,
   "metadata": {},
   "outputs": [
    {
     "name": "stdout",
     "output_type": "stream",
     "text": [
      "fear 0.4361748633879782\n",
      "happy 0.05693989071038252\n",
      "angry 0.04961748633879781\n",
      "surprise 0.1908196721311475\n",
      "sad 0.16765027322404366\n"
     ]
    }
   ],
   "source": [
    "#means\n",
    "a = df3_ab_t[df3_ab_t['emotion'] == \"fear\"]['value'].mean()\n",
    "b = df3_ab_t[df3_ab_t['emotion'] == \"happy\"]['value'].mean()\n",
    "c = df3_ab_t[df3_ab_t['emotion'] == \"angry\"]['value'].mean()\n",
    "d = df3_ab_t[df3_ab_t['emotion'] == \"surprise\"]['value'].mean()\n",
    "e = df3_ab_t[df3_ab_t['emotion'] == \"sad\"]['value'].mean()\n",
    "\n",
    "\n",
    "print(\"fear {0}\".format(a))\n",
    "print(\"happy {0}\".format(b))\n",
    "print(\"angry {0}\".format(c))\n",
    "print(\"surprise {0}\".format(d))\n",
    "print(\"sad {0}\".format(e))"
   ]
  },
  {
   "cell_type": "code",
   "execution_count": 87,
   "metadata": {},
   "outputs": [],
   "source": [
    "lst = [df3_ab_t]\n",
    "del lst "
   ]
  },
  {
   "cell_type": "markdown",
   "metadata": {},
   "source": [
    "### Religion<a name=\"ret\"></a>"
   ]
  },
  {
   "cell_type": "code",
   "execution_count": 88,
   "metadata": {},
   "outputs": [],
   "source": [
    "#Creating the dataframe with all the sentiment values from the text2emotion analysis\n",
    "df3_re_t = pd.DataFrame(columns=['emotion','value'])\n",
    "\n",
    "lista = [words_religion]\n",
    "lista2 = ['religion']\n",
    "\n",
    "\n",
    "df3_word = df3[df3['quotation'].str.contains([l for l in lista][0])]\n",
    "count3 = len(df3_word)\n",
    "n = len(df_fox)\n",
    "\n",
    "for quotation in df3_word['quotation']:\n",
    "    \n",
    "    di = te.get_emotion(quotation)\n",
    "    fear = di.get('Fear')\n",
    "    happy = di.get('Happy')\n",
    "    angry = di.get('Angry')\n",
    "    surprise = di.get('Surprise')\n",
    "    sad = di.get('Sad')\n",
    "    \n",
    "    newr = pd.Series(data = {'emotion': \"fear\", 'value': fear}, name = 'x')\n",
    "    df3_re_t = df3_re_t.append(newr, ignore_index = True)\n",
    "    \n",
    "    newr = pd.Series(data = {'emotion': \"happy\", 'value': happy}, name = 'x')\n",
    "    df3_re_t = df3_re_t.append(newr, ignore_index = True)\n",
    "    \n",
    "    newr = pd.Series(data = {'emotion': \"angry\", 'value': angry}, name = 'x')\n",
    "    df3_re_t = df3_re_t.append(newr, ignore_index = True)\n",
    "    \n",
    "\n",
    "    newr = pd.Series(data = {'emotion': \"surprise\", 'value': surprise}, name = 'x')\n",
    "    df3_re_t = df3_re_t.append(newr, ignore_index = True)\n",
    "    \n",
    "    newr = pd.Series(data = {'emotion': \"sad\", 'value': sad}, name = 'x')\n",
    "    df3_re_t = df3_re_t.append(newr, ignore_index = True)"
   ]
  },
  {
   "cell_type": "code",
   "execution_count": 89,
   "metadata": {},
   "outputs": [
    {
     "data": {
      "text/plain": [
       "<matplotlib.axes._subplots.AxesSubplot at 0x2209519c488>"
      ]
     },
     "execution_count": 89,
     "metadata": {},
     "output_type": "execute_result"
    },
    {
     "data": {
      "image/png": "[encoded data removed]",
      "text/plain": [
       "<Figure size 432x288 with 1 Axes>"
      ]
     },
     "metadata": {
      "needs_background": "light"
     },
     "output_type": "display_data"
    }
   ],
   "source": [
    "sns.violinplot(x = 'emotion', y = \"value\",\n",
    "                    data = df3_re_t, palette = \"muted\")"
   ]
  },
  {
   "cell_type": "code",
   "execution_count": 90,
   "metadata": {},
   "outputs": [
    {
     "name": "stdout",
     "output_type": "stream",
     "text": [
      "fear 0.3008911260253545\n",
      "happy 0.10951901565995519\n",
      "angry 0.03336316181953768\n",
      "surprise 0.3482252050708432\n",
      "sad 0.17144295302013374\n"
     ]
    }
   ],
   "source": [
    "#means\n",
    "a = df3_re_t[df3_re_t['emotion'] == \"fear\"]['value'].mean()\n",
    "b = df3_re_t[df3_re_t['emotion'] == \"happy\"]['value'].mean()\n",
    "c = df3_re_t[df3_re_t['emotion'] == \"angry\"]['value'].mean()\n",
    "d = df3_re_t[df3_re_t['emotion'] == \"surprise\"]['value'].mean()\n",
    "e = df3_re_t[df3_re_t['emotion'] == \"sad\"]['value'].mean()\n",
    "\n",
    "\n",
    "print(\"fear {0}\".format(a))\n",
    "print(\"happy {0}\".format(b))\n",
    "print(\"angry {0}\".format(c))\n",
    "print(\"surprise {0}\".format(d))\n",
    "print(\"sad {0}\".format(e))"
   ]
  },
  {
   "cell_type": "code",
   "execution_count": 91,
   "metadata": {},
   "outputs": [],
   "source": [
    "lst = [df3_re_t]\n",
    "del lst "
   ]
  },
  {
   "cell_type": "markdown",
   "metadata": {},
   "source": [
    "### Racisme<a name=\"rat\"></a>"
   ]
  },
  {
   "cell_type": "code",
   "execution_count": 92,
   "metadata": {},
   "outputs": [],
   "source": [
    "#Creating the dataframe with all the sentiment values from the text2emotion analysis\n",
    "df3_ra_t = pd.DataFrame(columns=['emotion','value'])\n",
    "\n",
    "lista = [words_racism]\n",
    "lista2 = ['racism']\n",
    "\n",
    "\n",
    "df3_word = df3[df3['quotation'].str.contains([l for l in lista][0])]\n",
    "count3 = len(df3_word)\n",
    "n = len(df_fox)\n",
    "\n",
    "for quotation in df3_word['quotation']:\n",
    "    \n",
    "    di = te.get_emotion(quotation)\n",
    "    fear = di.get('Fear')\n",
    "    happy = di.get('Happy')\n",
    "    angry = di.get('Angry')\n",
    "    surprise = di.get('Surprise')\n",
    "    sad = di.get('Sad')\n",
    "    \n",
    "    newr = pd.Series(data = {'emotion': \"fear\", 'value': fear}, name = 'x')\n",
    "    df3_ra_t = df3_ra_t.append(newr, ignore_index = True)\n",
    "    \n",
    "    newr = pd.Series(data = {'emotion': \"happy\", 'value': happy}, name = 'x')\n",
    "    df3_ra_t = df3_ra_t.append(newr, ignore_index = True)\n",
    "    \n",
    "    newr = pd.Series(data = {'emotion': \"angry\", 'value': angry}, name = 'x')\n",
    "    df3_ra_t = df3_ra_t.append(newr, ignore_index = True)\n",
    "    \n",
    "\n",
    "    newr = pd.Series(data = {'emotion': \"surprise\", 'value': surprise}, name = 'x')\n",
    "    df3_ra_t = df3_ra_t.append(newr, ignore_index = True)\n",
    "    \n",
    "    newr = pd.Series(data = {'emotion': \"sad\", 'value': sad}, name = 'x')\n",
    "    df3_ra_t = df3_ra_t.append(newr, ignore_index = True)"
   ]
  },
  {
   "cell_type": "code",
   "execution_count": 95,
   "metadata": {},
   "outputs": [
    {
     "name": "stdout",
     "output_type": "stream",
     "text": [
      "fear 0.5406943498978896\n",
      "happy 0.08205582028590884\n",
      "angry 0.03906739278420693\n",
      "surprise 0.13570456092579983\n",
      "sad 0.1536759700476514\n"
     ]
    }
   ],
   "source": [
    "#means\n",
    "a = df3_ra_t[df3_ra_t['emotion'] == \"fear\"]['value'].mean()\n",
    "b = df3_ra_t[df3_ra_t['emotion'] == \"happy\"]['value'].mean()\n",
    "c = df3_ra_t[df3_ra_t['emotion'] == \"angry\"]['value'].mean()\n",
    "d = df3_ra_t[df3_ra_t['emotion'] == \"surprise\"]['value'].mean()\n",
    "e = df3_ra_t[df3_ra_t['emotion'] == \"sad\"]['value'].mean()\n",
    "\n",
    "\n",
    "print(\"fear {0}\".format(a))\n",
    "print(\"happy {0}\".format(b))\n",
    "print(\"angry {0}\".format(c))\n",
    "print(\"surprise {0}\".format(d))\n",
    "print(\"sad {0}\".format(e))"
   ]
  },
  {
   "cell_type": "markdown",
   "metadata": {},
   "source": [
    "## NLTK<a name=\"n\"></a>"
   ]
  },
  {
   "cell_type": "code",
   "execution_count": 13,
   "metadata": {},
   "outputs": [],
   "source": [
    "sia = SentimentIntensityAnalyzer()"
   ]
  },
  {
   "cell_type": "markdown",
   "metadata": {},
   "source": [
    "### Immigration<a name=\"imn\"></a>"
   ]
  },
  {
   "cell_type": "code",
   "execution_count": 14,
   "metadata": {},
   "outputs": [],
   "source": [
    "#Creating the dataframe with all the sentiment values from the nltk analysis\n",
    "df3_immi_n = pd.DataFrame(columns=['emotion','value'])\n",
    "\n",
    "lista = [words_immigration]\n",
    "lista2 = ['immigration']\n",
    "\n",
    "\n",
    "df3_word = df3[df3['quotation'].str.contains([l for l in lista][0])]\n",
    "count3 = len(df3_word)\n",
    "n = len(df_fox)\n",
    "\n",
    "for quotation in df3_word['quotation']:\n",
    "    \n",
    "    result = sia.polarity_scores(quotation)\n",
    "    pos = result[\"pos\"]\n",
    "    neg = result[\"neg\"]\n",
    "    \n",
    "    newr = pd.Series(data = {'emotion': \"positive\", 'value': pos}, name = 'x')\n",
    "    df3_immi_n = df3_immi_n.append(newr, ignore_index=True)\n",
    "    \n",
    "    newr = pd.Series(data = {'emotion': \"negative\", 'value': neg}, name = 'x')\n",
    "    df3_immi_n = df3_immi_n.append(newr, ignore_index=True)"
   ]
  },
  {
   "cell_type": "code",
   "execution_count": 15,
   "metadata": {},
   "outputs": [
    {
     "data": {
      "text/plain": [
       "<matplotlib.axes._subplots.AxesSubplot at 0x2208a7f2e88>"
      ]
     },
     "execution_count": 15,
     "metadata": {},
     "output_type": "execute_result"
    },
    {
     "data": {
      "image/png": "[encoded data removed]",
      "text/plain": [
       "<Figure size 432x288 with 1 Axes>"
      ]
     },
     "metadata": {
      "needs_background": "light"
     },
     "output_type": "display_data"
    }
   ],
   "source": [
    "sns.violinplot(x = 'emotion', y = \"value\",\n",
    "                    data = df3_immi_n, palette = \"muted\")"
   ]
  },
  {
   "cell_type": "code",
   "execution_count": 16,
   "metadata": {},
   "outputs": [
    {
     "name": "stdout",
     "output_type": "stream",
     "text": [
      "positive 0.10375086306098985\n",
      "negative 0.11154718066743395\n"
     ]
    }
   ],
   "source": [
    "a = df3_immi_n[df3_immi_n['emotion'] == \"positive\"]['value'].mean()\n",
    "b = df3_immi_n[df3_immi_n['emotion'] == \"negative\"]['value'].mean()\n",
    "\n",
    "print(\"positive {0}\".format(a))\n",
    "print(\"negative {0}\".format(b))"
   ]
  },
  {
   "cell_type": "code",
   "execution_count": 17,
   "metadata": {},
   "outputs": [],
   "source": [
    "lst = [df3_immi_n]\n",
    "del lst     "
   ]
  },
  {
   "cell_type": "markdown",
   "metadata": {},
   "source": [
    "### Terrorism<a name=\"ten\"></a>"
   ]
  },
  {
   "cell_type": "code",
   "execution_count": 18,
   "metadata": {},
   "outputs": [],
   "source": [
    "#Creating the dataframe with all the sentiment values from the nltk analysis\n",
    "df3_te_n = pd.DataFrame(columns=['emotion','value'])\n",
    "\n",
    "lista = [words_immigration]\n",
    "lista2 = ['immigration']\n",
    "\n",
    "\n",
    "df3_word = df3[df3['quotation'].str.contains([l for l in lista][0])]\n",
    "count3 = len(df3_word)\n",
    "n = len(df_fox)\n",
    "\n",
    "for quotation in df3_word['quotation']:\n",
    "    \n",
    "    result = sia.polarity_scores(quotation)\n",
    "    pos = result[\"pos\"]\n",
    "    neg = result[\"neg\"]\n",
    "    \n",
    "    newr = pd.Series(data = {'emotion': \"positive\", 'value': pos}, name = 'x')\n",
    "    df3_te_n = df3_te_n.append(newr, ignore_index=True)\n",
    "    \n",
    "    newr = pd.Series(data = {'emotion': \"negative\", 'value': neg}, name = 'x')\n",
    "    df3_te_n = df3_te_n.append(newr, ignore_index=True)"
   ]
  },
  {
   "cell_type": "code",
   "execution_count": 19,
   "metadata": {},
   "outputs": [
    {
     "data": {
      "text/plain": [
       "<matplotlib.axes._subplots.AxesSubplot at 0x2208cd32d08>"
      ]
     },
     "execution_count": 19,
     "metadata": {},
     "output_type": "execute_result"
    },
    {
     "data": {
      "image/png": "[encoded data removed]",
      "text/plain": [
       "<Figure size 432x288 with 1 Axes>"
      ]
     },
     "metadata": {
      "needs_background": "light"
     },
     "output_type": "display_data"
    }
   ],
   "source": [
    "sns.violinplot(x = 'emotion', y = \"value\",\n",
    "                    data = df3_te_n, palette = \"muted\")"
   ]
  },
  {
   "cell_type": "code",
   "execution_count": 20,
   "metadata": {},
   "outputs": [
    {
     "name": "stdout",
     "output_type": "stream",
     "text": [
      "positive 0.10375086306098985\n",
      "negative 0.11154718066743395\n"
     ]
    }
   ],
   "source": [
    "a = df3_te_n[df3_te_n['emotion'] == \"positive\"]['value'].mean()\n",
    "b = df3_te_n[df3_te_n['emotion'] == \"negative\"]['value'].mean()\n",
    "\n",
    "print(\"positive {0}\".format(a))\n",
    "print(\"negative {0}\".format(b))"
   ]
  },
  {
   "cell_type": "code",
   "execution_count": 21,
   "metadata": {},
   "outputs": [],
   "source": [
    "lst = [df3_te_n]\n",
    "del lst  "
   ]
  },
  {
   "cell_type": "markdown",
   "metadata": {},
   "source": [
    "### Climate change<a name=\"ccn\"></a>"
   ]
  },
  {
   "cell_type": "code",
   "execution_count": 22,
   "metadata": {},
   "outputs": [],
   "source": [
    "#Creating the dataframe with all the sentiment values from the nltk analysis\n",
    "df3_cc_n = pd.DataFrame(columns=['emotion','value'])\n",
    "\n",
    "lista = [words_immigration]\n",
    "lista2 = ['immigration']\n",
    "\n",
    "\n",
    "df3_word = df3[df3['quotation'].str.contains([l for l in lista][0])]\n",
    "count3 = len(df3_word)\n",
    "n = len(df_fox)\n",
    "\n",
    "for quotation in df3_word['quotation']:\n",
    "    \n",
    "    result = sia.polarity_scores(quotation)\n",
    "    pos = result[\"pos\"]\n",
    "    neg = result[\"neg\"]\n",
    "    \n",
    "    newr = pd.Series(data = {'emotion': \"positive\", 'value': pos}, name = 'x')\n",
    "    df3_cc_n = df3_cc_n.append(newr, ignore_index=True)\n",
    "    \n",
    "    newr = pd.Series(data = {'emotion': \"negative\", 'value': neg}, name = 'x')\n",
    "    df3_cc_n = df3_cc_n.append(newr, ignore_index=True)"
   ]
  },
  {
   "cell_type": "code",
   "execution_count": 23,
   "metadata": {},
   "outputs": [
    {
     "data": {
      "text/plain": [
       "<matplotlib.axes._subplots.AxesSubplot at 0x2208cd44e08>"
      ]
     },
     "execution_count": 23,
     "metadata": {},
     "output_type": "execute_result"
    },
    {
     "data": {
      "image/png": "[encoded data removed]",
      "text/plain": [
       "<Figure size 432x288 with 1 Axes>"
      ]
     },
     "metadata": {
      "needs_background": "light"
     },
     "output_type": "display_data"
    }
   ],
   "source": [
    "sns.violinplot(x = 'emotion', y = \"value\",\n",
    "                    data=df3_cc_n, palette = \"muted\")"
   ]
  },
  {
   "cell_type": "code",
   "execution_count": 24,
   "metadata": {},
   "outputs": [
    {
     "name": "stdout",
     "output_type": "stream",
     "text": [
      "positive 0.10375086306098985\n",
      "negative 0.11154718066743395\n"
     ]
    }
   ],
   "source": [
    "a = df3_cc_n[df3_cc_n['emotion'] == \"positive\"]['value'].mean()\n",
    "b = df3_cc_n[df3_cc_n['emotion'] == \"negative\"]['value'].mean()\n",
    "\n",
    "print(\"positive {0}\".format(a))\n",
    "print(\"negative {0}\".format(b))"
   ]
  },
  {
   "cell_type": "code",
   "execution_count": 25,
   "metadata": {},
   "outputs": [],
   "source": [
    "lst = [df3_cc_n]\n",
    "del lst  "
   ]
  },
  {
   "cell_type": "markdown",
   "metadata": {},
   "source": [
    "### Abortion<a name=\"abn\"></a>"
   ]
  },
  {
   "cell_type": "code",
   "execution_count": 26,
   "metadata": {},
   "outputs": [],
   "source": [
    "#Creating the dataframe with all the sentiment values from the nltk analysis\n",
    "df3_ab_n = pd.DataFrame(columns=['emotion','value'])\n",
    "\n",
    "lista = [words_immigration]\n",
    "lista2 = ['immigration']\n",
    "\n",
    "\n",
    "df3_word = df3[df3['quotation'].str.contains([l for l in lista][0])]\n",
    "count3 = len(df3_word)\n",
    "n = len(df_fox)\n",
    "\n",
    "for quotation in df3_word['quotation']:\n",
    "    \n",
    "    result = sia.polarity_scores(quotation)\n",
    "    pos = result[\"pos\"]\n",
    "    neg = result[\"neg\"]\n",
    "    \n",
    "    newr = pd.Series(data = {'emotion': \"positive\", 'value': pos}, name = 'x')\n",
    "    df3_ab_n = df3_ab_n.append(newr, ignore_index=True)\n",
    "    \n",
    "    newr = pd.Series(data = {'emotion': \"negative\", 'value': neg}, name = 'x')\n",
    "    df3_ab_n = df3_ab_n.append(newr, ignore_index=True)"
   ]
  },
  {
   "cell_type": "code",
   "execution_count": 27,
   "metadata": {},
   "outputs": [
    {
     "data": {
      "text/plain": [
       "<matplotlib.axes._subplots.AxesSubplot at 0x2208e780608>"
      ]
     },
     "execution_count": 27,
     "metadata": {},
     "output_type": "execute_result"
    },
    {
     "data": {
      "image/png": "[encoded data removed]",
      "text/plain": [
       "<Figure size 432x288 with 1 Axes>"
      ]
     },
     "metadata": {
      "needs_background": "light"
     },
     "output_type": "display_data"
    }
   ],
   "source": [
    "sns.violinplot(x = 'emotion', y = \"value\",\n",
    "                    data=df3_ab_n, palette = \"muted\")"
   ]
  },
  {
   "cell_type": "code",
   "execution_count": 28,
   "metadata": {},
   "outputs": [
    {
     "name": "stdout",
     "output_type": "stream",
     "text": [
      "positive 0.10375086306098985\n",
      "negative 0.11154718066743395\n"
     ]
    }
   ],
   "source": [
    "a = df3_ab_n[df3_ab_n['emotion'] == \"positive\"]['value'].mean()\n",
    "b = df3_ab_n[df3_ab_n['emotion'] == \"negative\"]['value'].mean()\n",
    "\n",
    "print(\"positive {0}\".format(a))\n",
    "print(\"negative {0}\".format(b))"
   ]
  },
  {
   "cell_type": "code",
   "execution_count": 29,
   "metadata": {},
   "outputs": [],
   "source": [
    "lst = [df3_ab_n]\n",
    "del lst  "
   ]
  },
  {
   "cell_type": "markdown",
   "metadata": {},
   "source": [
    "### Religion<a name=\"ren\"></a>"
   ]
  },
  {
   "cell_type": "code",
   "execution_count": 30,
   "metadata": {},
   "outputs": [],
   "source": [
    "#Creating the dataframe with all the sentiment values from the nltk analysis\n",
    "df3_re_n = pd.DataFrame(columns=['emotion','value'])\n",
    "\n",
    "lista = [words_immigration]\n",
    "lista2 = ['immigration']\n",
    "\n",
    "\n",
    "df3_word = df3[df3['quotation'].str.contains([l for l in lista][0])]\n",
    "count3 = len(df3_word)\n",
    "n = len(df_fox)\n",
    "\n",
    "for quotation in df3_word['quotation']:\n",
    "    \n",
    "    result = sia.polarity_scores(quotation)\n",
    "    pos = result[\"pos\"]\n",
    "    neg = result[\"neg\"]\n",
    "    \n",
    "    newr = pd.Series(data = {'emotion': \"positive\", 'value': pos}, name = 'x')\n",
    "    df3_re_n = df3_re_n.append(newr, ignore_index=True)\n",
    "    \n",
    "    newr = pd.Series(data = {'emotion': \"negative\", 'value': neg}, name = 'x')\n",
    "    df3_re_n = df3_re_n.append(newr, ignore_index=True)"
   ]
  },
  {
   "cell_type": "code",
   "execution_count": 31,
   "metadata": {},
   "outputs": [
    {
     "data": {
      "text/plain": [
       "<matplotlib.axes._subplots.AxesSubplot at 0x2208e801ec8>"
      ]
     },
     "execution_count": 31,
     "metadata": {},
     "output_type": "execute_result"
    },
    {
     "data": {
      "image/png": "[encoded data removed]",
      "text/plain": [
       "<Figure size 432x288 with 1 Axes>"
      ]
     },
     "metadata": {
      "needs_background": "light"
     },
     "output_type": "display_data"
    }
   ],
   "source": [
    "sns.violinplot(x = 'emotion', y = \"value\",\n",
    "                    data=df3_re_n, palette = \"muted\")"
   ]
  },
  {
   "cell_type": "code",
   "execution_count": 32,
   "metadata": {},
   "outputs": [
    {
     "name": "stdout",
     "output_type": "stream",
     "text": [
      "positive 0.10375086306098985\n",
      "negative 0.11154718066743395\n"
     ]
    }
   ],
   "source": [
    "a = df3_re_n[df3_re_n['emotion'] == \"positive\"]['value'].mean()\n",
    "b = df3_re_n[df3_re_n['emotion'] == \"negative\"]['value'].mean()\n",
    "\n",
    "print(\"positive {0}\".format(a))\n",
    "print(\"negative {0}\".format(b))"
   ]
  },
  {
   "cell_type": "code",
   "execution_count": 33,
   "metadata": {},
   "outputs": [],
   "source": [
    "lst = [df3_re_n]\n",
    "del lst  "
   ]
  },
  {
   "cell_type": "markdown",
   "metadata": {},
   "source": [
    "### Racisme<a name=\"ran\"></a>"
   ]
  },
  {
   "cell_type": "code",
   "execution_count": 34,
   "metadata": {},
   "outputs": [],
   "source": [
    "#Creating the dataframe with all the sentiment values from the nltk analysis\n",
    "df3_ra_n = pd.DataFrame(columns=['emotion','value'])\n",
    "\n",
    "lista = [words_immigration]\n",
    "lista2 = ['immigration']\n",
    "\n",
    "\n",
    "df3_word = df3[df3['quotation'].str.contains([l for l in lista][0])]\n",
    "count3 = len(df3_word)\n",
    "n = len(df_fox)\n",
    "\n",
    "for quotation in df3_word['quotation']:\n",
    "    \n",
    "    result = sia.polarity_scores(quotation)\n",
    "    pos = result[\"pos\"]\n",
    "    neg = result[\"neg\"]\n",
    "    \n",
    "    newr = pd.Series(data = {'emotion': \"positive\", 'value': pos}, name = 'x')\n",
    "    df3_ra_n = df3_ra_n.append(newr, ignore_index=True)\n",
    "    \n",
    "    newr = pd.Series(data = {'emotion': \"negative\", 'value': neg}, name = 'x')\n",
    "    df3_ra_n = df3_ra_n.append(newr, ignore_index=True)"
   ]
  },
  {
   "cell_type": "code",
   "execution_count": 35,
   "metadata": {},
   "outputs": [
    {
     "data": {
      "text/plain": [
       "<matplotlib.axes._subplots.AxesSubplot at 0x2208e870f08>"
      ]
     },
     "execution_count": 35,
     "metadata": {},
     "output_type": "execute_result"
    },
    {
     "data": {
      "image/png": "[encoded data removed]",
      "text/plain": [
       "<Figure size 432x288 with 1 Axes>"
      ]
     },
     "metadata": {
      "needs_background": "light"
     },
     "output_type": "display_data"
    }
   ],
   "source": [
    "sns.violinplot(x = 'emotion', y = \"value\",\n",
    "                    data=df3_ra_n, palette = \"muted\")"
   ]
  },
  {
   "cell_type": "code",
   "execution_count": 36,
   "metadata": {},
   "outputs": [
    {
     "name": "stdout",
     "output_type": "stream",
     "text": [
      "positive 0.10375086306098985\n",
      "negative 0.11154718066743395\n"
     ]
    }
   ],
   "source": [
    "a = df3_ra_n[df3_ra_n['emotion'] == \"positive\"]['value'].mean()\n",
    "b = df3_ra_n[df3_ra_n['emotion'] == \"negative\"]['value'].mean()\n",
    "\n",
    "print(\"positive {0}\".format(a))\n",
    "print(\"negative {0}\".format(b))"
   ]
  },
  {
   "cell_type": "code",
   "execution_count": 37,
   "metadata": {},
   "outputs": [],
   "source": [
    "lst = [df3, df3_y]\n",
    "del lst  "
   ]
  },
  {
   "cell_type": "markdown",
   "metadata": {},
   "source": [
    "## NLTK Year by year<a name=\"ny\"></a>"
   ]
  },
  {
   "cell_type": "markdown",
   "metadata": {},
   "source": [
    "### 2015<a name=\"5\"></a>"
   ]
  },
  {
   "cell_type": "code",
   "execution_count": 40,
   "metadata": {},
   "outputs": [],
   "source": [
    "#Loading the data for this specific year \n",
    "years = [2015]\n",
    "PATH = 'data/'\n",
    "\n",
    "df3 = pd.DataFrame(columns = ['quotation'])\n",
    "\n",
    "for y in years:\n",
    "    df3_y = pd.read_pickle(PATH+str(y)+'_'+'Washington_quotations.pkl')\n",
    "    df3_y = df3_y.to_frame()\n",
    "    df3 = df3.append(df3_y)"
   ]
  },
  {
   "cell_type": "code",
   "execution_count": 41,
   "metadata": {},
   "outputs": [],
   "source": [
    "#Creating the dataframe with all the sentiment values from the nltk analysis\n",
    "df_2015 = pd.DataFrame(columns = ['emotion','value'])\n",
    "\n",
    "\n",
    "for quotation in df3['quotation']:\n",
    "    \n",
    "    result = sia.polarity_scores(quotation)\n",
    "    pos = result[\"pos\"]\n",
    "    neg = result[\"neg\"]\n",
    "    \n",
    "    newr = pd.Series(data = {'emotion': \"positive\", 'value': pos}, name = 'x')\n",
    "    df_2015 = df_2015.append(newr, ignore_index = True)\n",
    "    \n",
    "    newr = pd.Series(data = {'emotion': \"negative\", 'value': neg}, name = 'x')\n",
    "    df_2015 = df_2015.append(newr, ignore_index = True)"
   ]
  },
  {
   "cell_type": "code",
   "execution_count": 42,
   "metadata": {},
   "outputs": [
    {
     "data": {
      "text/plain": [
       "<matplotlib.axes._subplots.AxesSubplot at 0x2208b543d08>"
      ]
     },
     "execution_count": 42,
     "metadata": {},
     "output_type": "execute_result"
    },
    {
     "data": {
      "image/png": "[encoded data removed]",
      "text/plain": [
       "<Figure size 432x288 with 1 Axes>"
      ]
     },
     "metadata": {
      "needs_background": "light"
     },
     "output_type": "display_data"
    }
   ],
   "source": [
    "sns.violinplot(x = 'emotion', y = \"value\",\n",
    "                    data = df_2015, palette = \"muted\")"
   ]
  },
  {
   "cell_type": "code",
   "execution_count": 43,
   "metadata": {},
   "outputs": [
    {
     "name": "stdout",
     "output_type": "stream",
     "text": [
      "positive 0.11645209027007042\n",
      "negative 0.09463808731039607\n"
     ]
    }
   ],
   "source": [
    "a = df_2015[df_2015['emotion'] == \"positive\"]['value'].mean()\n",
    "b = df_2015[df_2015['emotion'] == \"negative\"]['value'].mean()\n",
    "\n",
    "print(\"positive {0}\".format(a))\n",
    "print(\"negative {0}\".format(b))"
   ]
  },
  {
   "cell_type": "code",
   "execution_count": 44,
   "metadata": {},
   "outputs": [],
   "source": [
    "lst = [df_2015]\n",
    "del lst  "
   ]
  },
  {
   "cell_type": "markdown",
   "metadata": {},
   "source": [
    "### 2016<a name=\"6\"></a>"
   ]
  },
  {
   "cell_type": "code",
   "execution_count": 45,
   "metadata": {},
   "outputs": [],
   "source": [
    "#Loading the data for this specific year \n",
    "years = [2016]\n",
    "PATH = 'data/'\n",
    "\n",
    "df3 = pd.DataFrame(columns = ['quotation'])\n",
    "\n",
    "for y in years:\n",
    "    df3_y = pd.read_pickle(PATH+str(y)+'_'+'Washington_quotations.pkl')\n",
    "    df3_y = df3_y.to_frame()\n",
    "    df3 = df3.append(df3_y)"
   ]
  },
  {
   "cell_type": "code",
   "execution_count": 46,
   "metadata": {},
   "outputs": [],
   "source": [
    "#Creating the dataframe with all the sentiment values from the nltk analysis\n",
    "df_2016 = pd.DataFrame(columns = ['emotion','value'])\n",
    "\n",
    "\n",
    "for quotation in df3['quotation']:\n",
    "    \n",
    "    result = sia.polarity_scores(quotation)\n",
    "    pos = result[\"pos\"]\n",
    "    neg = result[\"neg\"]\n",
    "    \n",
    "    newr = pd.Series(data = {'emotion': \"positive\", 'value': pos}, name = 'x')\n",
    "    df_2016 = df_2016.append(newr, ignore_index = True)\n",
    "    \n",
    "    newr = pd.Series(data = {'emotion': \"negative\", 'value': neg}, name = 'x')\n",
    "    df_2016 = df_2016.append(newr, ignore_index = True)"
   ]
  },
  {
   "cell_type": "code",
   "execution_count": 47,
   "metadata": {},
   "outputs": [
    {
     "data": {
      "text/plain": [
       "<matplotlib.axes._subplots.AxesSubplot at 0x2208b4dd508>"
      ]
     },
     "execution_count": 47,
     "metadata": {},
     "output_type": "execute_result"
    },
    {
     "data": {
      "image/png": "[encoded data removed]",
      "text/plain": [
       "<Figure size 432x288 with 1 Axes>"
      ]
     },
     "metadata": {
      "needs_background": "light"
     },
     "output_type": "display_data"
    }
   ],
   "source": [
    "sns.violinplot(x = 'emotion', y = \"value\",\n",
    "                    data = df_2016, palette = \"muted\")"
   ]
  },
  {
   "cell_type": "code",
   "execution_count": 48,
   "metadata": {},
   "outputs": [
    {
     "name": "stdout",
     "output_type": "stream",
     "text": [
      "positive 0.12563308589607675\n",
      "negative 0.08306436314363096\n"
     ]
    }
   ],
   "source": [
    "a = df_2016[df_2016['emotion'] == \"positive\"]['value'].mean()\n",
    "b = df_2016[df_2016['emotion'] == \"negative\"]['value'].mean()\n",
    "\n",
    "print(\"positive {0}\".format(a))\n",
    "print(\"negative {0}\".format(b))"
   ]
  },
  {
   "cell_type": "code",
   "execution_count": 49,
   "metadata": {},
   "outputs": [],
   "source": [
    "lst = [df_2016]\n",
    "del lst  "
   ]
  },
  {
   "cell_type": "markdown",
   "metadata": {},
   "source": [
    "### 2017<a name=\"7\"></a>"
   ]
  },
  {
   "cell_type": "code",
   "execution_count": 50,
   "metadata": {},
   "outputs": [],
   "source": [
    "#Loading the data for this specific year \n",
    "years = [2017]\n",
    "PATH = 'data/'\n",
    "\n",
    "df3 = pd.DataFrame(columns = ['quotation'])\n",
    "\n",
    "for y in years:\n",
    "    df3_y = pd.read_pickle(PATH+str(y)+'_'+'Washington_quotations.pkl')\n",
    "    df3_y = df3_y.to_frame()\n",
    "    df3 = df3.append(df3_y)"
   ]
  },
  {
   "cell_type": "code",
   "execution_count": 51,
   "metadata": {},
   "outputs": [],
   "source": [
    "#Creating the dataframe with all the sentiment values from the nltk analysis\n",
    "df_2017 = pd.DataFrame(columns = ['emotion','value'])\n",
    "\n",
    "\n",
    "for quotation in df3['quotation']:\n",
    "    \n",
    "    result = sia.polarity_scores(quotation)\n",
    "    pos = result[\"pos\"]\n",
    "    neg = result[\"neg\"]\n",
    "    \n",
    "    newr = pd.Series(data = {'emotion': \"positive\", 'value': pos}, name = 'x')\n",
    "    df_2017 = df_2017.append(newr, ignore_index = True)\n",
    "    \n",
    "    newr = pd.Series(data = {'emotion': \"negative\", 'value': neg}, name = 'x')\n",
    "    df_2017 = df_2017.append(newr, ignore_index = True)"
   ]
  },
  {
   "cell_type": "code",
   "execution_count": 52,
   "metadata": {},
   "outputs": [
    {
     "data": {
      "text/plain": [
       "<matplotlib.axes._subplots.AxesSubplot at 0x2208b543d88>"
      ]
     },
     "execution_count": 52,
     "metadata": {},
     "output_type": "execute_result"
    },
    {
     "data": {
      "image/png": "[encoded data removed]",
      "text/plain": [
       "<Figure size 432x288 with 1 Axes>"
      ]
     },
     "metadata": {
      "needs_background": "light"
     },
     "output_type": "display_data"
    }
   ],
   "source": [
    "sns.violinplot(x = 'emotion', y = \"value\",\n",
    "                    data = df_2017, palette = \"muted\")"
   ]
  },
  {
   "cell_type": "code",
   "execution_count": 53,
   "metadata": {},
   "outputs": [
    {
     "name": "stdout",
     "output_type": "stream",
     "text": [
      "positive 0.11792081634377857\n",
      "negative 0.09250681342826393\n"
     ]
    }
   ],
   "source": [
    "a = df_2017[df_2017['emotion'] == \"positive\"]['value'].mean()\n",
    "b = df_2017[df_2017['emotion'] == \"negative\"]['value'].mean()\n",
    "\n",
    "print(\"positive {0}\".format(a))\n",
    "print(\"negative {0}\".format(b))"
   ]
  },
  {
   "cell_type": "code",
   "execution_count": 54,
   "metadata": {},
   "outputs": [],
   "source": [
    "lst = [df_2017]\n",
    "del lst  "
   ]
  },
  {
   "cell_type": "markdown",
   "metadata": {},
   "source": [
    "### 2018<a name=\"8\"></a>"
   ]
  },
  {
   "cell_type": "code",
   "execution_count": 55,
   "metadata": {},
   "outputs": [],
   "source": [
    "#Loading the data for this specific year \n",
    "years = [2018]\n",
    "PATH = 'data/'\n",
    "\n",
    "df3 = pd.DataFrame(columns = ['quotation'])\n",
    "\n",
    "for y in years:\n",
    "    df3_y = pd.read_pickle(PATH+str(y)+'_'+'Washington_quotations.pkl')\n",
    "    df3_y = df3_y.to_frame()\n",
    "    df3 = df3.append(df3_y)"
   ]
  },
  {
   "cell_type": "code",
   "execution_count": 56,
   "metadata": {},
   "outputs": [],
   "source": [
    "#Creating the dataframe with all the sentiment values from the nltk analysis\n",
    "df_2018 = pd.DataFrame(columns = ['emotion','value'])\n",
    "\n",
    "\n",
    "for quotation in df3['quotation']:\n",
    "    \n",
    "    result = sia.polarity_scores(quotation)\n",
    "    pos = result[\"pos\"]\n",
    "    neg = result[\"neg\"]\n",
    "    \n",
    "    newr = pd.Series(data = {'emotion': \"positive\", 'value': pos}, name = 'x')\n",
    "    df_2018 = df_2018.append(newr, ignore_index = True)\n",
    "    \n",
    "    newr = pd.Series(data = {'emotion': \"negative\", 'value': neg}, name = 'x')\n",
    "    df_2018 = df_2018.append(newr, ignore_index = True)"
   ]
  },
  {
   "cell_type": "code",
   "execution_count": 57,
   "metadata": {},
   "outputs": [
    {
     "data": {
      "text/plain": [
       "<matplotlib.axes._subplots.AxesSubplot at 0x2208f7d7a48>"
      ]
     },
     "execution_count": 57,
     "metadata": {},
     "output_type": "execute_result"
    },
    {
     "data": {
      "image/png": "[encoded data removed]",
      "text/plain": [
       "<Figure size 432x288 with 1 Axes>"
      ]
     },
     "metadata": {
      "needs_background": "light"
     },
     "output_type": "display_data"
    }
   ],
   "source": [
    "sns.violinplot(x = 'emotion', y = \"value\",\n",
    "                    data = df_2018, palette = \"muted\")"
   ]
  },
  {
   "cell_type": "code",
   "execution_count": 58,
   "metadata": {},
   "outputs": [
    {
     "name": "stdout",
     "output_type": "stream",
     "text": [
      "positive 0.11712005108556807\n",
      "negative 0.09834581204767968\n"
     ]
    }
   ],
   "source": [
    "a = df_2018[df_2018['emotion'] == \"positive\"]['value'].mean()\n",
    "b = df_2018[df_2018['emotion'] == \"negative\"]['value'].mean()\n",
    "\n",
    "print(\"positive {0}\".format(a))\n",
    "print(\"negative {0}\".format(b))"
   ]
  },
  {
   "cell_type": "code",
   "execution_count": 59,
   "metadata": {},
   "outputs": [],
   "source": [
    "lst = [df_2018]\n",
    "del lst  "
   ]
  },
  {
   "cell_type": "markdown",
   "metadata": {},
   "source": [
    "### 2019<a name=\"9\"></a>"
   ]
  },
  {
   "cell_type": "code",
   "execution_count": 60,
   "metadata": {},
   "outputs": [],
   "source": [
    "#Loading the data for this specific year \n",
    "years = [2019]\n",
    "PATH = 'data/'\n",
    "\n",
    "df3 = pd.DataFrame(columns = ['quotation'])\n",
    "\n",
    "for y in years:\n",
    "    df3_y = pd.read_pickle(PATH+str(y)+'_'+'Washington_quotations.pkl')\n",
    "    df3_y = df3_y.to_frame()\n",
    "    df3 = df3.append(df3_y)"
   ]
  },
  {
   "cell_type": "code",
   "execution_count": 61,
   "metadata": {},
   "outputs": [],
   "source": [
    "#Creating the dataframe with all the sentiment values from the nltk analysis\n",
    "df_2019 = pd.DataFrame(columns = ['emotion','value'])\n",
    "\n",
    "\n",
    "for quotation in df3['quotation']:\n",
    "    \n",
    "    result = sia.polarity_scores(quotation)\n",
    "    pos = result[\"pos\"]\n",
    "    neg = result[\"neg\"]\n",
    "    \n",
    "    newr = pd.Series(data = {'emotion': \"positive\", 'value': pos}, name = 'x')\n",
    "    df_2019 = df_2019.append(newr, ignore_index = True)\n",
    "    \n",
    "    newr = pd.Series(data = {'emotion': \"negative\", 'value': neg}, name = 'x')\n",
    "    df_2019 = df_2019.append(newr, ignore_index = True)"
   ]
  },
  {
   "cell_type": "code",
   "execution_count": 62,
   "metadata": {},
   "outputs": [
    {
     "data": {
      "text/plain": [
       "<matplotlib.axes._subplots.AxesSubplot at 0x2208ed4b9c8>"
      ]
     },
     "execution_count": 62,
     "metadata": {},
     "output_type": "execute_result"
    },
    {
     "data": {
      "image/png": "[encoded data removed]",
      "text/plain": [
       "<Figure size 432x288 with 1 Axes>"
      ]
     },
     "metadata": {
      "needs_background": "light"
     },
     "output_type": "display_data"
    }
   ],
   "source": [
    "sns.violinplot(x = 'emotion', y = \"value\",\n",
    "                    data = df_2019, palette = \"muted\")"
   ]
  },
  {
   "cell_type": "code",
   "execution_count": 63,
   "metadata": {},
   "outputs": [
    {
     "name": "stdout",
     "output_type": "stream",
     "text": [
      "positive 0.11569578006972742\n",
      "negative 0.09473830621731531\n"
     ]
    }
   ],
   "source": [
    "a = df_2019[df_2019['emotion'] == \"positive\"]['value'].mean()\n",
    "b = df_2019[df_2019['emotion'] == \"negative\"]['value'].mean()\n",
    "\n",
    "print(\"positive {0}\".format(a))\n",
    "print(\"negative {0}\".format(b))"
   ]
  },
  {
   "cell_type": "code",
   "execution_count": 64,
   "metadata": {},
   "outputs": [],
   "source": [
    "lst = [df_2019]\n",
    "del lst  "
   ]
  },
  {
   "cell_type": "markdown",
   "metadata": {},
   "source": [
    "### 2020<a name=\"0\"></a>"
   ]
  },
  {
   "cell_type": "code",
   "execution_count": 65,
   "metadata": {},
   "outputs": [],
   "source": [
    "#Loading the data for this specific year \n",
    "years = [2020]\n",
    "PATH = 'data/'\n",
    "\n",
    "df3 = pd.DataFrame(columns = ['quotation'])\n",
    "\n",
    "for y in years:\n",
    "    df3_y = pd.read_pickle(PATH+str(y)+'_'+'Washington_quotations.pkl')\n",
    "    df3_y = df3_y.to_frame()\n",
    "    df3 = df3.append(df3_y)"
   ]
  },
  {
   "cell_type": "code",
   "execution_count": 66,
   "metadata": {},
   "outputs": [],
   "source": [
    "#Creating the dataframe with all the sentiment values from the nltk analysis\n",
    "df_2020 = pd.DataFrame(columns = ['emotion','value'])\n",
    "\n",
    "\n",
    "for quotation in df3['quotation']:\n",
    "    \n",
    "    result = sia.polarity_scores(quotation)\n",
    "    pos = result[\"pos\"]\n",
    "    neg = result[\"neg\"]\n",
    "    \n",
    "    newr = pd.Series(data = {'emotion': \"positive\", 'value': pos}, name = 'x')\n",
    "    df_2020 = df_2020.append(newr, ignore_index = True)\n",
    "    \n",
    "    newr = pd.Series(data = {'emotion': \"negative\", 'value': neg}, name = 'x')\n",
    "    df_2020 = df_2020.append(newr, ignore_index = True)"
   ]
  },
  {
   "cell_type": "code",
   "execution_count": 67,
   "metadata": {},
   "outputs": [
    {
     "data": {
      "text/plain": [
       "<matplotlib.axes._subplots.AxesSubplot at 0x2208f0dcb08>"
      ]
     },
     "execution_count": 67,
     "metadata": {},
     "output_type": "execute_result"
    },
    {
     "data": {
      "image/png": "[encoded data removed]",
      "text/plain": [
       "<Figure size 432x288 with 1 Axes>"
      ]
     },
     "metadata": {
      "needs_background": "light"
     },
     "output_type": "display_data"
    }
   ],
   "source": [
    "sns.violinplot(x = 'emotion', y = \"value\",\n",
    "                    data = df_2020, palette = \"muted\")"
   ]
  },
  {
   "cell_type": "code",
   "execution_count": 68,
   "metadata": {},
   "outputs": [
    {
     "name": "stdout",
     "output_type": "stream",
     "text": [
      "positive 0.11780602966980368\n",
      "negative 0.08588881799330034\n"
     ]
    }
   ],
   "source": [
    "a = df_2020[df_2020['emotion'] == \"positive\"]['value'].mean()\n",
    "b = df_2020[df_2020['emotion'] == \"negative\"]['value'].mean()\n",
    "\n",
    "print(\"positive {0}\".format(a))\n",
    "print(\"negative {0}\".format(b))"
   ]
  },
  {
   "cell_type": "markdown",
   "metadata": {},
   "source": [
    "## Comparison<a name=\"g\"></a>"
   ]
  },
  {
   "cell_type": "code",
   "execution_count": 98,
   "metadata": {},
   "outputs": [
    {
     "data": {
      "image/png": "[encoded data removed]",
      "text/plain": [
       "<Figure size 432x288 with 1 Axes>"
      ]
     },
     "metadata": {
      "needs_background": "light"
     },
     "output_type": "display_data"
    }
   ],
   "source": [
    "#negative nltk accross the years graphics, values from the Ny times and Foxnews were printed in other notebooks\n",
    "Foxnews = [0.08460186549682747, 0.08982915883001527, 0.09031551686457373, 0.08932449686837941,\n",
    "        0.08390509712436937, 0.07977823563551907]\n",
    "Nytimes = [0.08762264150943382, 0.07555322827908305, 0.07493777566340601, 0.07592907038524226, \n",
    "        0.07564601349876199, 0.07730176613885521]\n",
    "WashingtonPost = [0.09463808731039607, 0.08306436314363096, 0.09250681342826393, 0.09834581204767968, \n",
    "        0.09473830621731531, 0.09473830621731531]\n",
    "\n",
    "index = ['2015', '2016', '2017',\n",
    "         '2018', '2019', '2020']\n",
    "df = pd.DataFrame({'Foxnews': Foxnews,\n",
    "                   'Nytimes': Nytimes,'WashingtonPost': WashingtonPost}, index = index)\n",
    "ax = df.plot.barh()"
   ]
  },
  {
   "cell_type": "code",
   "execution_count": 99,
   "metadata": {},
   "outputs": [
    {
     "data": {
      "image/png": "[encoded data removed]",
      "text/plain": [
       "<Figure size 432x288 with 1 Axes>"
      ]
     },
     "metadata": {
      "needs_background": "light"
     },
     "output_type": "display_data"
    }
   ],
   "source": [
    "#surprise text2emotion accross the years graphics\n",
    "Foxnews = [0.17517087308296242, 0.21587498458882556, 0.23715737951807267, 0.19239004149377587,\n",
    "        0.3598325153852094, 0.18358656174334273]\n",
    "Nytimes = [0.15778762767392618, 0.20558429299602934, 0.2173465346534656, 0.1906128550074739, \n",
    "        0.38464121054497746, 0.15313429988554034]\n",
    "WashingtonPost = [0.15226121979286547, 0.19926018547462784, 0.23595463137996228, 0.1908196721311475, \n",
    "        0.3482252050708432, 0.13570456092579983]\n",
    "\n",
    "index = ['Immigration', 'Terrorism', 'Climate change',\n",
    "         'Abortion', 'Religion', 'Racisme']\n",
    "df = pd.DataFrame({'Foxnews': Foxnews,\n",
    "                   'Nytimes': Nytimes,'WashingtonPost': WashingtonPost}, index = index)\n",
    "ax = df.plot.barh() "
   ]
  },
  {
   "cell_type": "code",
   "execution_count": null,
   "metadata": {},
   "outputs": [],
   "source": []
  }
 ],
 "metadata": {
  "kernelspec": {
   "display_name": "Python 3",
   "language": "python",
   "name": "python3"
  },
  "language_info": {
   "codemirror_mode": {
    "name": "ipython",
    "version": 3
   },
   "file_extension": ".py",
   "mimetype": "text/x-python",
   "name": "python",
   "nbconvert_exporter": "python",
   "pygments_lexer": "ipython3",
   "version": "3.7.4"
  }
 },
 "nbformat": 4,
 "nbformat_minor": 2
}
