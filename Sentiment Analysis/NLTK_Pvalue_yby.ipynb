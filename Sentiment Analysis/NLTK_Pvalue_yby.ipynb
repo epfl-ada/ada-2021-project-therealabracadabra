{
 "cells": [
  {
   "cell_type": "markdown",
   "metadata": {},
   "source": [
    "# Calculating Pvalues for the NLTK anlysis"
   ]
  },
  {
   "cell_type": "markdown",
   "metadata": {},
   "source": [
    "This notebook compare the sentiments of all the quotes from Foxnews and the Ny times for year by year thanks to a T-test. Some violin plot are added to visualize the results. Some of the notable discorevies on this notebook are:\n",
    "    - Their is a huge statistical significance for the difference between the negative sentiments of the NLTK analysis.\n",
    "    - For the positive sentiments the statiscal significance is also notable"
   ]
  },
  {
   "cell_type": "markdown",
   "metadata": {},
   "source": [
    "# Table of contents\n",
    "1. [2015](#5)\n",
    "2. [2016](#6)\n",
    "3. [2017](#7)\n",
    "4. [2018](#8)\n",
    "5. [2019](#9)\n",
    "6. [2020](#0)"
   ]
  },
  {
   "cell_type": "code",
   "execution_count": 1,
   "metadata": {},
   "outputs": [],
   "source": [
    "import seaborn as sns\n",
    "from IPython.display import display, HTML\n",
    "import matplotlib.pyplot as plt\n",
    "import scipy.stats as stats\n",
    "import pandas as pd\n",
    "import numpy as np\n",
    "import bz2\n",
    "import json\n",
    "from urllib.parse import urlparse\n",
    "import nltk\n",
    "from nltk.sentiment import SentimentIntensityAnalyzer\n",
    "import os\n",
    "import glob\n",
    "import pickle\n",
    "from scipy import stats"
   ]
  },
  {
   "cell_type": "code",
   "execution_count": 5,
   "metadata": {},
   "outputs": [],
   "source": [
    "sia = SentimentIntensityAnalyzer()"
   ]
  },
  {
   "cell_type": "markdown",
   "metadata": {},
   "source": [
    "## 2015<a name=\"5\"></a>"
   ]
  },
  {
   "cell_type": "code",
   "execution_count": 6,
   "metadata": {},
   "outputs": [],
   "source": [
    "#Loading the data for this specific year \n",
    "years = [2015]\n",
    "PATH = 'data/'\n",
    "df_fox = pd.DataFrame(columns = ['quotation'])\n",
    "df_ny = pd.DataFrame(columns = ['quotation'])\n",
    "\n",
    "for y in years:\n",
    "    df_yfox = pd.read_pickle(PATH+str(y)+'_'+'Fox_quotations.pkl')\n",
    "    df_yfox = df_yfox.to_frame()\n",
    "    df_fox = df_fox.append(df_yfox)\n",
    "    df_yNy = pd.read_pickle(PATH+str(y)+'_'+'NY_quotations.pkl')\n",
    "    df_yNy = df_yNy.to_frame()\n",
    "    df_ny = df_ny.append(df_yNy)"
   ]
  },
  {
   "cell_type": "code",
   "execution_count": 7,
   "metadata": {},
   "outputs": [],
   "source": [
    "#Creating the dataframe with all the sentiment values from the nltk analysis\n",
    "dfp = pd.DataFrame(columns = ['emotion','value','journal'])\n",
    "\n",
    "for quotation in df_fox['quotation']:\n",
    "    \n",
    "    result = sia.polarity_scores(quotation)\n",
    "    pos = result[\"pos\"]\n",
    "    neg = result[\"neg\"]\n",
    "    newr = pd.Series(data = {'emotion': \"positive\", 'value': pos, 'journal': \"foxnews\"}, name = 'x')\n",
    "    dfp = dfp.append(newr, ignore_index = True)\n",
    "    newr = pd.Series(data = {'emotion': \"negative\", 'value': neg, 'journal': \"foxnews\"}, name = 'x')\n",
    "    dfp = dfp.append(newr, ignore_index = True)\n",
    "    \n",
    "    \n",
    "for quotation in df_ny['quotation']:\n",
    "    \n",
    "   \n",
    "    result = sia.polarity_scores(quotation)\n",
    "    pos = result[\"pos\"]\n",
    "    neg = result[\"neg\"]\n",
    "    newr = pd.Series(data = {'emotion': \"positive\", 'value': pos, 'journal': \"nytimes\"}, name = 'x')\n",
    "    dfp = dfp.append(newr, ignore_index = True)\n",
    "    newr = pd.Series(data = {'emotion': \"negative\", 'value': neg, 'journal': \"nytimes\"}, name = 'x')\n",
    "    dfp = dfp.append(newr, ignore_index = True)"
   ]
  },
  {
   "cell_type": "code",
   "execution_count": 8,
   "metadata": {},
   "outputs": [
    {
     "name": "stderr",
     "output_type": "stream",
     "text": [
      "C:\\Users\\François CHARROIN\\Anaconda3\\lib\\site-packages\\ipykernel_launcher.py:1: UserWarning: Boolean Series key will be reindexed to match DataFrame index.\n",
      "  \"\"\"Entry point for launching an IPython kernel.\n",
      "C:\\Users\\François CHARROIN\\Anaconda3\\lib\\site-packages\\ipykernel_launcher.py:2: UserWarning: Boolean Series key will be reindexed to match DataFrame index.\n",
      "  \n",
      "C:\\Users\\François CHARROIN\\Anaconda3\\lib\\site-packages\\ipykernel_launcher.py:5: UserWarning: Boolean Series key will be reindexed to match DataFrame index.\n",
      "  \"\"\"\n"
     ]
    },
    {
     "name": "stdout",
     "output_type": "stream",
     "text": [
      "Ttest_indResult(statistic=3.891349526109617, pvalue=9.973866718129864e-05)\n",
      "Ttest_indResult(statistic=-1.3734122365924035, pvalue=0.16962663511162338)\n"
     ]
    },
    {
     "name": "stderr",
     "output_type": "stream",
     "text": [
      "C:\\Users\\François CHARROIN\\Anaconda3\\lib\\site-packages\\ipykernel_launcher.py:6: UserWarning: Boolean Series key will be reindexed to match DataFrame index.\n",
      "  \n"
     ]
    }
   ],
   "source": [
    "#Doing a T-test to compare Foxnews and the NY times for positive sentiments\n",
    "res = stats.ttest_ind(dfp[dfp['journal'] == \"foxnews\"][dfp['emotion'] == \"positive\"]['value'],\n",
    "                      dfp[dfp['journal'] == \"nytimes\"][dfp['emotion'] == \"positive\"]['value'],\n",
    "                      equal_var = True)\n",
    "\n",
    "#Doing a T-test to compare Foxnews and the NY times for negative sentiments\n",
    "res2 = stats.ttest_ind(dfp[dfp['journal'] == \"foxnews\"][dfp['emotion'] == \"negative\"]['value'],\n",
    "                       dfp[dfp['journal'] == \"nytimes\"][dfp['emotion'] == \"negative\"]['value'],\n",
    "                       equal_var = True) \n",
    "print(res)\n",
    "print(res2)"
   ]
  },
  {
   "cell_type": "code",
   "execution_count": 9,
   "metadata": {},
   "outputs": [
    {
     "data": {
      "text/plain": [
       "<matplotlib.axes._subplots.AxesSubplot at 0x278c6fa4ac8>"
      ]
     },
     "execution_count": 9,
     "metadata": {},
     "output_type": "execute_result"
    },
    {
     "data": {
      "image/png": "[encoded data removed]",
      "text/plain": [
       "<Figure size 432x288 with 1 Axes>"
      ]
     },
     "metadata": {
      "needs_background": "light"
     },
     "output_type": "display_data"
    }
   ],
   "source": [
    "#Ploting a violin plot to show the distribution\n",
    "sns.violinplot(x = 'emotion', y = \"value\", hue = \"journal\",\n",
    "                    data = dfp, palette = \"muted\", split = True)"
   ]
  },
  {
   "cell_type": "code",
   "execution_count": 10,
   "metadata": {},
   "outputs": [
    {
     "name": "stderr",
     "output_type": "stream",
     "text": [
      "C:\\Users\\François CHARROIN\\Anaconda3\\lib\\site-packages\\ipykernel_launcher.py:1: UserWarning: Boolean Series key will be reindexed to match DataFrame index.\n",
      "  \"\"\"Entry point for launching an IPython kernel.\n",
      "C:\\Users\\François CHARROIN\\Anaconda3\\lib\\site-packages\\ipykernel_launcher.py:2: UserWarning: Boolean Series key will be reindexed to match DataFrame index.\n",
      "  \n",
      "C:\\Users\\François CHARROIN\\Anaconda3\\lib\\site-packages\\ipykernel_launcher.py:3: UserWarning: Boolean Series key will be reindexed to match DataFrame index.\n",
      "  This is separate from the ipykernel package so we can avoid doing imports until\n"
     ]
    },
    {
     "name": "stdout",
     "output_type": "stream",
     "text": [
      "0.11708682219635641\n",
      "0.11142332730560565\n",
      "0.08446171094070987\n",
      "0.08629132007233252\n"
     ]
    },
    {
     "name": "stderr",
     "output_type": "stream",
     "text": [
      "C:\\Users\\François CHARROIN\\Anaconda3\\lib\\site-packages\\ipykernel_launcher.py:4: UserWarning: Boolean Series key will be reindexed to match DataFrame index.\n",
      "  after removing the cwd from sys.path.\n"
     ]
    }
   ],
   "source": [
    "#Calculation the mean. a : positive sentiments Foxnews. b : positive sentiments NYtimes. c :negative sentiments Foxnews\n",
    "#d :negative sentiments NYtimes\n",
    "\n",
    "a = dfp[dfp['journal'] == \"foxnews\"][dfp['emotion'] == \"positive\"]['value'].mean()\n",
    "b = dfp[dfp['journal'] == \"nytimes\"][dfp['emotion'] == \"positive\"]['value'].mean()\n",
    "c = dfp[dfp['journal'] == \"foxnews\"][dfp['emotion'] == \"negative\"]['value'].mean()\n",
    "d = dfp[dfp['journal'] == \"nytimes\"][dfp['emotion'] == \"negative\"]['value'].mean()\n",
    "print(a)\n",
    "print(b)\n",
    "print(c)\n",
    "print(d)"
   ]
  },
  {
   "cell_type": "code",
   "execution_count": 11,
   "metadata": {},
   "outputs": [],
   "source": [
    "#Deleting dataframes to help the ram\n",
    "lst = [dfp, df_fox, df_ny]\n",
    "del lst   "
   ]
  },
  {
   "cell_type": "markdown",
   "metadata": {},
   "source": [
    "## 2016<a name=\"6\"></a>"
   ]
  },
  {
   "cell_type": "code",
   "execution_count": 12,
   "metadata": {},
   "outputs": [],
   "source": [
    "#Loading the data for this specific year \n",
    "years = [2016]\n",
    "PATH = 'data/'\n",
    "df_fox = pd.DataFrame(columns = ['quotation'])\n",
    "df_ny = pd.DataFrame(columns = ['quotation'])\n",
    "\n",
    "for y in years:\n",
    "    df_yfox = pd.read_pickle(PATH+str(y)+'_'+'Fox_quotations.pkl')\n",
    "    df_yfox = df_yfox.to_frame()\n",
    "    df_fox = df_fox.append(df_yfox)\n",
    "    df_yNy = pd.read_pickle(PATH+str(y)+'_'+'NY_quotations.pkl')\n",
    "    df_yNy = df_yNy.to_frame()\n",
    "    df_ny = df_ny.append(df_yNy)"
   ]
  },
  {
   "cell_type": "code",
   "execution_count": null,
   "metadata": {},
   "outputs": [],
   "source": [
    "#Creating the dataframe with all the sentiment values from the nltk analysis\n",
    "dfp = pd.DataFrame(columns = ['emotion','value','journal'])\n",
    "\n",
    "for quotation in df_fox['quotation']:\n",
    "    \n",
    "    result = sia.polarity_scores(quotation)\n",
    "    pos = result[\"pos\"]\n",
    "    neg = result[\"neg\"]\n",
    "    newr = pd.Series(data = {'emotion': \"positive\", 'value': pos, 'journal': \"foxnews\"}, name = 'x')\n",
    "    dfp = dfp.append(newr, ignore_index = True)\n",
    "    newr = pd.Series(data = {'emotion': \"negative\", 'value': neg, 'journal': \"foxnews\"}, name = 'x')\n",
    "    dfp = dfp.append(newr, ignore_index = True)\n",
    "    \n",
    "    \n",
    "for quotation in df_ny['quotation']:\n",
    "    \n",
    "    \n",
    "    result = sia.polarity_scores(quotation)\n",
    "    pos = result[\"pos\"]\n",
    "    neg = result[\"neg\"]\n",
    "    newr = pd.Series(data = {'emotion': \"positive\", 'value': pos, 'journal': \"nytimes\"}, name = 'x')\n",
    "    dfp = dfp.append(newr, ignore_index = True)\n",
    "    newr = pd.Series(data = {'emotion': \"negative\", 'value': neg, 'journal': \"nytimes\"}, name = 'x')\n",
    "    dfp = dfp.append(newr, ignore_index = True)"
   ]
  },
  {
   "cell_type": "code",
   "execution_count": null,
   "metadata": {},
   "outputs": [],
   "source": [
    "#Doing a T-test to compare Foxnews and the NY times for positive sentiments\n",
    "res = stats.ttest_ind(dfp[dfp['journal'] == \"foxnews\"][dfp['emotion'] == \"positive\"]['value'],\n",
    "                      dfp[dfp['journal'] == \"nytimes\"][dfp['emotion'] == \"positive\"]['value'],\n",
    "                      equal_var = True)\n",
    "\n",
    "#Doing a T-test to compare Foxnews and the NY times for negative sentiments\n",
    "res2 = stats.ttest_ind(dfp[dfp['journal'] == \"foxnews\"][dfp['emotion'] == \"negative\"]['value'],\n",
    "                       dfp[dfp['journal'] == \"nytimes\"][dfp['emotion'] == \"negative\"]['value'],\n",
    "                       equal_var = True) \n",
    "print(res)\n",
    "print(res2)"
   ]
  },
  {
   "cell_type": "code",
   "execution_count": null,
   "metadata": {},
   "outputs": [],
   "source": [
    "#Ploting a violin plot to show the distribution\n",
    "sns.violinplot(x = 'emotion', y = \"value\", hue = \"journal\",\n",
    "                    data = dfp, palette = \"muted\", split = True)"
   ]
  },
  {
   "cell_type": "code",
   "execution_count": null,
   "metadata": {},
   "outputs": [],
   "source": [
    "#Calculation the mean. a : positive sentiments Foxnews. b : positive sentiments NYtimes. c :negative sentiments Foxnews\n",
    "#d :negative sentiments NYtimes\n",
    "\n",
    "a = dfp[dfp['journal'] == \"foxnews\"][dfp['emotion'] == \"positive\"]['value'].mean()\n",
    "b = dfp[dfp['journal'] == \"nytimes\"][dfp['emotion'] == \"positive\"]['value'].mean()\n",
    "c = dfp[dfp['journal'] == \"foxnews\"][dfp['emotion'] == \"negative\"]['value'].mean()\n",
    "d = dfp[dfp['journal'] == \"nytimes\"][dfp['emotion'] == \"negative\"]['value'].mean()\n",
    "print(a)\n",
    "print(b)\n",
    "print(c)\n",
    "print(d)"
   ]
  },
  {
   "cell_type": "code",
   "execution_count": null,
   "metadata": {},
   "outputs": [],
   "source": [
    "#Deleting dataframes to help the ram\n",
    "lst = [dfp, df_fox, df_ny]\n",
    "del lst "
   ]
  },
  {
   "cell_type": "markdown",
   "metadata": {},
   "source": [
    "## 2017<a name=\"7\"></a>"
   ]
  },
  {
   "cell_type": "code",
   "execution_count": null,
   "metadata": {},
   "outputs": [],
   "source": [
    "#Loading the data for this specific year \n",
    "years = [2017]\n",
    "PATH = 'data/'\n",
    "df_fox = pd.DataFrame(columns = ['quotation'])\n",
    "df_ny = pd.DataFrame(columns = ['quotation'])\n",
    "\n",
    "for y in years:\n",
    "    df_yfox = pd.read_pickle(PATH+str(y)+'_'+'Fox_quotations.pkl')\n",
    "    df_yfox = df_yfox.to_frame()\n",
    "    df_fox = df_fox.append(df_yfox)\n",
    "    df_yNy = pd.read_pickle(PATH+str(y)+'_'+'NY_quotations.pkl')\n",
    "    df_yNy = df_yNy.to_frame()\n",
    "    df_ny = df_ny.append(df_yNy)"
   ]
  },
  {
   "cell_type": "code",
   "execution_count": null,
   "metadata": {},
   "outputs": [],
   "source": [
    "#Creating the dataframe with all the sentiment values from the nltk analysis\n",
    "dfp = pd.DataFrame(columns = ['emotion','value','journal'])\n",
    "\n",
    "for quotation in df_fox['quotation']:\n",
    "    \n",
    "    result = sia.polarity_scores(quotation)\n",
    "    pos = result[\"pos\"]\n",
    "    neg = result[\"neg\"]\n",
    "    newr = pd.Series(data = {'emotion': \"positive\", 'value': pos, 'journal': \"foxnews\"}, name = 'x')\n",
    "    dfp = dfp.append(newr, ignore_index = True)\n",
    "    newr = pd.Series(data = {'emotion': \"negative\", 'value': neg, 'journal': \"foxnews\"}, name = 'x')\n",
    "    dfp = dfp.append(newr, ignore_index = True)\n",
    "    \n",
    "    \n",
    "for quotation in df_ny['quotation']:\n",
    "    \n",
    "    \n",
    "    result = sia.polarity_scores(quotation)\n",
    "    pos = result[\"pos\"]\n",
    "    neg = result[\"neg\"]\n",
    "    newr = pd.Series(data = {'emotion': \"positive\", 'value': pos, 'journal': \"nytimes\"}, name = 'x')\n",
    "    dfp = dfp.append(newr, ignore_index = True)\n",
    "    newr = pd.Series(data = {'emotion': \"negative\", 'value': neg, 'journal': \"nytimes\"}, name = 'x')\n",
    "    dfp = dfp.append(newr, ignore_index = True)"
   ]
  },
  {
   "cell_type": "code",
   "execution_count": null,
   "metadata": {},
   "outputs": [],
   "source": [
    "#Doing a T-test to compare Foxnews and the NY times for positive sentiments\n",
    "res = stats.ttest_ind(dfp[dfp['journal'] == \"foxnews\"][dfp['emotion'] == \"positive\"]['value'],\n",
    "                      dfp[dfp['journal'] == \"nytimes\"][dfp['emotion'] == \"positive\"]['value'],\n",
    "                      equal_var = True)\n",
    "\n",
    "#Doing a T-test to compare Foxnews and the NY times for negative sentiments\n",
    "res2 = stats.ttest_ind(dfp[dfp['journal'] == \"foxnews\"][dfp['emotion'] == \"negative\"]['value'],\n",
    "                       dfp[dfp['journal'] == \"nytimes\"][dfp['emotion'] == \"negative\"]['value'],\n",
    "                       equal_var = True) \n",
    "print(res)\n",
    "print(res2)"
   ]
  },
  {
   "cell_type": "code",
   "execution_count": null,
   "metadata": {},
   "outputs": [],
   "source": [
    "#Ploting a violin plot to show the distribution\n",
    "sns.violinplot(x = 'emotion', y = \"value\", hue = \"journal\",\n",
    "                    data = dfp, palette = \"muted\", split = True)"
   ]
  },
  {
   "cell_type": "code",
   "execution_count": null,
   "metadata": {},
   "outputs": [],
   "source": [
    "#Calculation the mean. a : positive sentiments Foxnews. b : positive sentiments NYtimes. c :negative sentiments Foxnews\n",
    "#d :negative sentiments NYtimes\n",
    "\n",
    "a = dfp[dfp['journal'] == \"foxnews\"][dfp['emotion'] == \"positive\"]['value'].mean()\n",
    "b = dfp[dfp['journal'] == \"nytimes\"][dfp['emotion'] == \"positive\"]['value'].mean()\n",
    "c = dfp[dfp['journal'] == \"foxnews\"][dfp['emotion'] == \"negative\"]['value'].mean()\n",
    "d = dfp[dfp['journal'] == \"nytimes\"][dfp['emotion'] == \"negative\"]['value'].mean()\n",
    "print(a)\n",
    "print(b)\n",
    "print(c)\n",
    "print(d)"
   ]
  },
  {
   "cell_type": "code",
   "execution_count": null,
   "metadata": {},
   "outputs": [],
   "source": [
    "#Deleting dataframes to help the ram\n",
    "lst = [dfp, df_fox, df_ny]\n",
    "del lst "
   ]
  },
  {
   "cell_type": "markdown",
   "metadata": {},
   "source": [
    "## 2018<a name=\"8\"></a>"
   ]
  },
  {
   "cell_type": "code",
   "execution_count": null,
   "metadata": {},
   "outputs": [],
   "source": [
    "#Loading the data for this specific year \n",
    "years = [2018]\n",
    "PATH = 'data/'\n",
    "df_fox = pd.DataFrame(columns = ['quotation'])\n",
    "df_ny = pd.DataFrame(columns = ['quotation'])\n",
    "\n",
    "for y in years:\n",
    "    df_yfox = pd.read_pickle(PATH+str(y)+'_'+'Fox_quotations.pkl')\n",
    "    df_yfox = df_yfox.to_frame()\n",
    "    df_fox = df_fox.append(df_yfox)\n",
    "    df_yNy = pd.read_pickle(PATH+str(y)+'_'+'NY_quotations.pkl')\n",
    "    df_yNy = df_yNy.to_frame()\n",
    "    df_ny = df_ny.append(df_yNy)"
   ]
  },
  {
   "cell_type": "code",
   "execution_count": null,
   "metadata": {},
   "outputs": [],
   "source": [
    "#Creating the dataframe with all the sentiment values from the nltk analysis\n",
    "dfp = pd.DataFrame(columns = ['emotion','value','journal'])\n",
    "\n",
    "for quotation in df_fox['quotation']:\n",
    "    \n",
    "    result = sia.polarity_scores(quotation)\n",
    "    pos = result[\"pos\"]\n",
    "    neg = result[\"neg\"]\n",
    "    newr = pd.Series(data = {'emotion': \"positive\", 'value': pos, 'journal': \"foxnews\"}, name = 'x')\n",
    "    dfp = dfp.append(newr, ignore_index = True)\n",
    "    newr = pd.Series(data = {'emotion': \"negative\", 'value': neg, 'journal': \"foxnews\"}, name = 'x')\n",
    "    dfp = dfp.append(newr, ignore_index = True)\n",
    "    \n",
    "    \n",
    "for quotation in df_ny['quotation']:\n",
    "    \n",
    "    \n",
    "    result = sia.polarity_scores(quotation)\n",
    "    pos = result[\"pos\"]\n",
    "    neg = result[\"neg\"]\n",
    "    newr = pd.Series(data = {'emotion': \"positive\", 'value': pos, 'journal': \"nytimes\"}, name = 'x')\n",
    "    dfp = dfp.append(newr, ignore_index = True)\n",
    "    newr = pd.Series(data = {'emotion': \"negative\", 'value': neg, 'journal': \"nytimes\"}, name = 'x')\n",
    "    dfp = dfp.append(newr, ignore_index = True)"
   ]
  },
  {
   "cell_type": "code",
   "execution_count": null,
   "metadata": {},
   "outputs": [],
   "source": [
    "#Doing a T-test to compare Foxnews and the NY times for positive sentiments\n",
    "res = stats.ttest_ind(dfp[dfp['journal'] == \"foxnews\"][dfp['emotion'] == \"positive\"]['value'],\n",
    "                      dfp[dfp['journal'] == \"nytimes\"][dfp['emotion'] == \"positive\"]['value'],\n",
    "                      equal_var = True)\n",
    "\n",
    "#Doing a T-test to compare Foxnews and the NY times for negative sentiments\n",
    "res2 = stats.ttest_ind(dfp[dfp['journal'] == \"foxnews\"][dfp['emotion'] == \"negative\"]['value'],\n",
    "                       dfp[dfp['journal'] == \"nytimes\"][dfp['emotion'] == \"negative\"]['value'],\n",
    "                       equal_var = True) \n",
    "print(res)\n",
    "print(res2)"
   ]
  },
  {
   "cell_type": "code",
   "execution_count": null,
   "metadata": {},
   "outputs": [],
   "source": [
    "#Ploting a violin plot to show the distribution\n",
    "sns.violinplot(x = 'emotion', y = \"value\", hue = \"journal\",\n",
    "                    data = dfp, palette = \"muted\", split = True)"
   ]
  },
  {
   "cell_type": "code",
   "execution_count": null,
   "metadata": {},
   "outputs": [],
   "source": [
    "#Calculation the mean. a : positive sentiments Foxnews. b : positive sentiments NYtimes. c :negative sentiments Foxnews\n",
    "#d :negative sentiments NYtimes\n",
    "\n",
    "a = dfp[dfp['journal'] == \"foxnews\"][dfp['emotion'] == \"positive\"]['value'].mean()\n",
    "b = dfp[dfp['journal'] == \"nytimes\"][dfp['emotion'] == \"positive\"]['value'].mean()\n",
    "c = dfp[dfp['journal'] == \"foxnews\"][dfp['emotion'] == \"negative\"]['value'].mean()\n",
    "d = dfp[dfp['journal'] == \"nytimes\"][dfp['emotion'] == \"negative\"]['value'].mean()\n",
    "print(a)\n",
    "print(b)\n",
    "print(c)\n",
    "print(d)"
   ]
  },
  {
   "cell_type": "code",
   "execution_count": null,
   "metadata": {},
   "outputs": [],
   "source": [
    "#Deleting dataframes to help the ram\n",
    "lst = [dfp, df_fox, df_ny]\n",
    "del lst "
   ]
  },
  {
   "cell_type": "markdown",
   "metadata": {},
   "source": [
    "## 2019<a name=\"9\"></a>"
   ]
  },
  {
   "cell_type": "code",
   "execution_count": null,
   "metadata": {},
   "outputs": [],
   "source": [
    "#Loading the data for this specific year \n",
    "years = [2019]\n",
    "PATH = 'data/'\n",
    "df_fox = pd.DataFrame(columns = ['quotation'])\n",
    "df_ny = pd.DataFrame(columns = ['quotation'])\n",
    "\n",
    "for y in years:\n",
    "    df_yfox = pd.read_pickle(PATH+str(y)+'_'+'Fox_quotations.pkl')\n",
    "    df_yfox = df_yfox.to_frame()\n",
    "    df_fox = df_fox.append(df_yfox)\n",
    "    df_yNy = pd.read_pickle(PATH+str(y)+'_'+'NY_quotations.pkl')\n",
    "    df_yNy = df_yNy.to_frame()\n",
    "    df_ny = df_ny.append(df_yNy)"
   ]
  },
  {
   "cell_type": "code",
   "execution_count": null,
   "metadata": {},
   "outputs": [],
   "source": [
    "#Creating the dataframe with all the sentiment values from the nltk analysis\n",
    "dfp = pd.DataFrame(columns = ['emotion','value','journal'])\n",
    "\n",
    "for quotation in df_fox['quotation']:\n",
    "    \n",
    "    result = sia.polarity_scores(quotation)\n",
    "    pos = result[\"pos\"]\n",
    "    neg = result[\"neg\"]\n",
    "    newr = pd.Series(data = {'emotion': \"positive\", 'value': pos, 'journal': \"foxnews\"}, name = 'x')\n",
    "    dfp = dfp.append(newr, ignore_index = True)\n",
    "    newr = pd.Series(data = {'emotion': \"negative\", 'value': neg, 'journal': \"foxnews\"}, name = 'x')\n",
    "    dfp = dfp.append(newr, ignore_index = True)\n",
    "    \n",
    "    \n",
    "for quotation in df_ny['quotation']:\n",
    "    \n",
    "    result = sia.polarity_scores(quotation)\n",
    "    pos = result[\"pos\"]\n",
    "    neg = result[\"neg\"]\n",
    "    newr = pd.Series(data = {'emotion': \"positive\", 'value': pos, 'journal': \"nytimes\"}, name = 'x')\n",
    "    dfp = dfp.append(newr, ignore_index = True)\n",
    "    newr = pd.Series(data = {'emotion': \"negative\", 'value': neg, 'journal': \"nytimes\"}, name = 'x')\n",
    "    dfp = dfp.append(newr, ignore_index = True)"
   ]
  },
  {
   "cell_type": "code",
   "execution_count": null,
   "metadata": {},
   "outputs": [],
   "source": [
    "#Doing a T-test to compare Foxnews and the NY times for positive sentiments\n",
    "res = stats.ttest_ind(dfp[dfp['journal'] == \"foxnews\"][dfp['emotion'] == \"positive\"]['value'],\n",
    "                      dfp[dfp['journal'] == \"nytimes\"][dfp['emotion'] == \"positive\"]['value'],\n",
    "                      equal_var = True)\n",
    "\n",
    "#Doing a T-test to compare Foxnews and the NY times for negative sentiments\n",
    "res2 = stats.ttest_ind(dfp[dfp['journal'] == \"foxnews\"][dfp['emotion'] == \"negative\"]['value'],\n",
    "                       dfp[dfp['journal'] == \"nytimes\"][dfp['emotion'] == \"negative\"]['value'],\n",
    "                       equal_var = True) \n",
    "print(res)\n",
    "print(res2)"
   ]
  },
  {
   "cell_type": "code",
   "execution_count": null,
   "metadata": {},
   "outputs": [],
   "source": [
    "#Ploting a violin plot to show the distribution\n",
    "sns.violinplot(x = 'emotion', y = \"value\", hue = \"journal\",\n",
    "                    data = dfp, palette = \"muted\", split = True)"
   ]
  },
  {
   "cell_type": "code",
   "execution_count": null,
   "metadata": {},
   "outputs": [],
   "source": [
    "#Calculation the mean. a : positive sentiments Foxnews. b : positive sentiments NYtimes. c :negative sentiments Foxnews\n",
    "#d :negative sentiments NYtimes\n",
    "\n",
    "a = dfp[dfp['journal'] == \"foxnews\"][dfp['emotion'] == \"positive\"]['value'].mean()\n",
    "b = dfp[dfp['journal'] == \"nytimes\"][dfp['emotion'] == \"positive\"]['value'].mean()\n",
    "c = dfp[dfp['journal'] == \"foxnews\"][dfp['emotion'] == \"negative\"]['value'].mean()\n",
    "d = dfp[dfp['journal'] == \"nytimes\"][dfp['emotion'] == \"negative\"]['value'].mean()\n",
    "print(a)\n",
    "print(b)\n",
    "print(c)\n",
    "print(d)"
   ]
  },
  {
   "cell_type": "code",
   "execution_count": null,
   "metadata": {},
   "outputs": [],
   "source": [
    "#Deleting dataframes to help the ram\n",
    "lst = [dfp, df_fox, df_ny]\n",
    "del lst "
   ]
  },
  {
   "cell_type": "markdown",
   "metadata": {},
   "source": [
    "## 2020<a name=\"0\"></a>"
   ]
  },
  {
   "cell_type": "code",
   "execution_count": null,
   "metadata": {},
   "outputs": [],
   "source": [
    "#Loading the data for this specific year \n",
    "years = [2020]\n",
    "PATH = 'data/'\n",
    "df_fox = pd.DataFrame(columns = ['quotation'])\n",
    "df_ny = pd.DataFrame(columns = ['quotation'])\n",
    "\n",
    "for y in years:\n",
    "    df_yfox = pd.read_pickle(PATH+str(y)+'_'+'Fox_quotations.pkl')\n",
    "    df_yfox = df_yfox.to_frame()\n",
    "    df_fox = df_fox.append(df_yfox)\n",
    "    df_yNy = pd.read_pickle(PATH+str(y)+'_'+'NY_quotations.pkl')\n",
    "    df_yNy = df_yNy.to_frame()\n",
    "    df_ny = df_ny.append(df_yNy)"
   ]
  },
  {
   "cell_type": "code",
   "execution_count": null,
   "metadata": {},
   "outputs": [],
   "source": [
    "#Creating the dataframe with all the sentiment values from the nltk analysis\n",
    "dfp = pd.DataFrame(columns = ['emotion','value','journal'])\n",
    "\n",
    "for quotation in df_fox['quotation']:\n",
    "    \n",
    "    result = sia.polarity_scores(quotation)\n",
    "    pos = result[\"pos\"]\n",
    "    neg = result[\"neg\"]\n",
    "    newr = pd.Series(data = {'emotion': \"positive\", 'value': pos, 'journal': \"foxnews\"}, name = 'x')\n",
    "    dfp = dfp.append(newr, ignore_index = True)\n",
    "    newr = pd.Series(data = {'emotion': \"negative\", 'value': neg, 'journal': \"foxnews\"}, name = 'x')\n",
    "    dfp = dfp.append(newr, ignore_index = True)\n",
    "    \n",
    "    \n",
    "for quotation in df_ny['quotation']:\n",
    "   \n",
    "    result = sia.polarity_scores(quotation)\n",
    "    pos = result[\"pos\"]\n",
    "    neg = result[\"neg\"]\n",
    "    newr = pd.Series(data = {'emotion': \"positive\", 'value': pos, 'journal': \"nytimes\"}, name = 'x')\n",
    "    dfp = dfp.append(newr, ignore_index = True)\n",
    "    newr = pd.Series(data = {'emotion': \"negative\", 'value': neg, 'journal': \"nytimes\"}, name = 'x')\n",
    "    dfp = dfp.append(newr, ignore_index = True)"
   ]
  },
  {
   "cell_type": "code",
   "execution_count": null,
   "metadata": {},
   "outputs": [],
   "source": [
    "#Doing a T-test to compare Foxnews and the NY times for positive sentiments\n",
    "res = stats.ttest_ind(dfp[dfp['journal'] == \"foxnews\"][dfp['emotion'] == \"positive\"]['value'],\n",
    "                      dfp[dfp['journal'] == \"nytimes\"][dfp['emotion'] == \"positive\"]['value'],\n",
    "                      equal_var = True)\n",
    "\n",
    "#Doing a T-test to compare Foxnews and the NY times for negative sentiments\n",
    "res2 = stats.ttest_ind(dfp[dfp['journal'] == \"foxnews\"][dfp['emotion'] == \"negative\"]['value'],\n",
    "                       dfp[dfp['journal'] == \"nytimes\"][dfp['emotion'] == \"negative\"]['value'],\n",
    "                       equal_var = True) \n",
    "print(res)\n",
    "print(res2)"
   ]
  },
  {
   "cell_type": "code",
   "execution_count": null,
   "metadata": {},
   "outputs": [],
   "source": [
    "#Ploting a violin plot to show the distribution\n",
    "sns.violinplot(x = 'emotion', y = \"value\", hue = \"journal\",\n",
    "                    data = dfp, palette = \"muted\", split = True)"
   ]
  },
  {
   "cell_type": "code",
   "execution_count": null,
   "metadata": {},
   "outputs": [],
   "source": [
    "#Calculation the mean. a : positive sentiments Foxnews. b : positive sentiments NYtimes. c :negative sentiments Foxnews\n",
    "#d :negative sentiments NYtimes\n",
    "\n",
    "a = dfp[dfp['journal'] == \"foxnews\"][dfp['emotion'] == \"positive\"]['value'].mean()\n",
    "b = dfp[dfp['journal'] == \"nytimes\"][dfp['emotion'] == \"positive\"]['value'].mean()\n",
    "c = dfp[dfp['journal'] == \"foxnews\"][dfp['emotion'] == \"negative\"]['value'].mean()\n",
    "d = dfp[dfp['journal'] == \"nytimes\"][dfp['emotion'] == \"negative\"]['value'].mean()\n",
    "print(a)\n",
    "print(b)\n",
    "print(c)\n",
    "print(d)"
   ]
  },
  {
   "cell_type": "code",
   "execution_count": null,
   "metadata": {},
   "outputs": [],
   "source": [
    "#Deleting dataframes to help the ram\n",
    "lst = [dfp, df_fox, df_ny]\n",
    "del lst "
   ]
  }
 ],
 "metadata": {
  "kernelspec": {
   "display_name": "Python 3",
   "language": "python",
   "name": "python3"
  },
  "language_info": {
   "codemirror_mode": {
    "name": "ipython",
    "version": 3
   },
   "file_extension": ".py",
   "mimetype": "text/x-python",
   "name": "python",
   "nbconvert_exporter": "python",
   "pygments_lexer": "ipython3",
   "version": "3.7.4"
  }
 },
 "nbformat": 4,
 "nbformat_minor": 2
}
