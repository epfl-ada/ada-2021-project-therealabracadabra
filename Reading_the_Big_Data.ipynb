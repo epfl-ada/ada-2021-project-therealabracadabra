{
  "nbformat": 4,
  "nbformat_minor": 0,
  "metadata": {
    "colab": {
      "name": "Copy of projet_manu.ipynb",
      "provenance": [],
      "collapsed_sections": []
    },
    "kernelspec": {
      "display_name": "Python 3 (ipykernel)",
      "language": "python",
      "name": "python3"
    },
    "language_info": {
      "codemirror_mode": {
        "name": "ipython",
        "version": 3
      },
      "file_extension": ".py",
      "mimetype": "text/x-python",
      "name": "python",
      "nbconvert_exporter": "python",
      "pygments_lexer": "ipython3",
      "version": "3.8.11"
    }
  },
  "cells": [
    {
      "cell_type": "markdown",
      "metadata": {
        "id": "EjRefaJPk7d4"
      },
      "source": [
        "# Project Milestone 2"
      ]
    },
    {
      "cell_type": "code",
      "metadata": {
        "id": "cv19i44Wpf6k",
        "colab": {
          "base_uri": "https://localhost:8080/"
        },
        "outputId": "c6c518c0-27dc-4309-b9c6-ba9223b4e2dd"
      },
      "source": [
        "from google.colab import drive\n",
        "drive._mount('/content/drive')"
      ],
      "execution_count": 4,
      "outputs": [
        {
          "output_type": "stream",
          "name": "stdout",
          "text": [
            "Mounted at /content/drive\n"
          ]
        }
      ]
    },
    {
      "cell_type": "code",
      "metadata": {
        "colab": {
          "base_uri": "https://localhost:8080/",
          "height": 384
        },
        "id": "zfnFsmbCpqrs",
        "outputId": "295ec691-5ff9-496c-9bf7-01f0c6247076"
      },
      "source": [
        "!pip install pandas==1.0.5"
      ],
      "execution_count": 5,
      "outputs": [
        {
          "output_type": "stream",
          "name": "stdout",
          "text": [
            "Collecting pandas==1.0.5\n",
            "  Downloading pandas-1.0.5-cp37-cp37m-manylinux1_x86_64.whl (10.1 MB)\n",
            "\u001b[K     |████████████████████████████████| 10.1 MB 5.0 MB/s \n",
            "\u001b[?25hRequirement already satisfied: numpy>=1.13.3 in /usr/local/lib/python3.7/dist-packages (from pandas==1.0.5) (1.19.5)\n",
            "Requirement already satisfied: python-dateutil>=2.6.1 in /usr/local/lib/python3.7/dist-packages (from pandas==1.0.5) (2.8.2)\n",
            "Requirement already satisfied: pytz>=2017.2 in /usr/local/lib/python3.7/dist-packages (from pandas==1.0.5) (2018.9)\n",
            "Requirement already satisfied: six>=1.5 in /usr/local/lib/python3.7/dist-packages (from python-dateutil>=2.6.1->pandas==1.0.5) (1.15.0)\n",
            "Installing collected packages: pandas\n",
            "  Attempting uninstall: pandas\n",
            "    Found existing installation: pandas 1.1.5\n",
            "    Uninstalling pandas-1.1.5:\n",
            "      Successfully uninstalled pandas-1.1.5\n",
            "\u001b[31mERROR: pip's dependency resolver does not currently take into account all the packages that are installed. This behaviour is the source of the following dependency conflicts.\n",
            "google-colab 1.0.0 requires pandas~=1.1.0; python_version >= \"3.0\", but you have pandas 1.0.5 which is incompatible.\u001b[0m\n",
            "Successfully installed pandas-1.0.5\n"
          ]
        },
        {
          "output_type": "display_data",
          "data": {
            "application/vnd.colab-display-data+json": {
              "pip_warning": {
                "packages": [
                  "pandas"
                ]
              }
            }
          },
          "metadata": {}
        }
      ]
    },
    {
      "cell_type": "code",
      "metadata": {
        "id": "ZIAN3Z0Sk7d_",
        "colab": {
          "base_uri": "https://localhost:8080/"
        },
        "outputId": "7df1fa5e-73dd-4583-be1a-8fe75d0cfba7"
      },
      "source": [
        "import seaborn as sns\n",
        "from IPython.display import display, HTML\n",
        "import matplotlib.pyplot as plt\n",
        "import scipy.stats as stats\n",
        "import pandas as pd\n",
        "import numpy as np\n",
        "import bz2\n",
        "import json\n",
        "from urllib.parse import urlparse\n",
        "import nltk\n",
        "from nltk.sentiment import SentimentIntensityAnalyzer\n",
        "import os\n",
        "import glob\n",
        "import pickle"
      ],
      "execution_count": 1,
      "outputs": [
        {
          "output_type": "stream",
          "name": "stderr",
          "text": [
            "/usr/local/lib/python3.7/dist-packages/nltk/twitter/__init__.py:20: UserWarning: The twython library has not been installed. Some functionality from the twitter package will not be available.\n",
            "  warnings.warn(\"The twython library has not been installed. \"\n"
          ]
        }
      ]
    },
    {
      "cell_type": "markdown",
      "metadata": {
        "id": "aw7TT9zZk7eC"
      },
      "source": [
        "## Part 1: Filtering"
      ]
    },
    {
      "cell_type": "markdown",
      "metadata": {
        "id": "Rh99Atrck7eK"
      },
      "source": [
        "## Create Dataframe for each journal \n"
      ]
    },
    {
      "cell_type": "code",
      "metadata": {
        "id": "aHobZi1sG6j6"
      },
      "source": [
        "def process_chunk(chunk, year, nb, df):\n",
        "  \n",
        "    df = chunk.drop(['quoteID', 'qids', 'numOccurrences', 'probas', 'phase'], axis=1) #axis=1 for columns\n",
        "    \n",
        "    df['urls'] = df['urls'].astype('str') #Converting to string to be able to use str.contains \n",
        "    df_1 = df[df['urls'].str.contains('foxnews')] #Creating a DataFrame containing only foxnews\n",
        "    df_2 = df[df['urls'].str.contains('nytimes')]\n",
        "    df = pd.concat([df_1, df_2])\n",
        "\n",
        "    df.to_pickle('/content/drive/MyDrive/ADA_2021/' + str(nb)+ '_'+  str(year) + '_' + 'FoxNYtimes.pkl')\n",
        "    #df.to_pickle(\"/content/drive/MyDrive/ADA_2021/Fox_NY_\"+ str(year) + '/' + str(nb)+ '_'+  str(year) + '_' + \"FoxNYtimes.pkl\")"
      ],
      "execution_count": 2,
      "outputs": []
    },
    {
      "cell_type": "code",
      "metadata": {
        "id": "bPkOHIT7G8gT"
      },
      "source": [
        "years = [2015, 2016, 2017, 2018, 2019, 2020]\n",
        "nb = 1\n",
        "df = pd.DataFrame()\n",
        "for y in years:\n",
        "    for chunk in pd.read_json('/content/drive/MyDrive/Quotebank/quotes-' + str(year) + '.json.bz2', \n",
        "                              lines=True, compression='bz2', chunksize=500000):\n",
        "      \n",
        "      process_chunk(chunk, y, nb, df)\n",
        "      nb += 1"
      ],
      "execution_count": null,
      "outputs": []
    },
    {
      "cell_type": "code",
      "metadata": {
        "id": "FXEmeZ4GHBJF"
      },
      "source": [
        "def read_yearly_chunk(year):\n",
        "    PATH = '/content/drive/MyDrive/ADA_2021/Fox_NY_' + str(year) + '/'\n",
        "    nb = 1\n",
        "    df2 = []\n",
        "    #dirs = os.listdir(PATH)\n",
        "    dirs = glob.glob(os.path.join(PATH, \"*.pkl\"))\n",
        "    \n",
        "    #for file in dirs:\n",
        "    for files in dirs:\n",
        "        df1 = pd.read_pickle(PATH + str(nb)+ '_' + str(year) + '_' + 'FoxNYtimes.pkl')\n",
        "        df2.append(df1)\n",
        "        nb += 1\n",
        "    return df2"
      ],
      "execution_count": 3,
      "outputs": []
    },
    {
      "cell_type": "code",
      "source": [
        "years = [2015, 2016, 2017, 2018, 2019, 2020]\n",
        "df_FoxNY = pd.DataFrame()\n",
        "\n",
        "for y in years:\n",
        "  df_FoxNY = df_FoxNY.append(pd.concat(read_yearly_chunk(y)))"
      ],
      "metadata": {
        "id": "qCkWHT2FINLA"
      },
      "execution_count": 5,
      "outputs": []
    },
    {
      "cell_type": "code",
      "source": [
        "df_FoxNY"
      ],
      "metadata": {
        "colab": {
          "base_uri": "https://localhost:8080/",
          "height": 597
        },
        "id": "tx5f7LLhKDHK",
        "outputId": "c703a595-5e34-4d54-9dde-34c4129bcafe"
      },
      "execution_count": 6,
      "outputs": [
        {
          "output_type": "execute_result",
          "data": {
            "text/html": [
              "<div>\n",
              "<style scoped>\n",
              "    .dataframe tbody tr th:only-of-type {\n",
              "        vertical-align: middle;\n",
              "    }\n",
              "\n",
              "    .dataframe tbody tr th {\n",
              "        vertical-align: top;\n",
              "    }\n",
              "\n",
              "    .dataframe thead th {\n",
              "        text-align: right;\n",
              "    }\n",
              "</style>\n",
              "<table border=\"1\" class=\"dataframe\">\n",
              "  <thead>\n",
              "    <tr style=\"text-align: right;\">\n",
              "      <th></th>\n",
              "      <th>quotation</th>\n",
              "      <th>speaker</th>\n",
              "      <th>date</th>\n",
              "      <th>urls</th>\n",
              "    </tr>\n",
              "  </thead>\n",
              "  <tbody>\n",
              "    <tr>\n",
              "      <th>314</th>\n",
              "      <td>Coach is an awesome dude to play for. He is 10...</td>\n",
              "      <td>Eric Fisher</td>\n",
              "      <td>2020-01-28 12:30:44</td>\n",
              "      <td>['https://www.seattletimes.com/sports/nba/chie...</td>\n",
              "    </tr>\n",
              "    <tr>\n",
              "      <th>409</th>\n",
              "      <td>Finally, we reached the point a few weeks ago ...</td>\n",
              "      <td>Elizabeth Warren</td>\n",
              "      <td>2020-02-20 00:00:00</td>\n",
              "      <td>['http://feeds.foxnews.com/~r/foxnews/politics...</td>\n",
              "    </tr>\n",
              "    <tr>\n",
              "      <th>421</th>\n",
              "      <td>For example, multiple employees recalled a per...</td>\n",
              "      <td>None</td>\n",
              "      <td>2020-02-07 00:00:00</td>\n",
              "      <td>['http://www.foxnews.com/media/new-york-times-...</td>\n",
              "    </tr>\n",
              "    <tr>\n",
              "      <th>458</th>\n",
              "      <td>Given the partisan nature of this impeachment ...</td>\n",
              "      <td>Lisa Murkowski</td>\n",
              "      <td>2020-01-31 00:00:00</td>\n",
              "      <td>['http://feeds.foxnews.com/~r/foxnews/politics...</td>\n",
              "    </tr>\n",
              "    <tr>\n",
              "      <th>516</th>\n",
              "      <td>He was someone you could lean on.</td>\n",
              "      <td>Mark Dantonio</td>\n",
              "      <td>2020-01-08 00:00:00</td>\n",
              "      <td>['https://www.foxnews.com/sports/george-perles...</td>\n",
              "    </tr>\n",
              "    <tr>\n",
              "      <th>...</th>\n",
              "      <td>...</td>\n",
              "      <td>...</td>\n",
              "      <td>...</td>\n",
              "      <td>...</td>\n",
              "    </tr>\n",
              "    <tr>\n",
              "      <th>5244002</th>\n",
              "      <td>trying to understand my own culture.</td>\n",
              "      <td>None</td>\n",
              "      <td>2020-02-07 15:00:10</td>\n",
              "      <td>['http://mobile.nytimes.com/2020/02/07/arts/mu...</td>\n",
              "    </tr>\n",
              "    <tr>\n",
              "      <th>5244135</th>\n",
              "      <td>We Hanks' will be tested, observed, and isolat...</td>\n",
              "      <td>Tom Hanks</td>\n",
              "      <td>2020-03-11 00:00:00</td>\n",
              "      <td>['http://www.dailyherald.com/news/20200311/tom...</td>\n",
              "    </tr>\n",
              "    <tr>\n",
              "      <th>5244172</th>\n",
              "      <td>we immediately initiated an investigation and ...</td>\n",
              "      <td>None</td>\n",
              "      <td>2020-01-19 18:08:35</td>\n",
              "      <td>['http://mobile.nytimes.com/2020/01/19/world/a...</td>\n",
              "    </tr>\n",
              "    <tr>\n",
              "      <th>5244252</th>\n",
              "      <td>Well, Joe, you're wrong.</td>\n",
              "      <td>Bernie Sanders</td>\n",
              "      <td>2020-01-26 17:01:39</td>\n",
              "      <td>['https://www.nytimes.com/live/2020/iowa-democ...</td>\n",
              "    </tr>\n",
              "    <tr>\n",
              "      <th>5244295</th>\n",
              "      <td>We've been writing about climate change being ...</td>\n",
              "      <td>Lesley Hughes</td>\n",
              "      <td>2020-02-23 22:38:42</td>\n",
              "      <td>['https://www.nytimes.com/2020/02/23/world/aus...</td>\n",
              "    </tr>\n",
              "  </tbody>\n",
              "</table>\n",
              "<p>577296 rows × 4 columns</p>\n",
              "</div>"
            ],
            "text/plain": [
              "                                                 quotation  ...                                               urls\n",
              "314      Coach is an awesome dude to play for. He is 10...  ...  ['https://www.seattletimes.com/sports/nba/chie...\n",
              "409      Finally, we reached the point a few weeks ago ...  ...  ['http://feeds.foxnews.com/~r/foxnews/politics...\n",
              "421      For example, multiple employees recalled a per...  ...  ['http://www.foxnews.com/media/new-york-times-...\n",
              "458      Given the partisan nature of this impeachment ...  ...  ['http://feeds.foxnews.com/~r/foxnews/politics...\n",
              "516                      He was someone you could lean on.  ...  ['https://www.foxnews.com/sports/george-perles...\n",
              "...                                                    ...  ...                                                ...\n",
              "5244002               trying to understand my own culture.  ...  ['http://mobile.nytimes.com/2020/02/07/arts/mu...\n",
              "5244135  We Hanks' will be tested, observed, and isolat...  ...  ['http://www.dailyherald.com/news/20200311/tom...\n",
              "5244172  we immediately initiated an investigation and ...  ...  ['http://mobile.nytimes.com/2020/01/19/world/a...\n",
              "5244252                           Well, Joe, you're wrong.  ...  ['https://www.nytimes.com/live/2020/iowa-democ...\n",
              "5244295  We've been writing about climate change being ...  ...  ['https://www.nytimes.com/2020/02/23/world/aus...\n",
              "\n",
              "[577296 rows x 4 columns]"
            ]
          },
          "metadata": {},
          "execution_count": 6
        }
      ]
    },
    {
      "cell_type": "markdown",
      "metadata": {
        "id": "zwltvxhZk7eV"
      },
      "source": [
        "### Sentimental Analysis"
      ]
    }
  ]
}